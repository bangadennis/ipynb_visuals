{
 "metadata": {
  "name": ""
 },
 "nbformat": 3,
 "nbformat_minor": 0,
 "worksheets": [
  {
   "cells": [
    {
     "cell_type": "heading",
     "level": 1,
     "metadata": {},
     "source": [
      "Knowledge Base Group "
     ]
    },
    {
     "cell_type": "code",
     "collapsed": false,
     "input": [
      "#import files\n",
      "from random import random \n",
      "import numpy as np\n",
      "\n",
      "N=13\n",
      "choices=['Banana Classification', 'Diagnosis of Ebola', 'Career Path for CS', 'Stroke', 'Dietry and Nutrition Advisor', 'Investment Advisor']\n",
      "choices=choices+['Banana Classification', 'Diagnosis of Ebola', 'Career Path for CS', 'Stroke', 'Dietry and Nutrition Advisor', 'Investment Advisor']\n",
      "#Reshuffling choices\n",
      "for i in range(1, N):\n",
      "    np.random.shuffle(choices)\n",
      "\n",
      "print('Knowledge Base Group Assignment')\n",
      "print('-----------------------------------')\n",
      "for group in range(1,N):\n",
      "    print('Group-{0}, Assigned Project- {1}').format(group, choices[group -1 ])\n",
      "    \n",
      "print('-----------------------------------')\n",
      "\n"
     ],
     "language": "python",
     "metadata": {},
     "outputs": [
      {
       "output_type": "stream",
       "stream": "stdout",
       "text": [
        "Knowledge Base Group Assignment\n",
        "-----------------------------------\n",
        "Group-1, Assigned Project- Diagnosis of Ebola\n",
        "Group-2, Assigned Project- Stroke\n",
        "Group-3, Assigned Project- Diagnosis of Ebola\n",
        "Group-4, Assigned Project- Stroke\n",
        "Group-5, Assigned Project- Career Path for CS\n",
        "Group-6, Assigned Project- Banana Classification\n",
        "Group-7, Assigned Project- Investment Advisor\n",
        "Group-8, Assigned Project- Dietry and Nutrition Advisor\n",
        "Group-9, Assigned Project- Banana Classification\n",
        "Group-10, Assigned Project- Career Path for CS\n",
        "Group-11, Assigned Project- Dietry and Nutrition Advisor\n",
        "Group-12, Assigned Project- Investment Advisor\n",
        "-----------------------------------\n"
       ]
      }
     ],
     "prompt_number": 150
    },
    {
     "cell_type": "markdown",
     "metadata": {},
     "source": [
      "\n"
     ]
    },
    {
     "cell_type": "markdown",
     "metadata": {},
     "source": []
    },
    {
     "cell_type": "code",
     "collapsed": false,
     "input": [],
     "language": "python",
     "metadata": {},
     "outputs": [],
     "prompt_number": 146
    },
    {
     "cell_type": "code",
     "collapsed": false,
     "input": [],
     "language": "python",
     "metadata": {},
     "outputs": [],
     "prompt_number": 146
    },
    {
     "cell_type": "code",
     "collapsed": false,
     "input": [],
     "language": "python",
     "metadata": {},
     "outputs": []
    }
   ],
   "metadata": {}
  }
 ]
}