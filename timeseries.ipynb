{
 "metadata": {
  "name": ""
 },
 "nbformat": 3,
 "nbformat_minor": 0,
 "worksheets": [
  {
   "cells": [
    {
     "cell_type": "code",
     "collapsed": false,
     "input": [
      "ls"
     ],
     "language": "python",
     "metadata": {},
     "outputs": [
      {
       "output_type": "stream",
       "stream": "stdout",
       "text": [
        "\u001b[0m\u001b[01;34mAndroid\u001b[0m/                 \u001b[01;34mIdeaProjects\u001b[0m/                   \u001b[01;34mPacketTracer5\u001b[0m/\r\n",
        "\u001b[01;34mandroid-studio\u001b[0m/          \u001b[01;34minterview\u001b[0m/                      pci.txt~\r\n",
        "\u001b[01;34mAndroidStudioProjects\u001b[0m/   \u001b[01;34mjade\u001b[0m/                           pgadmin.log\r\n",
        "\u001b[01;34mApps\u001b[0m/                    \u001b[01;34mjava\u001b[0m/                           \u001b[34;42mPictures\u001b[0m/\r\n",
        "\u001b[01;34mbootstrap\u001b[0m/               java0.log                       \u001b[01;34mProjects_Active\u001b[0m/\r\n",
        "Dennis.ipynb             java_error_in_STUDIO_22482.log  \u001b[01;34mPublic\u001b[0m/\r\n",
        "Desiderata.pdf           java_error_in_STUDIO_4007.log   \u001b[01;34mpycharm-4.5.1\u001b[0m/\r\n",
        "\u001b[01;34mDesktop\u001b[0m/                 \u001b[01;34mjdk1.8.0_20\u001b[0m/                    \u001b[01;34mPycharmProjects\u001b[0m/\r\n",
        "\u001b[01;34mdhis2\u001b[0m/                   \u001b[01;34mKomodo-Edit-8\u001b[0m/                  \u001b[01;34mpython\u001b[0m/\r\n",
        "\u001b[01;34mdjango_rest\u001b[0m/             \u001b[01;34mKomodo-IDE-8\u001b[0m/                   \u001b[01;34mR\u001b[0m/\r\n",
        "\u001b[01;34mDoc\u001b[0m/                     learning.ipynb                  \u001b[01;34mRubymineProjects\u001b[0m/\r\n",
        "\u001b[01;34mDocuments\u001b[0m/               \u001b[01;34mlib\u001b[0m/                            \u001b[01;34msensor_data\u001b[0m/\r\n",
        "\u001b[01;34mDownloads\u001b[0m/               loop.pro~                       \u001b[01;34mtaskbuster_project\u001b[0m/\r\n",
        "\u001b[01;34mDropbox\u001b[0m/                 master                          \u001b[01;34mTemplates\u001b[0m/\r\n",
        "\u001b[01;34mdwhelper\u001b[0m/                \u001b[01;34mMEGAsync\u001b[0m/                       timeseries.ipynb\r\n",
        "\u001b[01;34meclipseLuna\u001b[0m/             ML-Andrew Ng.ipynb              \u001b[01;34mtmp\u001b[0m/\r\n",
        "\u001b[01;34mfDoc\u001b[0m/                    \u001b[01;31mmnist.pkl.gz\u001b[0m                    \u001b[01;34mtomcat-dhis\u001b[0m/\r\n",
        "\u001b[01;35mFirefox_wallpaper.png\u001b[0m    MTPs-Main-Container.txt         \u001b[01;34mUbuntu One\u001b[0m/\r\n",
        "\u001b[01;34mfontconfig\u001b[0m/              \u001b[01;34mMusic\u001b[0m/                          \u001b[01;35muplaodprogress1.jpg\u001b[0m\r\n",
        "\u001b[01;34mgradle-2.1\u001b[0m/              \u001b[01;34mnetbeans-8.0.1\u001b[0m/                 \u001b[01;34mVideos\u001b[0m/\r\n",
        "Group Assignment .ipynb  \u001b[01;34mNetBeansProjects\u001b[0m/               \u001b[01;34mvirtenvs\u001b[0m/\r\n",
        "\u001b[01;34mhts-cache\u001b[0m/               \u001b[01;34mOctave\u001b[0m/                         \u001b[01;34mvirtualenvs\u001b[0m/\r\n",
        "\u001b[01;34midea-IU-141.713.2\u001b[0m/       octave-workspace                \u001b[01;34mworkspace\u001b[0m/\r\n"
       ]
      }
     ],
     "prompt_number": 2
    },
    {
     "cell_type": "code",
     "collapsed": false,
     "input": [
      "cd sensor_data/"
     ],
     "language": "python",
     "metadata": {},
     "outputs": [
      {
       "output_type": "stream",
       "stream": "stdout",
       "text": [
        "/home/banga/sensor_data\n"
       ]
      }
     ],
     "prompt_number": 3
    },
    {
     "cell_type": "code",
     "collapsed": false,
     "input": [
      "pwd"
     ],
     "language": "python",
     "metadata": {},
     "outputs": [
      {
       "metadata": {},
       "output_type": "pyout",
       "prompt_number": 4,
       "text": [
        "u'/home/banga/sensor_data'"
       ]
      }
     ],
     "prompt_number": 4
    },
    {
     "cell_type": "code",
     "collapsed": false,
     "input": [
      "%pwd"
     ],
     "language": "python",
     "metadata": {},
     "outputs": [
      {
       "metadata": {},
       "output_type": "pyout",
       "prompt_number": 5,
       "text": [
        "u'/home/banga/sensor_data'"
       ]
      }
     ],
     "prompt_number": 5
    },
    {
     "cell_type": "code",
     "collapsed": false,
     "input": [
      "ls"
     ],
     "language": "python",
     "metadata": {},
     "outputs": [
      {
       "output_type": "stream",
       "stream": "stdout",
       "text": [
        "\u001b[0m\u001b[01;32mSensor_record_20151001_114554_AndroSensor.csv\u001b[0m*\r\n",
        "\u001b[01;32mSensor_record_20151001_114604_AndroSensor.csv\u001b[0m*\r\n",
        "\u001b[01;32mSensor_record_20151001_145936_AndroSensor.csv\u001b[0m*\r\n",
        "\u001b[01;32mSensor_record_20151003_135354_AndroSensor.csv\u001b[0m*\r\n",
        "\u001b[01;32mSensor_record_20151003_161307_AndroSensor.csv\u001b[0m*\r\n",
        "\u001b[01;32mSensor_record_20151003_175134_AndroSensor.csv\u001b[0m*\r\n",
        "\u001b[01;32mSensor_record_20151004_135024_AndroSensor.csv\u001b[0m*\r\n",
        "\u001b[01;32mSensor_record_20151010_151214_AndroSensor.csv\u001b[0m*\r\n",
        "\u001b[01;32mSensor_record_20151010_152001_AndroSensor.csv\u001b[0m*\r\n",
        "\u001b[01;32mSensor_record_20151010_190308_AndroSensor.csv\u001b[0m*\r\n"
       ]
      }
     ],
     "prompt_number": 6
    },
    {
     "cell_type": "code",
     "collapsed": false,
     "input": [
      "%reload_ext version_information\n",
      "%version_information numpy, scipy, matplotlib"
     ],
     "language": "python",
     "metadata": {},
     "outputs": [
      {
       "html": [
        "<table><tr><th>Software</th><th>Version</th></tr><tr><td>Python</td><td>2.7.6 32bit [GCC 4.8.2]</td></tr><tr><td>IPython</td><td>1.2.1</td></tr><tr><td>OS</td><td>Linux 3.13.0 57 generic i686 with Ubuntu 14.04 trusty</td></tr><tr><td>numpy</td><td>1.8.2</td></tr><tr><td>scipy</td><td>0.15.1</td></tr><tr><td>matplotlib</td><td>1.3.1</td></tr><tr><td colspan='2'>Sat Oct 24 18:28:49 2015 EAT</td></tr></table>"
       ],
       "json": [
        "{\"Software versions\": [{\"version\": \"2.7.6 32bit [GCC 4.8.2]\", \"module\": \"Python\"}, {\"version\": \"1.2.1\", \"module\": \"IPython\"}, {\"version\": \"Linux 3.13.0 57 generic i686 with Ubuntu 14.04 trusty\", \"module\": \"OS\"}, {\"version\": \"1.8.2\", \"module\": \"numpy\"}, {\"version\": \"0.15.1\", \"module\": \"scipy\"}, {\"version\": \"1.3.1\", \"module\": \"matplotlib\"}]}"
       ],
       "latex": [
        "\\begin{tabular}{|l|l|}\\hline\n",
        "{\\bf Software} & {\\bf Version} \\\\ \\hline\\hline\n",
        "Python & 2.7.6 32bit [GCC 4.8.2] \\\\ \\hline\n",
        "IPython & 1.2.1 \\\\ \\hline\n",
        "OS & Linux 3.13.0 57 generic i686 with Ubuntu 14.04 trusty \\\\ \\hline\n",
        "numpy & 1.8.2 \\\\ \\hline\n",
        "scipy & 0.15.1 \\\\ \\hline\n",
        "matplotlib & 1.3.1 \\\\ \\hline\n",
        "\\hline \\multicolumn{2}{|l|}{Sat Oct 24 18:28:49 2015 EAT} \\\\ \\hline\n",
        "\\end{tabular}\n"
       ],
       "metadata": {},
       "output_type": "pyout",
       "prompt_number": 7,
       "text": [
        "Software versions\n",
        "Python 2.7.6 32bit [GCC 4.8.2]\n",
        "IPython 1.2.1\n",
        "OS Linux 3.13.0 57 generic i686 with Ubuntu 14.04 trusty\n",
        "numpy 1.8.2\n",
        "scipy 0.15.1\n",
        "matplotlib 1.3.1\n",
        "Sat Oct 24 18:28:49 2015 EAT"
       ]
      }
     ],
     "prompt_number": 7
    },
    {
     "cell_type": "code",
     "collapsed": false,
     "input": [
      "%matplotlib inline"
     ],
     "language": "python",
     "metadata": {},
     "outputs": [],
     "prompt_number": 8
    },
    {
     "cell_type": "code",
     "collapsed": false,
     "input": [
      "from pylab import *"
     ],
     "language": "python",
     "metadata": {},
     "outputs": [],
     "prompt_number": 9
    },
    {
     "cell_type": "code",
     "collapsed": false,
     "input": [
      "import matplotlib \n",
      "import matplotlib.pyplot"
     ],
     "language": "python",
     "metadata": {},
     "outputs": [],
     "prompt_number": 10
    },
    {
     "cell_type": "code",
     "collapsed": false,
     "input": [
      "import numpy as np"
     ],
     "language": "python",
     "metadata": {},
     "outputs": [],
     "prompt_number": 11
    },
    {
     "cell_type": "code",
     "collapsed": false,
     "input": [
      "x=np.linspace(0,5,10)\n",
      "y=x**2"
     ],
     "language": "python",
     "metadata": {},
     "outputs": [],
     "prompt_number": 12
    },
    {
     "cell_type": "code",
     "collapsed": false,
     "input": [
      "x"
     ],
     "language": "python",
     "metadata": {},
     "outputs": [
      {
       "metadata": {},
       "output_type": "pyout",
       "prompt_number": 13,
       "text": [
        "array([ 0.        ,  0.55555556,  1.11111111,  1.66666667,  2.22222222,\n",
        "        2.77777778,  3.33333333,  3.88888889,  4.44444444,  5.        ])"
       ]
      }
     ],
     "prompt_number": 13
    },
    {
     "cell_type": "code",
     "collapsed": false,
     "input": [
      "figure()\n",
      "plot(x,y, 'r')\n",
      "xlabel('x')\n",
      "ylabel('y')\n",
      "title('title')\n",
      "show()"
     ],
     "language": "python",
     "metadata": {},
     "outputs": [
      {
       "metadata": {},
       "output_type": "display_data",
       "png": "[encoded data removed]",
       "text": [
        "<matplotlib.figure.Figure at 0xb0c87aac>"
       ]
      }
     ],
     "prompt_number": 14
    },
    {
     "cell_type": "code",
     "collapsed": false,
     "input": [
      "subplot(1,2,1)\n",
      "plot(x, y, 'r--')\n",
      "subplot(1,2,2)"
     ],
     "language": "python",
     "metadata": {},
     "outputs": [
      {
       "metadata": {},
       "output_type": "pyout",
       "prompt_number": 15,
       "text": [
        "<matplotlib.axes.AxesSubplot at 0xb0c3356c>"
       ]
      },
      {
       "metadata": {},
       "output_type": "display_data",
       "png": "[encoded data removed]",
       "text": [
        "<matplotlib.figure.Figure at 0xb0c4d46c>"
       ]
      }
     ],
     "prompt_number": 15
    },
    {
     "cell_type": "code",
     "collapsed": false,
     "input": [
      "plot(y,x, 'g*-')"
     ],
     "language": "python",
     "metadata": {},
     "outputs": [
      {
       "metadata": {},
       "output_type": "pyout",
       "prompt_number": 16,
       "text": [
        "[<matplotlib.lines.Line2D at 0xb0af69ac>]"
       ]
      },
      {
       "metadata": {},
       "output_type": "display_data",
       "png": "[encoded data removed]",
       "text": [
        "<matplotlib.figure.Figure at 0xb0b660ac>"
       ]
      }
     ],
     "prompt_number": 16
    },
    {
     "cell_type": "code",
     "collapsed": false,
     "input": [
      "fig=plt.figure()\n",
      "\n",
      "axes=fig.add_axes([0.1,0.1,0.8,0.8])\n",
      "\n",
      "axes.plot(x,y, 'r')\n",
      "\n",
      "axes.set_xlabel('x')\n",
      "axes.set_ylabel('y')\n",
      "axes.set_title('title')\n"
     ],
     "language": "python",
     "metadata": {},
     "outputs": [
      {
       "metadata": {},
       "output_type": "pyout",
       "prompt_number": 17,
       "text": [
        "<matplotlib.text.Text at 0xb0ab514c>"
       ]
      },
      {
       "metadata": {},
       "output_type": "display_data",
       "png": "[encoded data removed]",
       "text": [
        "<matplotlib.figure.Figure at 0xb0bc576c>"
       ]
      }
     ],
     "prompt_number": 17
    },
    {
     "cell_type": "code",
     "collapsed": false,
     "input": [
      "fig=plt.figure()\n",
      "axes1=fig.add_axes([0.1,0.1,0.8,0.8])\n",
      "axes2=fig.add_axes([0.2,0.5,0.3,0.3])\n",
      "\n",
      "axes1.plot(x, y, 'r')\n",
      "axes2.plot(y,x, 'b')\n"
     ],
     "language": "python",
     "metadata": {},
     "outputs": [
      {
       "metadata": {},
       "output_type": "pyout",
       "prompt_number": 24,
       "text": [
        "[<matplotlib.lines.Line2D at 0xb0694a0c>]"
       ]
      },
      {
       "metadata": {},
       "output_type": "display_data",
       "png": "[encoded data removed]",
       "text": [
        "<matplotlib.figure.Figure at 0xb07582cc>"
       ]
      }
     ],
     "prompt_number": 24
    },
    {
     "cell_type": "code",
     "collapsed": false,
     "input": [
      "fig.savefig('d.png')"
     ],
     "language": "python",
     "metadata": {},
     "outputs": [],
     "prompt_number": 25
    },
    {
     "cell_type": "code",
     "collapsed": false,
     "input": [
      "ls"
     ],
     "language": "python",
     "metadata": {},
     "outputs": [
      {
       "output_type": "stream",
       "stream": "stdout",
       "text": [
        "\u001b[0m\u001b[01;35md.png\u001b[0m\r\n",
        "\u001b[01;32mSensor_record_20151001_114554_AndroSensor.csv\u001b[0m*\r\n",
        "\u001b[01;32mSensor_record_20151001_114604_AndroSensor.csv\u001b[0m*\r\n",
        "\u001b[01;32mSensor_record_20151001_145936_AndroSensor.csv\u001b[0m*\r\n",
        "\u001b[01;32mSensor_record_20151003_135354_AndroSensor.csv\u001b[0m*\r\n",
        "\u001b[01;32mSensor_record_20151003_161307_AndroSensor.csv\u001b[0m*\r\n",
        "\u001b[01;32mSensor_record_20151003_175134_AndroSensor.csv\u001b[0m*\r\n",
        "\u001b[01;32mSensor_record_20151004_135024_AndroSensor.csv\u001b[0m*\r\n",
        "\u001b[01;32mSensor_record_20151010_151214_AndroSensor.csv\u001b[0m*\r\n",
        "\u001b[01;32mSensor_record_20151010_152001_AndroSensor.csv\u001b[0m*\r\n",
        "\u001b[01;32mSensor_record_20151010_190308_AndroSensor.csv\u001b[0m*\r\n"
       ]
      }
     ],
     "prompt_number": 26
    },
    {
     "cell_type": "code",
     "collapsed": false,
     "input": [
      "fig, axes=plt.subplots(nrows=2,ncols=3)\n",
      "axes"
     ],
     "language": "python",
     "metadata": {},
     "outputs": [
      {
       "metadata": {},
       "output_type": "pyout",
       "prompt_number": 32,
       "text": [
        "array([[<matplotlib.axes.AxesSubplot object at 0xb027582c>,\n",
        "        <matplotlib.axes.AxesSubplot object at 0xb049074c>,\n",
        "        <matplotlib.axes.AxesSubplot object at 0xb04ccc0c>],\n",
        "       [<matplotlib.axes.AxesSubplot object at 0xb05b33ac>,\n",
        "        <matplotlib.axes.AxesSubplot object at 0xb060ceec>,\n",
        "        <matplotlib.axes.AxesSubplot object at 0xb05ac1ec>]], dtype=object)"
       ]
      },
      {
       "metadata": {},
       "output_type": "display_data",
       "png": "[encoded data removed]",
       "text": [
        "<matplotlib.figure.Figure at 0xb029a34c>"
       ]
      }
     ],
     "prompt_number": 32
    },
    {
     "cell_type": "code",
     "collapsed": false,
     "input": [
      "fig, ax = plt.subplots()\n",
      "\n",
      "ax.plot(x, x**2, label=\"y = x**2\")\n",
      "ax.plot(x, x**3, label=\"y = x**3\")\n",
      "ax.legend(loc=2); # upper left corner\n",
      "ax.set_xlabel('x')\n",
      "ax.set_ylabel('y')\n",
      "ax.set_title('title');"
     ],
     "language": "python",
     "metadata": {},
     "outputs": [
      {
       "metadata": {},
       "output_type": "display_data",
       "png": "[encoded data removed]",
       "text": [
        "<matplotlib.figure.Figure at 0xb03732cc>"
       ]
      }
     ],
     "prompt_number": 36
    },
    {
     "cell_type": "code",
     "collapsed": false,
     "input": [
      "matplotlib.rcParams.update({'font.size': 18, 'font.family': 'serif'})"
     ],
     "language": "python",
     "metadata": {},
     "outputs": [],
     "prompt_number": 37
    },
    {
     "cell_type": "code",
     "collapsed": false,
     "input": [
      " \n",
      "fig, ax = plt.subplots()\n",
      "\n",
      "ax.plot(x, x**2, label=r\"$y = \\alpha^2$\")\n",
      "ax.plot(x, x**3, label=r\"$y = \\alpha^3$\")\n",
      "ax.legend(loc=2) # upper left corner\n",
      "ax.set_xlabel(r'$\\alpha$')\n",
      "ax.set_ylabel(r'$y$')\n",
      "ax.set_title('title');\n"
     ],
     "language": "python",
     "metadata": {},
     "outputs": [
      {
       "metadata": {},
       "output_type": "display_data",
       "png": "[encoded data removed]",
       "text": [
        "<matplotlib.figure.Figure at 0xb02c022c>"
       ]
      }
     ],
     "prompt_number": 38
    },
    {
     "cell_type": "code",
     "collapsed": false,
     "input": [
      "from mpl_toolkits.mplot3d.axes3d import Axes3D"
     ],
     "language": "python",
     "metadata": {},
     "outputs": [],
     "prompt_number": 39
    },
    {
     "cell_type": "code",
     "collapsed": false,
     "input": [
      "fig = plt.figure(figsize=(14,6))\n",
      "\n",
      "# `ax` is a 3D-aware axis instance because of the projection='3d' keyword argument to add_subplot\n",
      "ax = fig.add_subplot(1, 2, 1, projection='3d')\n",
      "\n",
      "p = ax.plot_surface(X, Y, Z, rstride=4, cstride=4, linewidth=0)\n",
      "\n",
      "# surface_plot with color grading and color bar\n",
      "ax = fig.add_subplot(1, 2, 2, projection='3d')\n",
      "p = ax.plot_surface(X, Y, Z, rstride=1, cstride=1, cmap=matplotlib.cm.coolwarm, linewidth=0, antialiased=False)\n",
      "cb = fig.colorbar(p, shrink=0.5)"
     ],
     "language": "python",
     "metadata": {},
     "outputs": [
      {
       "ename": "NameError",
       "evalue": "name 'X' is not defined",
       "output_type": "pyerr",
       "traceback": [
        "\u001b[0;31m---------------------------------------------------------------------------\u001b[0m\n\u001b[0;31mNameError\u001b[0m                                 Traceback (most recent call last)",
        "\u001b[0;32m<ipython-input-40-aed760405ffb>\u001b[0m in \u001b[0;36m<module>\u001b[0;34m()\u001b[0m\n\u001b[1;32m      4\u001b[0m \u001b[0max\u001b[0m \u001b[0;34m=\u001b[0m \u001b[0mfig\u001b[0m\u001b[0;34m.\u001b[0m\u001b[0madd_subplot\u001b[0m\u001b[0;34m(\u001b[0m\u001b[0;36m1\u001b[0m\u001b[0;34m,\u001b[0m \u001b[0;36m2\u001b[0m\u001b[0;34m,\u001b[0m \u001b[0;36m1\u001b[0m\u001b[0;34m,\u001b[0m \u001b[0mprojection\u001b[0m\u001b[0;34m=\u001b[0m\u001b[0;34m'3d'\u001b[0m\u001b[0;34m)\u001b[0m\u001b[0;34m\u001b[0m\u001b[0m\n\u001b[1;32m      5\u001b[0m \u001b[0;34m\u001b[0m\u001b[0m\n\u001b[0;32m----> 6\u001b[0;31m \u001b[0mp\u001b[0m \u001b[0;34m=\u001b[0m \u001b[0max\u001b[0m\u001b[0;34m.\u001b[0m\u001b[0mplot_surface\u001b[0m\u001b[0;34m(\u001b[0m\u001b[0mX\u001b[0m\u001b[0;34m,\u001b[0m \u001b[0mY\u001b[0m\u001b[0;34m,\u001b[0m \u001b[0mZ\u001b[0m\u001b[0;34m,\u001b[0m \u001b[0mrstride\u001b[0m\u001b[0;34m=\u001b[0m\u001b[0;36m4\u001b[0m\u001b[0;34m,\u001b[0m \u001b[0mcstride\u001b[0m\u001b[0;34m=\u001b[0m\u001b[0;36m4\u001b[0m\u001b[0;34m,\u001b[0m \u001b[0mlinewidth\u001b[0m\u001b[0;34m=\u001b[0m\u001b[0;36m0\u001b[0m\u001b[0;34m)\u001b[0m\u001b[0;34m\u001b[0m\u001b[0m\n\u001b[0m\u001b[1;32m      7\u001b[0m \u001b[0;34m\u001b[0m\u001b[0m\n\u001b[1;32m      8\u001b[0m \u001b[0;31m# surface_plot with color grading and color bar\u001b[0m\u001b[0;34m\u001b[0m\u001b[0;34m\u001b[0m\u001b[0m\n",
        "\u001b[0;31mNameError\u001b[0m: name 'X' is not defined"
       ]
      },
      {
       "metadata": {},
       "output_type": "display_data",
       "png": "[encoded data removed]",
       "text": [
        "<matplotlib.figure.Figure at 0xb032130c>"
       ]
      }
     ],
     "prompt_number": 40
    },
    {
     "cell_type": "code",
     "collapsed": false,
     "input": [
      "cd Desktop"
     ],
     "language": "python",
     "metadata": {},
     "outputs": [
      {
       "output_type": "stream",
       "stream": "stdout",
       "text": [
        "/home/banga/Desktop\n"
       ]
      }
     ],
     "prompt_number": 1
    },
    {
     "cell_type": "code",
     "collapsed": false,
     "input": [
      "ls"
     ],
     "language": "python",
     "metadata": {},
     "outputs": [
      {
       "output_type": "stream",
       "stream": "stdout",
       "text": [
        "1157.pdf\r\n",
        "\u001b[0m\u001b[01;34m4th Year Notes\u001b[0m/\r\n",
        "\u001b[01;34maccelerometer-1\u001b[0m/\r\n",
        "\u001b[01;34mbangah_me\u001b[0m/\r\n",
        "\u001b[01;34mBootCamp\u001b[0m/\r\n",
        "\u001b[01;34mbtsync\u001b[0m/\r\n",
        "\u001b[01;34mclips\u001b[0m/\r\n",
        "\u001b[01;34mcronjob_tasks\u001b[0m/\r\n",
        "Csc217.txt~\r\n",
        "\u001b[01;34mdata\u001b[0m/\r\n",
        "\u001b[01;34mDeep Learning\u001b[0m/\r\n",
        "dhis2_implementation_guide_en.pdf\r\n",
        "\u001b[01;34mdhisform\u001b[0m/\r\n",
        "download_07_04_2014_12_42_27.pdf\r\n",
        "DTWAlgorithm.ppt\r\n",
        "fmaps.txt~\r\n",
        "FULLTEXT01.pdf\r\n",
        "groupskbs\r\n",
        "\u001b[01;34mhotspotd-master\u001b[0m/\r\n",
        "Inpatient Module.pptx\r\n",
        "\u001b[01;34mjprp\u001b[0m/\r\n",
        "junit_tutorial.pdf\r\n",
        "\u001b[01;32mkomodo-ide-8.desktop\u001b[0m*\r\n",
        "\u001b[01;34mlearn\u001b[0m/\r\n",
        "\u001b[01;34mmongodb-manual\u001b[0m/\r\n",
        "\u001b[01;34mmydocs\u001b[0m/\r\n",
        "\u001b[01;34mpandas-cookbook-master\u001b[0m/\r\n",
        "Paper_driving_style_recognition.pdf\r\n",
        "PARTNERS.xlsx\r\n",
        "\u001b[01;34mpopover\u001b[0m/\r\n",
        "PratkanisKuspa-ClassificationOfMobileDeviceAccelerometerDataforUniqueActivityIdentification.pdf\r\n",
        "Stoichkov-Projektarbeit.pdf\r\n",
        "\u001b[01;31mSunshine-Version-2-1.01_hello_world.zip\u001b[0m\r\n",
        "tabes.txt\r\n",
        "triangle.pro~\r\n",
        "Untitled Document~\r\n",
        "Young males driving style study.pdf\r\n"
       ]
      }
     ],
     "prompt_number": 2
    },
    {
     "cell_type": "code",
     "collapsed": false,
     "input": [
      "cd accelerometer-1/trace1/"
     ],
     "language": "python",
     "metadata": {},
     "outputs": [
      {
       "output_type": "stream",
       "stream": "stdout",
       "text": [
        "/home/banga/Desktop/accelerometer-1/trace1\n"
       ]
      }
     ],
     "prompt_number": 3
    },
    {
     "cell_type": "code",
     "collapsed": false,
     "input": [
      "import numpy as np"
     ],
     "language": "python",
     "metadata": {},
     "outputs": [],
     "prompt_number": 5
    },
    {
     "cell_type": "code",
     "collapsed": false,
     "input": [
      "my_data = np.genfromtxt('Measurer.csv', delimiter=',')"
     ],
     "language": "python",
     "metadata": {},
     "outputs": [
      {
       "ename": "ValueError",
       "evalue": "Some errors were detected !\n    Line #16062 (got 2 columns instead of 6)",
       "output_type": "pyerr",
       "traceback": [
        "\u001b[0;31m---------------------------------------------------------------------------\u001b[0m\n\u001b[0;31mValueError\u001b[0m                                Traceback (most recent call last)",
        "\u001b[0;32m<ipython-input-7-36826fe6187b>\u001b[0m in \u001b[0;36m<module>\u001b[0;34m()\u001b[0m\n\u001b[0;32m----> 1\u001b[0;31m \u001b[0mmy_data\u001b[0m \u001b[0;34m=\u001b[0m \u001b[0mnp\u001b[0m\u001b[0;34m.\u001b[0m\u001b[0mgenfromtxt\u001b[0m\u001b[0;34m(\u001b[0m\u001b[0;34m'Measurer.csv'\u001b[0m\u001b[0;34m,\u001b[0m \u001b[0mdelimiter\u001b[0m\u001b[0;34m=\u001b[0m\u001b[0;34m','\u001b[0m\u001b[0;34m)\u001b[0m\u001b[0;34m\u001b[0m\u001b[0m\n\u001b[0m",
        "\u001b[0;32m/usr/lib/python2.7/dist-packages/numpy/lib/npyio.pyc\u001b[0m in \u001b[0;36mgenfromtxt\u001b[0;34m(fname, dtype, comments, delimiter, skiprows, skip_header, skip_footer, converters, missing, missing_values, filling_values, usecols, names, excludelist, deletechars, replace_space, autostrip, case_sensitive, defaultfmt, unpack, usemask, loose, invalid_raise)\u001b[0m\n\u001b[1;32m   1665\u001b[0m             \u001b[0;31m# Raise an exception ?\u001b[0m\u001b[0;34m\u001b[0m\u001b[0;34m\u001b[0m\u001b[0m\n\u001b[1;32m   1666\u001b[0m             \u001b[0;32mif\u001b[0m \u001b[0minvalid_raise\u001b[0m\u001b[0;34m:\u001b[0m\u001b[0;34m\u001b[0m\u001b[0m\n\u001b[0;32m-> 1667\u001b[0;31m                 \u001b[0;32mraise\u001b[0m \u001b[0mValueError\u001b[0m\u001b[0;34m(\u001b[0m\u001b[0merrmsg\u001b[0m\u001b[0;34m)\u001b[0m\u001b[0;34m\u001b[0m\u001b[0m\n\u001b[0m\u001b[1;32m   1668\u001b[0m             \u001b[0;31m# Issue a warning ?\u001b[0m\u001b[0;34m\u001b[0m\u001b[0;34m\u001b[0m\u001b[0m\n\u001b[1;32m   1669\u001b[0m             \u001b[0;32melse\u001b[0m\u001b[0;34m:\u001b[0m\u001b[0;34m\u001b[0m\u001b[0m\n",
        "\u001b[0;31mValueError\u001b[0m: Some errors were detected !\n    Line #16062 (got 2 columns instead of 6)"
       ]
      }
     ],
     "prompt_number": 7
    },
    {
     "cell_type": "code",
     "collapsed": false,
     "input": [
      "import pandas as pd"
     ],
     "language": "python",
     "metadata": {},
     "outputs": [],
     "prompt_number": 8
    },
    {
     "cell_type": "code",
     "collapsed": false,
     "input": [
      "data=pd.read_csv('Measurer.csv', sep=',', header=True)"
     ],
     "language": "python",
     "metadata": {},
     "outputs": [],
     "prompt_number": 15
    },
    {
     "cell_type": "code",
     "collapsed": false,
     "input": [],
     "language": "python",
     "metadata": {},
     "outputs": []
    },
    {
     "cell_type": "code",
     "collapsed": false,
     "input": [
      "data.drop"
     ],
     "language": "python",
     "metadata": {},
     "outputs": [
      {
       "metadata": {},
       "output_type": "pyout",
       "prompt_number": 19,
       "text": [
        "<bound method DataFrame.drop of                     33.58                        -3.29    6.32   \\\n",
        "0                  33.642                        -3.37     6.20   \n",
        "1                  33.705                        -3.25     6.28   \n",
        "2                  33.767                        -3.29     6.32   \n",
        "3                  33.829                        -3.22     6.28   \n",
        "4                  33.893                        -3.18     6.28   \n",
        "5                  33.956                        -3.29     6.24   \n",
        "6                  34.019                        -3.29     6.13   \n",
        "7                  34.083                        -3.02     6.20   \n",
        "8                  34.146                        -3.14     6.13   \n",
        "9                  34.209                        -3.29     6.01   \n",
        "10                 34.272                        -3.18     6.05   \n",
        "11                 34.335                        -3.22     6.05   \n",
        "12                 34.399                        -3.18     6.01   \n",
        "13                 34.462                         -3.1     6.01   \n",
        "14                 34.526                        -3.25     5.97   \n",
        "15                 34.589                        -3.29     6.01   \n",
        "16                 34.652                        -3.14     5.90   \n",
        "17                 34.715                        -3.22     6.05   \n",
        "18                 34.779                        -3.29     5.97   \n",
        "19                 34.842                        -3.33     5.93   \n",
        "20                 34.905                        -3.06     6.01   \n",
        "21                 34.969                        -2.45     5.78   \n",
        "22     35.032000000000004                        -1.68     5.78   \n",
        "23     35.096000000000004                        -2.14     6.01   \n",
        "24                 35.159                        -0.88     5.32   \n",
        "25                 35.223                        -1.84     5.51   \n",
        "26                 35.286                        -2.41     4.71   \n",
        "27     35.349000000000004          -2.7600000000000002     4.40   \n",
        "28     35.413000000000004          -2.5300000000000002     4.79   \n",
        "29                 35.476                        -1.42     6.05   \n",
        "...                    ...                          ...     ...   \n",
        "16030            1051.665                        -4.33     3.37   \n",
        "16031            1051.728                        -4.36     4.13   \n",
        "16032            1051.791                        -3.75     4.25   \n",
        "16033            1051.855                         -3.6     5.05   \n",
        "16034  1051.9180000000001                        -2.64     5.55   \n",
        "16035            1051.981                        -3.41     6.39   \n",
        "16036            1052.045                         -2.6     5.13   \n",
        "16037            1052.108                        -2.49     6.13   \n",
        "16038            1052.171                        -2.72     5.09   \n",
        "16039  1052.2350000000001                        -2.37     5.05   \n",
        "16040            1052.298                        -3.45     5.70   \n",
        "16041            1052.362                        -3.67     6.28   \n",
        "16042            1052.425                         -3.1     6.24   \n",
        "16043            1052.489                        -2.37     6.20   \n",
        "16044  1052.5520000000001          -2.3000000000000003     6.13   \n",
        "16045            1052.615                        -2.95     6.05   \n",
        "16046            1052.679                        -2.72     6.01   \n",
        "16047            1052.742                         -3.1     5.97   \n",
        "16048            1052.805                        -3.18     6.05   \n",
        "16049            1052.869                        -2.91     5.93   \n",
        "16050            1052.932                        -2.95     6.01   \n",
        "16051  1052.9950000000001                        -3.18     6.13   \n",
        "16052            1053.059                        -2.87     6.05   \n",
        "16053            1053.122                        -2.91     6.05   \n",
        "16054            1053.185                        -3.14     6.16   \n",
        "16055            1053.249                        -2.87     6.05   \n",
        "16056  1053.3120000000001                        -2.79     6.09   \n",
        "16057            1053.375                        -2.99     6.16   \n",
        "16058            1053.438                        -3.02     6.24   \n",
        "16059                notes  dwarka etios drivr bali sir     NaN   \n",
        "\n",
        "        6.3500000000000005   0  0.1  \n",
        "0                     6.35   0    0  \n",
        "1                     6.43   0    0  \n",
        "2                     6.47   0    0  \n",
        "3                     6.28   0    0  \n",
        "4                     6.51   0    0  \n",
        "5                     6.43   0    0  \n",
        "6                     6.58   0    0  \n",
        "7                     6.70   0    0  \n",
        "8                     6.47   0    0  \n",
        "9                     6.66   0    0  \n",
        "10                    6.70   0    0  \n",
        "11                    6.78   0    0  \n",
        "12                    6.62   0    0  \n",
        "13                    6.81   0    0  \n",
        "14                    6.62   0    0  \n",
        "15                    6.70   0    0  \n",
        "16                    6.81   0    0  \n",
        "17                    6.74   0    0  \n",
        "18                    6.62   0    0  \n",
        "19                    6.05   0    0  \n",
        "20                    7.58   0    0  \n",
        "21                    7.43   0    0  \n",
        "22                    7.04   0    0  \n",
        "23                    7.16   0    0  \n",
        "24                    7.20   0    0  \n",
        "25                    8.04   0    0  \n",
        "26                    8.12   0    0  \n",
        "27                    7.96   0    0  \n",
        "28                    8.15   0    0  \n",
        "29                    7.50   0    0  \n",
        "...                    ...  ..  ...  \n",
        "16030                 7.39   0    0  \n",
        "16031                 8.23   0    0  \n",
        "16032                 8.08   0    0  \n",
        "16033                 6.09   0    0  \n",
        "16034                 6.89   0    0  \n",
        "16035                 7.04   0    0  \n",
        "16036                 7.46   0    0  \n",
        "16037                 7.69   0    0  \n",
        "16038                 6.16   0    0  \n",
        "16039                 7.08   0    0  \n",
        "16040                 5.40   0    0  \n",
        "16041                 5.93   0    0  \n",
        "16042                 5.28   0    0  \n",
        "16043                 6.32   0    0  \n",
        "16044                 7.01   0    0  \n",
        "16045                 7.04   0    0  \n",
        "16046                 6.62   0    0  \n",
        "16047                 6.70   0    0  \n",
        "16048                 6.28   0    0  \n",
        "16049                 6.62   0    0  \n",
        "16050                 6.93   0    0  \n",
        "16051                 6.85   0    0  \n",
        "16052                 6.85   0    0  \n",
        "16053                 6.74   0    0  \n",
        "16054                 6.35   0    0  \n",
        "16055                 6.58   0    0  \n",
        "16056                 6.62   0    0  \n",
        "16057                 6.55   0    0  \n",
        "16058                 6.16   0    0  \n",
        "16059                  NaN NaN  NaN  \n",
        "\n",
        "[16060 rows x 6 columns]>"
       ]
      }
     ],
     "prompt_number": 19
    },
    {
     "cell_type": "code",
     "collapsed": false,
     "input": [],
     "language": "python",
     "metadata": {},
     "outputs": [],
     "prompt_number": 14
    },
    {
     "cell_type": "code",
     "collapsed": false,
     "input": [
      "data.as_matrix()"
     ],
     "language": "python",
     "metadata": {},
     "outputs": [
      {
       "metadata": {},
       "output_type": "pyout",
       "prompt_number": 14,
       "text": [
        "array([['time', 'x-axis', 'y-axis', 'z-axis', 'Event1', 'Event2'],\n",
        "       ['33.58 ', ' -3.29 ', ' 6.32 ', ' 6.3500000000000005', '0', '0'],\n",
        "       ['33.642 ', ' -3.37 ', ' 6.2 ', ' 6.3500000000000005', '0', '0'],\n",
        "       ..., \n",
        "       ['1053.375 ', ' -2.99 ', ' 6.16 ', ' 6.55', '0', '0'],\n",
        "       ['1053.438 ', ' -3.02 ', ' 6.24 ', ' 6.16', '0', '0'],\n",
        "       ['notes', 'dwarka etios drivr bali sir', nan, nan, nan, nan]], dtype=object)"
       ]
      }
     ],
     "prompt_number": 14
    },
    {
     "cell_type": "code",
     "collapsed": false,
     "input": [],
     "language": "python",
     "metadata": {},
     "outputs": []
    },
    {
     "cell_type": "code",
     "collapsed": false,
     "input": [
      "ls"
     ],
     "language": "python",
     "metadata": {},
     "outputs": [
      {
       "output_type": "stream",
       "stream": "stdout",
       "text": [
        "Marker.csv  Measurer.csv  octave-workspace\r\n"
       ]
      }
     ],
     "prompt_number": 6
    },
    {
     "cell_type": "code",
     "collapsed": false,
     "input": [
      "data"
     ],
     "language": "python",
     "metadata": {},
     "outputs": [
      {
       "ename": "NameError",
       "evalue": "name 'data' is not defined",
       "output_type": "pyerr",
       "traceback": [
        "\u001b[0;31m---------------------------------------------------------------------------\u001b[0m\n\u001b[0;31mNameError\u001b[0m                                 Traceback (most recent call last)",
        "\u001b[0;32m<ipython-input-1-6137cde4893c>\u001b[0m in \u001b[0;36m<module>\u001b[0;34m()\u001b[0m\n\u001b[0;32m----> 1\u001b[0;31m \u001b[0mdata\u001b[0m\u001b[0;34m\u001b[0m\u001b[0m\n\u001b[0m",
        "\u001b[0;31mNameError\u001b[0m: name 'data' is not defined"
       ]
      },
      {
       "output_type": "stream",
       "stream": "stdout",
       "text": [
        "\n",
        "Caching the list of root modules, please wait!\n",
        "(This will only be done once - type '%rehashx' to reset cache!)\n",
        "\n"
       ]
      }
     ],
     "prompt_number": 1
    },
    {
     "cell_type": "code",
     "collapsed": false,
     "input": [
      "import pandas as pd"
     ],
     "language": "python",
     "metadata": {},
     "outputs": [],
     "prompt_number": 2
    },
    {
     "cell_type": "code",
     "collapsed": false,
     "input": [
      "ls"
     ],
     "language": "python",
     "metadata": {},
     "outputs": [
      {
       "output_type": "stream",
       "stream": "stdout",
       "text": [
        "\u001b[0m\u001b[01;34mAndroid\u001b[0m/                 \u001b[01;34mIdeaProjects\u001b[0m/                   \u001b[01;34mPacketTracer5\u001b[0m/\r\n",
        "\u001b[01;34mandroid-studio\u001b[0m/          \u001b[01;34minterview\u001b[0m/                      pci.txt~\r\n",
        "\u001b[01;34mAndroidStudioProjects\u001b[0m/   \u001b[01;34mjade\u001b[0m/                           pgadmin.log\r\n",
        "\u001b[01;34mApps\u001b[0m/                    \u001b[01;34mjava\u001b[0m/                           \u001b[34;42mPictures\u001b[0m/\r\n",
        "\u001b[01;34mbootstrap\u001b[0m/               java0.log                       \u001b[01;34mProjects_Active\u001b[0m/\r\n",
        "Dennis.ipynb             java_error_in_STUDIO_22482.log  \u001b[01;34mPublic\u001b[0m/\r\n",
        "Desiderata.pdf           java_error_in_STUDIO_4007.log   \u001b[01;34mpycharm-4.5.1\u001b[0m/\r\n",
        "\u001b[01;34mDesktop\u001b[0m/                 \u001b[01;34mjdk1.8.0_20\u001b[0m/                    \u001b[01;34mPycharmProjects\u001b[0m/\r\n",
        "\u001b[01;34mdhis2\u001b[0m/                   \u001b[01;34mKomodo-Edit-8\u001b[0m/                  \u001b[01;34mpython\u001b[0m/\r\n",
        "\u001b[01;34mdjango_rest\u001b[0m/             \u001b[01;34mKomodo-IDE-8\u001b[0m/                   \u001b[01;34mR\u001b[0m/\r\n",
        "\u001b[01;34mDoc\u001b[0m/                     learning.ipynb                  \u001b[01;34mRubymineProjects\u001b[0m/\r\n",
        "\u001b[01;34mDocuments\u001b[0m/               \u001b[01;34mlib\u001b[0m/                            \u001b[01;34msensor_data\u001b[0m/\r\n",
        "\u001b[01;34mDownloads\u001b[0m/               loop.pro~                       \u001b[01;34mtaskbuster_project\u001b[0m/\r\n",
        "\u001b[01;34mDropbox\u001b[0m/                 master                          \u001b[01;34mTemplates\u001b[0m/\r\n",
        "\u001b[01;34mdwhelper\u001b[0m/                \u001b[01;34mMEGAsync\u001b[0m/                       timeseries.ipynb\r\n",
        "\u001b[01;34meclipseLuna\u001b[0m/             ML-Andrew Ng.ipynb              \u001b[01;34mtmp\u001b[0m/\r\n",
        "\u001b[01;34mfDoc\u001b[0m/                    \u001b[01;31mmnist.pkl.gz\u001b[0m                    \u001b[01;34mtomcat-dhis\u001b[0m/\r\n",
        "\u001b[01;35mFirefox_wallpaper.png\u001b[0m    MTPs-Main-Container.txt         \u001b[01;34mUbuntu One\u001b[0m/\r\n",
        "\u001b[01;34mfontconfig\u001b[0m/              \u001b[01;34mMusic\u001b[0m/                          \u001b[01;35muplaodprogress1.jpg\u001b[0m\r\n",
        "\u001b[01;34mgradle-2.1\u001b[0m/              \u001b[01;34mnetbeans-8.0.1\u001b[0m/                 \u001b[01;34mVideos\u001b[0m/\r\n",
        "Group Assignment .ipynb  \u001b[01;34mNetBeansProjects\u001b[0m/               \u001b[01;34mvirtenvs\u001b[0m/\r\n",
        "\u001b[01;34mhts-cache\u001b[0m/               \u001b[01;34mOctave\u001b[0m/                         \u001b[01;34mvirtualenvs\u001b[0m/\r\n",
        "\u001b[01;34midea-IU-141.713.2\u001b[0m/       octave-workspace                \u001b[01;34mworkspace\u001b[0m/\r\n"
       ]
      }
     ],
     "prompt_number": 3
    },
    {
     "cell_type": "code",
     "collapsed": false,
     "input": [
      "data=pd.read_csv('Desktop/accelerometer-1/trace1/Marker.csv', header=None, delimiter=',')"
     ],
     "language": "python",
     "metadata": {},
     "outputs": [],
     "prompt_number": 4
    },
    {
     "cell_type": "code",
     "collapsed": false,
     "input": [
      "data[0]"
     ],
     "language": "python",
     "metadata": {},
     "outputs": [
      {
       "metadata": {},
       "output_type": "pyout",
       "prompt_number": 15,
       "text": [
        "0                       time\n",
        "1                    34.734 \n",
        "2                    34.793 \n",
        "3                    34.871 \n",
        "4                    34.931 \n",
        "5                    34.991 \n",
        "6                    35.068 \n",
        "7                    35.131 \n",
        "8                    35.209 \n",
        "9                    35.273 \n",
        "10                   35.338 \n",
        "11                   35.403 \n",
        "12                    35.47 \n",
        "13                    35.53 \n",
        "14                   35.593 \n",
        "15                   35.658 \n",
        "16                   35.723 \n",
        "17       35.791000000000004 \n",
        "18       35.861000000000004 \n",
        "19                   35.934 \n",
        "20                   36.001 \n",
        "21                   36.067 \n",
        "22                   36.132 \n",
        "23                   36.201 \n",
        "24                   36.271 \n",
        "25       36.358000000000004 \n",
        "26       36.422000000000004 \n",
        "27                   36.511 \n",
        "28                     36.6 \n",
        "29                    36.67 \n",
        "                ...         \n",
        "15164              1052.969 \n",
        "15165              1053.032 \n",
        "15166                1053.1 \n",
        "15167    1053.1680000000001 \n",
        "15168               1053.25 \n",
        "15169              1053.318 \n",
        "15170               1053.38 \n",
        "15171              1053.443 \n",
        "15172              1053.511 \n",
        "15173               1053.59 \n",
        "15174              1053.652 \n",
        "15175    1053.7160000000001 \n",
        "15176              1053.807 \n",
        "15177              1053.871 \n",
        "15178               1053.94 \n",
        "15179              1054.008 \n",
        "15180    1054.0910000000001 \n",
        "15181              1054.161 \n",
        "15182               1054.23 \n",
        "15183              1054.298 \n",
        "15184              1054.361 \n",
        "15185              1054.431 \n",
        "15186              1054.499 \n",
        "15187    1054.5620000000001 \n",
        "15188               1054.63 \n",
        "15189              1054.696 \n",
        "15190              1054.761 \n",
        "15191              1054.824 \n",
        "15192              1054.891 \n",
        "15193                  notes\n",
        "Name: 0, dtype: object"
       ]
      }
     ],
     "prompt_number": 15
    },
    {
     "cell_type": "code",
     "collapsed": false,
     "input": [
      "data.columns"
     ],
     "language": "python",
     "metadata": {},
     "outputs": [
      {
       "metadata": {},
       "output_type": "pyout",
       "prompt_number": 19,
       "text": [
        "Int64Index([0, 1, 2, 3, 4, 5], dtype='int64')"
       ]
      }
     ],
     "prompt_number": 19
    },
    {
     "cell_type": "code",
     "collapsed": false,
     "input": [
      "data.abs"
     ],
     "language": "python",
     "metadata": {},
     "outputs": [
      {
       "metadata": {},
       "output_type": "pyout",
       "prompt_number": 25,
       "text": [
        "<bound method DataFrame.abs of                          0                      1                     2  \\\n",
        "0                     time                 x-axis                y-axis   \n",
        "1                  34.734                   -1.5                  2.15    \n",
        "2                  34.793                  -1.31                  2.15    \n",
        "3                  34.871                  -1.33                  2.11    \n",
        "4                  34.931                  -1.23                  2.11    \n",
        "5                  34.991                  -1.33                  2.11    \n",
        "6                  35.068    -1.3800000000000001                  2.11    \n",
        "7                  35.131                  -1.33                  2.11    \n",
        "8                  35.209                  -1.33                  2.11    \n",
        "9                  35.273    -1.3800000000000001                  2.15    \n",
        "10                 35.338                  -1.33                  2.15    \n",
        "11                 35.403                  -1.31    2.0300000000000002    \n",
        "12                  35.47                  -1.31                  2.07    \n",
        "13                  35.53                  -1.31                  2.15    \n",
        "14                 35.593                  -1.27                  2.11    \n",
        "15                 35.658                  -1.27                  2.11    \n",
        "16                 35.723                  -1.27                  2.07    \n",
        "17     35.791000000000004                  -1.23                  2.11    \n",
        "18     35.861000000000004                  -1.33                  2.11    \n",
        "19                 35.934                  -1.31                  1.92    \n",
        "20                 36.001                  -1.23                  2.11    \n",
        "21                 36.067    -1.1400000000000001                  2.11    \n",
        "22                 36.132                  -1.23                  2.07    \n",
        "23                 36.201                  -1.27    2.0300000000000002    \n",
        "24                 36.271                  -1.23                  2.07    \n",
        "25     36.358000000000004    -1.1400000000000001                  2.15    \n",
        "26     36.422000000000004                  -1.33                  2.07    \n",
        "27                 36.511                  -1.31    2.0300000000000002    \n",
        "28                   36.6                  -1.23    2.0300000000000002    \n",
        "29                  36.67                  -1.23                  1.99    \n",
        "...                    ...                    ...                   ...   \n",
        "15164            1052.969                  -0.46                  2.64    \n",
        "15165            1053.032                  -0.42                  2.68    \n",
        "15166              1053.1                  -0.34                  2.72    \n",
        "15167  1053.1680000000001                  -0.42                  2.68    \n",
        "15168             1053.25                  -0.46                  2.64    \n",
        "15169            1053.318                  -0.42                  2.68    \n",
        "15170             1053.38                  -0.46                  2.72    \n",
        "15171            1053.443                  -0.42                  2.64    \n",
        "15172            1053.511                  -0.42                  2.64    \n",
        "15173             1053.59                  -0.53                   2.6    \n",
        "15174            1053.652                  -0.53                   2.6    \n",
        "15175  1053.7160000000001                  -0.42                  2.64    \n",
        "15176            1053.807                  -0.42                  2.72    \n",
        "15177            1053.871                  -0.46                  2.68    \n",
        "15178             1053.94                  -0.46                  2.64    \n",
        "15179            1054.008                  -0.53                  2.68    \n",
        "15180  1054.0910000000001                  -0.53                  2.64    \n",
        "15181            1054.161                   -0.5                  2.68    \n",
        "15182             1054.23                   -0.5                  2.64    \n",
        "15183            1054.298                  -0.53                  2.68    \n",
        "15184            1054.361                  -0.53                  2.64    \n",
        "15185            1054.431                  -0.23                  2.49    \n",
        "15186            1054.499                  -0.46                  2.83    \n",
        "15187  1054.5620000000001                  -0.65                  2.87    \n",
        "15188             1054.63                  -0.46                  2.45    \n",
        "15189            1054.696                   -0.5                  2.41    \n",
        "15190            1054.761                  -0.61                  2.64    \n",
        "15191            1054.824    -0.5700000000000001                  2.64    \n",
        "15192            1054.891                  -0.38                  2.83    \n",
        "15193                notes                 Dwarka       soshant droving   \n",
        "\n",
        "                        3             4        5  \n",
        "0                  z-axis  Speedbreaker  Pothole  \n",
        "1                    9.11             0        0  \n",
        "2                    9.11             0        0  \n",
        "3                    8.85             0        0  \n",
        "4                     9.0             0        0  \n",
        "5                    8.92             0        0  \n",
        "6                    8.96             0        0  \n",
        "7                    8.96             0        0  \n",
        "8       9.040000000000001             0        0  \n",
        "9                    8.92             0        0  \n",
        "10                   8.92             0        0  \n",
        "11      9.040000000000001             0        0  \n",
        "12                    9.0             0        0  \n",
        "13                   8.96             0        0  \n",
        "14                   8.92             0        0  \n",
        "15                   9.08             0        0  \n",
        "16                   8.96             0        0  \n",
        "17                    9.0             0        0  \n",
        "18                    9.0             0        0  \n",
        "19                   8.96             0        0  \n",
        "20                   8.96             0        0  \n",
        "21                   8.92             0        0  \n",
        "22                    9.0             0        0  \n",
        "23                   8.96             0        0  \n",
        "24      9.040000000000001             0        0  \n",
        "25                   8.96             0        0  \n",
        "26                    9.0             0        0  \n",
        "27                    9.0             0        0  \n",
        "28                    9.0             0        0  \n",
        "29                   8.96             0        0  \n",
        "...                   ...           ...      ...  \n",
        "15164                8.73             0        0  \n",
        "15165                8.73             0        0  \n",
        "15166                8.81             0        0  \n",
        "15167                8.77             0        0  \n",
        "15168                8.73             0        0  \n",
        "15169                8.81             0        0  \n",
        "15170                8.73             0        0  \n",
        "15171                8.73             0        0  \n",
        "15172                8.77             0        0  \n",
        "15173                8.85             0        0  \n",
        "15174                8.73             0        0  \n",
        "15175                8.73             0        0  \n",
        "15176                8.77             0        0  \n",
        "15177                8.73             0        0  \n",
        "15178                8.73             0        0  \n",
        "15179                8.81             0        0  \n",
        "15180                8.73             0        0  \n",
        "15181                8.73             0        0  \n",
        "15182                8.73             0        0  \n",
        "15183                8.77             0        0  \n",
        "15184                8.88             0        0  \n",
        "15185                8.77             0        0  \n",
        "15186                8.69             0        0  \n",
        "15187                8.88             0        0  \n",
        "15188                8.85             0        0  \n",
        "15189                8.77             0        0  \n",
        "15190                8.77             0        0  \n",
        "15191                8.43             0        0  \n",
        "15192                9.28             0        0  \n",
        "15193                 NaN           NaN      NaN  \n",
        "\n",
        "[15194 rows x 6 columns]>"
       ]
      }
     ],
     "prompt_number": 25
    },
    {
     "cell_type": "code",
     "collapsed": false,
     "input": [
      "data"
     ],
     "language": "python",
     "metadata": {},
     "outputs": [
      {
       "html": [
        "<div style=\"max-width:1500px;overflow:auto;\">\n",
        "<table border=\"1\" class=\"dataframe\">\n",
        "  <thead>\n",
        "    <tr style=\"text-align: right;\">\n",
        "      <th></th>\n",
        "      <th>0</th>\n",
        "      <th>1</th>\n",
        "      <th>2</th>\n",
        "      <th>3</th>\n",
        "      <th>4</th>\n",
        "      <th>5</th>\n",
        "    </tr>\n",
        "  </thead>\n",
        "  <tbody>\n",
        "    <tr>\n",
        "      <th>0</th>\n",
        "      <td>time</td>\n",
        "      <td>x-axis</td>\n",
        "      <td>y-axis</td>\n",
        "      <td>z-axis</td>\n",
        "      <td>Speedbreaker</td>\n",
        "      <td>Pothole</td>\n",
        "    </tr>\n",
        "    <tr>\n",
        "      <th>1</th>\n",
        "      <td>34.734</td>\n",
        "      <td>-1.5</td>\n",
        "      <td>2.15</td>\n",
        "      <td>9.11</td>\n",
        "      <td>0</td>\n",
        "      <td>0</td>\n",
        "    </tr>\n",
        "    <tr>\n",
        "      <th>2</th>\n",
        "      <td>34.793</td>\n",
        "      <td>-1.31</td>\n",
        "      <td>2.15</td>\n",
        "      <td>9.11</td>\n",
        "      <td>0</td>\n",
        "      <td>0</td>\n",
        "    </tr>\n",
        "    <tr>\n",
        "      <th>3</th>\n",
        "      <td>34.871</td>\n",
        "      <td>-1.33</td>\n",
        "      <td>2.11</td>\n",
        "      <td>8.85</td>\n",
        "      <td>0</td>\n",
        "      <td>0</td>\n",
        "    </tr>\n",
        "    <tr>\n",
        "      <th>4</th>\n",
        "      <td>34.931</td>\n",
        "      <td>-1.23</td>\n",
        "      <td>2.11</td>\n",
        "      <td>9.0</td>\n",
        "      <td>0</td>\n",
        "      <td>0</td>\n",
        "    </tr>\n",
        "    <tr>\n",
        "      <th>5</th>\n",
        "      <td>34.991</td>\n",
        "      <td>-1.33</td>\n",
        "      <td>2.11</td>\n",
        "      <td>8.92</td>\n",
        "      <td>0</td>\n",
        "      <td>0</td>\n",
        "    </tr>\n",
        "    <tr>\n",
        "      <th>6</th>\n",
        "      <td>35.068</td>\n",
        "      <td>-1.3800000000000001</td>\n",
        "      <td>2.11</td>\n",
        "      <td>8.96</td>\n",
        "      <td>0</td>\n",
        "      <td>0</td>\n",
        "    </tr>\n",
        "    <tr>\n",
        "      <th>7</th>\n",
        "      <td>35.131</td>\n",
        "      <td>-1.33</td>\n",
        "      <td>2.11</td>\n",
        "      <td>8.96</td>\n",
        "      <td>0</td>\n",
        "      <td>0</td>\n",
        "    </tr>\n",
        "    <tr>\n",
        "      <th>8</th>\n",
        "      <td>35.209</td>\n",
        "      <td>-1.33</td>\n",
        "      <td>2.11</td>\n",
        "      <td>9.040000000000001</td>\n",
        "      <td>0</td>\n",
        "      <td>0</td>\n",
        "    </tr>\n",
        "    <tr>\n",
        "      <th>9</th>\n",
        "      <td>35.273</td>\n",
        "      <td>-1.3800000000000001</td>\n",
        "      <td>2.15</td>\n",
        "      <td>8.92</td>\n",
        "      <td>0</td>\n",
        "      <td>0</td>\n",
        "    </tr>\n",
        "    <tr>\n",
        "      <th>10</th>\n",
        "      <td>35.338</td>\n",
        "      <td>-1.33</td>\n",
        "      <td>2.15</td>\n",
        "      <td>8.92</td>\n",
        "      <td>0</td>\n",
        "      <td>0</td>\n",
        "    </tr>\n",
        "    <tr>\n",
        "      <th>11</th>\n",
        "      <td>35.403</td>\n",
        "      <td>-1.31</td>\n",
        "      <td>2.0300000000000002</td>\n",
        "      <td>9.040000000000001</td>\n",
        "      <td>0</td>\n",
        "      <td>0</td>\n",
        "    </tr>\n",
        "    <tr>\n",
        "      <th>12</th>\n",
        "      <td>35.47</td>\n",
        "      <td>-1.31</td>\n",
        "      <td>2.07</td>\n",
        "      <td>9.0</td>\n",
        "      <td>0</td>\n",
        "      <td>0</td>\n",
        "    </tr>\n",
        "    <tr>\n",
        "      <th>13</th>\n",
        "      <td>35.53</td>\n",
        "      <td>-1.31</td>\n",
        "      <td>2.15</td>\n",
        "      <td>8.96</td>\n",
        "      <td>0</td>\n",
        "      <td>0</td>\n",
        "    </tr>\n",
        "    <tr>\n",
        "      <th>14</th>\n",
        "      <td>35.593</td>\n",
        "      <td>-1.27</td>\n",
        "      <td>2.11</td>\n",
        "      <td>8.92</td>\n",
        "      <td>0</td>\n",
        "      <td>0</td>\n",
        "    </tr>\n",
        "    <tr>\n",
        "      <th>15</th>\n",
        "      <td>35.658</td>\n",
        "      <td>-1.27</td>\n",
        "      <td>2.11</td>\n",
        "      <td>9.08</td>\n",
        "      <td>0</td>\n",
        "      <td>0</td>\n",
        "    </tr>\n",
        "    <tr>\n",
        "      <th>16</th>\n",
        "      <td>35.723</td>\n",
        "      <td>-1.27</td>\n",
        "      <td>2.07</td>\n",
        "      <td>8.96</td>\n",
        "      <td>0</td>\n",
        "      <td>0</td>\n",
        "    </tr>\n",
        "    <tr>\n",
        "      <th>17</th>\n",
        "      <td>35.791000000000004</td>\n",
        "      <td>-1.23</td>\n",
        "      <td>2.11</td>\n",
        "      <td>9.0</td>\n",
        "      <td>0</td>\n",
        "      <td>0</td>\n",
        "    </tr>\n",
        "    <tr>\n",
        "      <th>18</th>\n",
        "      <td>35.861000000000004</td>\n",
        "      <td>-1.33</td>\n",
        "      <td>2.11</td>\n",
        "      <td>9.0</td>\n",
        "      <td>0</td>\n",
        "      <td>0</td>\n",
        "    </tr>\n",
        "    <tr>\n",
        "      <th>19</th>\n",
        "      <td>35.934</td>\n",
        "      <td>-1.31</td>\n",
        "      <td>1.92</td>\n",
        "      <td>8.96</td>\n",
        "      <td>0</td>\n",
        "      <td>0</td>\n",
        "    </tr>\n",
        "    <tr>\n",
        "      <th>20</th>\n",
        "      <td>36.001</td>\n",
        "      <td>-1.23</td>\n",
        "      <td>2.11</td>\n",
        "      <td>8.96</td>\n",
        "      <td>0</td>\n",
        "      <td>0</td>\n",
        "    </tr>\n",
        "    <tr>\n",
        "      <th>21</th>\n",
        "      <td>36.067</td>\n",
        "      <td>-1.1400000000000001</td>\n",
        "      <td>2.11</td>\n",
        "      <td>8.92</td>\n",
        "      <td>0</td>\n",
        "      <td>0</td>\n",
        "    </tr>\n",
        "    <tr>\n",
        "      <th>22</th>\n",
        "      <td>36.132</td>\n",
        "      <td>-1.23</td>\n",
        "      <td>2.07</td>\n",
        "      <td>9.0</td>\n",
        "      <td>0</td>\n",
        "      <td>0</td>\n",
        "    </tr>\n",
        "    <tr>\n",
        "      <th>23</th>\n",
        "      <td>36.201</td>\n",
        "      <td>-1.27</td>\n",
        "      <td>2.0300000000000002</td>\n",
        "      <td>8.96</td>\n",
        "      <td>0</td>\n",
        "      <td>0</td>\n",
        "    </tr>\n",
        "    <tr>\n",
        "      <th>24</th>\n",
        "      <td>36.271</td>\n",
        "      <td>-1.23</td>\n",
        "      <td>2.07</td>\n",
        "      <td>9.040000000000001</td>\n",
        "      <td>0</td>\n",
        "      <td>0</td>\n",
        "    </tr>\n",
        "    <tr>\n",
        "      <th>25</th>\n",
        "      <td>36.358000000000004</td>\n",
        "      <td>-1.1400000000000001</td>\n",
        "      <td>2.15</td>\n",
        "      <td>8.96</td>\n",
        "      <td>0</td>\n",
        "      <td>0</td>\n",
        "    </tr>\n",
        "    <tr>\n",
        "      <th>26</th>\n",
        "      <td>36.422000000000004</td>\n",
        "      <td>-1.33</td>\n",
        "      <td>2.07</td>\n",
        "      <td>9.0</td>\n",
        "      <td>0</td>\n",
        "      <td>0</td>\n",
        "    </tr>\n",
        "    <tr>\n",
        "      <th>27</th>\n",
        "      <td>36.511</td>\n",
        "      <td>-1.31</td>\n",
        "      <td>2.0300000000000002</td>\n",
        "      <td>9.0</td>\n",
        "      <td>0</td>\n",
        "      <td>0</td>\n",
        "    </tr>\n",
        "    <tr>\n",
        "      <th>28</th>\n",
        "      <td>36.6</td>\n",
        "      <td>-1.23</td>\n",
        "      <td>2.0300000000000002</td>\n",
        "      <td>9.0</td>\n",
        "      <td>0</td>\n",
        "      <td>0</td>\n",
        "    </tr>\n",
        "    <tr>\n",
        "      <th>29</th>\n",
        "      <td>36.67</td>\n",
        "      <td>-1.23</td>\n",
        "      <td>1.99</td>\n",
        "      <td>8.96</td>\n",
        "      <td>0</td>\n",
        "      <td>0</td>\n",
        "    </tr>\n",
        "    <tr>\n",
        "      <th>...</th>\n",
        "      <td>...</td>\n",
        "      <td>...</td>\n",
        "      <td>...</td>\n",
        "      <td>...</td>\n",
        "      <td>...</td>\n",
        "      <td>...</td>\n",
        "    </tr>\n",
        "    <tr>\n",
        "      <th>15164</th>\n",
        "      <td>1052.969</td>\n",
        "      <td>-0.46</td>\n",
        "      <td>2.64</td>\n",
        "      <td>8.73</td>\n",
        "      <td>0</td>\n",
        "      <td>0</td>\n",
        "    </tr>\n",
        "    <tr>\n",
        "      <th>15165</th>\n",
        "      <td>1053.032</td>\n",
        "      <td>-0.42</td>\n",
        "      <td>2.68</td>\n",
        "      <td>8.73</td>\n",
        "      <td>0</td>\n",
        "      <td>0</td>\n",
        "    </tr>\n",
        "    <tr>\n",
        "      <th>15166</th>\n",
        "      <td>1053.1</td>\n",
        "      <td>-0.34</td>\n",
        "      <td>2.72</td>\n",
        "      <td>8.81</td>\n",
        "      <td>0</td>\n",
        "      <td>0</td>\n",
        "    </tr>\n",
        "    <tr>\n",
        "      <th>15167</th>\n",
        "      <td>1053.1680000000001</td>\n",
        "      <td>-0.42</td>\n",
        "      <td>2.68</td>\n",
        "      <td>8.77</td>\n",
        "      <td>0</td>\n",
        "      <td>0</td>\n",
        "    </tr>\n",
        "    <tr>\n",
        "      <th>15168</th>\n",
        "      <td>1053.25</td>\n",
        "      <td>-0.46</td>\n",
        "      <td>2.64</td>\n",
        "      <td>8.73</td>\n",
        "      <td>0</td>\n",
        "      <td>0</td>\n",
        "    </tr>\n",
        "    <tr>\n",
        "      <th>15169</th>\n",
        "      <td>1053.318</td>\n",
        "      <td>-0.42</td>\n",
        "      <td>2.68</td>\n",
        "      <td>8.81</td>\n",
        "      <td>0</td>\n",
        "      <td>0</td>\n",
        "    </tr>\n",
        "    <tr>\n",
        "      <th>15170</th>\n",
        "      <td>1053.38</td>\n",
        "      <td>-0.46</td>\n",
        "      <td>2.72</td>\n",
        "      <td>8.73</td>\n",
        "      <td>0</td>\n",
        "      <td>0</td>\n",
        "    </tr>\n",
        "    <tr>\n",
        "      <th>15171</th>\n",
        "      <td>1053.443</td>\n",
        "      <td>-0.42</td>\n",
        "      <td>2.64</td>\n",
        "      <td>8.73</td>\n",
        "      <td>0</td>\n",
        "      <td>0</td>\n",
        "    </tr>\n",
        "    <tr>\n",
        "      <th>15172</th>\n",
        "      <td>1053.511</td>\n",
        "      <td>-0.42</td>\n",
        "      <td>2.64</td>\n",
        "      <td>8.77</td>\n",
        "      <td>0</td>\n",
        "      <td>0</td>\n",
        "    </tr>\n",
        "    <tr>\n",
        "      <th>15173</th>\n",
        "      <td>1053.59</td>\n",
        "      <td>-0.53</td>\n",
        "      <td>2.6</td>\n",
        "      <td>8.85</td>\n",
        "      <td>0</td>\n",
        "      <td>0</td>\n",
        "    </tr>\n",
        "    <tr>\n",
        "      <th>15174</th>\n",
        "      <td>1053.652</td>\n",
        "      <td>-0.53</td>\n",
        "      <td>2.6</td>\n",
        "      <td>8.73</td>\n",
        "      <td>0</td>\n",
        "      <td>0</td>\n",
        "    </tr>\n",
        "    <tr>\n",
        "      <th>15175</th>\n",
        "      <td>1053.7160000000001</td>\n",
        "      <td>-0.42</td>\n",
        "      <td>2.64</td>\n",
        "      <td>8.73</td>\n",
        "      <td>0</td>\n",
        "      <td>0</td>\n",
        "    </tr>\n",
        "    <tr>\n",
        "      <th>15176</th>\n",
        "      <td>1053.807</td>\n",
        "      <td>-0.42</td>\n",
        "      <td>2.72</td>\n",
        "      <td>8.77</td>\n",
        "      <td>0</td>\n",
        "      <td>0</td>\n",
        "    </tr>\n",
        "    <tr>\n",
        "      <th>15177</th>\n",
        "      <td>1053.871</td>\n",
        "      <td>-0.46</td>\n",
        "      <td>2.68</td>\n",
        "      <td>8.73</td>\n",
        "      <td>0</td>\n",
        "      <td>0</td>\n",
        "    </tr>\n",
        "    <tr>\n",
        "      <th>15178</th>\n",
        "      <td>1053.94</td>\n",
        "      <td>-0.46</td>\n",
        "      <td>2.64</td>\n",
        "      <td>8.73</td>\n",
        "      <td>0</td>\n",
        "      <td>0</td>\n",
        "    </tr>\n",
        "    <tr>\n",
        "      <th>15179</th>\n",
        "      <td>1054.008</td>\n",
        "      <td>-0.53</td>\n",
        "      <td>2.68</td>\n",
        "      <td>8.81</td>\n",
        "      <td>0</td>\n",
        "      <td>0</td>\n",
        "    </tr>\n",
        "    <tr>\n",
        "      <th>15180</th>\n",
        "      <td>1054.0910000000001</td>\n",
        "      <td>-0.53</td>\n",
        "      <td>2.64</td>\n",
        "      <td>8.73</td>\n",
        "      <td>0</td>\n",
        "      <td>0</td>\n",
        "    </tr>\n",
        "    <tr>\n",
        "      <th>15181</th>\n",
        "      <td>1054.161</td>\n",
        "      <td>-0.5</td>\n",
        "      <td>2.68</td>\n",
        "      <td>8.73</td>\n",
        "      <td>0</td>\n",
        "      <td>0</td>\n",
        "    </tr>\n",
        "    <tr>\n",
        "      <th>15182</th>\n",
        "      <td>1054.23</td>\n",
        "      <td>-0.5</td>\n",
        "      <td>2.64</td>\n",
        "      <td>8.73</td>\n",
        "      <td>0</td>\n",
        "      <td>0</td>\n",
        "    </tr>\n",
        "    <tr>\n",
        "      <th>15183</th>\n",
        "      <td>1054.298</td>\n",
        "      <td>-0.53</td>\n",
        "      <td>2.68</td>\n",
        "      <td>8.77</td>\n",
        "      <td>0</td>\n",
        "      <td>0</td>\n",
        "    </tr>\n",
        "    <tr>\n",
        "      <th>15184</th>\n",
        "      <td>1054.361</td>\n",
        "      <td>-0.53</td>\n",
        "      <td>2.64</td>\n",
        "      <td>8.88</td>\n",
        "      <td>0</td>\n",
        "      <td>0</td>\n",
        "    </tr>\n",
        "    <tr>\n",
        "      <th>15185</th>\n",
        "      <td>1054.431</td>\n",
        "      <td>-0.23</td>\n",
        "      <td>2.49</td>\n",
        "      <td>8.77</td>\n",
        "      <td>0</td>\n",
        "      <td>0</td>\n",
        "    </tr>\n",
        "    <tr>\n",
        "      <th>15186</th>\n",
        "      <td>1054.499</td>\n",
        "      <td>-0.46</td>\n",
        "      <td>2.83</td>\n",
        "      <td>8.69</td>\n",
        "      <td>0</td>\n",
        "      <td>0</td>\n",
        "    </tr>\n",
        "    <tr>\n",
        "      <th>15187</th>\n",
        "      <td>1054.5620000000001</td>\n",
        "      <td>-0.65</td>\n",
        "      <td>2.87</td>\n",
        "      <td>8.88</td>\n",
        "      <td>0</td>\n",
        "      <td>0</td>\n",
        "    </tr>\n",
        "    <tr>\n",
        "      <th>15188</th>\n",
        "      <td>1054.63</td>\n",
        "      <td>-0.46</td>\n",
        "      <td>2.45</td>\n",
        "      <td>8.85</td>\n",
        "      <td>0</td>\n",
        "      <td>0</td>\n",
        "    </tr>\n",
        "    <tr>\n",
        "      <th>15189</th>\n",
        "      <td>1054.696</td>\n",
        "      <td>-0.5</td>\n",
        "      <td>2.41</td>\n",
        "      <td>8.77</td>\n",
        "      <td>0</td>\n",
        "      <td>0</td>\n",
        "    </tr>\n",
        "    <tr>\n",
        "      <th>15190</th>\n",
        "      <td>1054.761</td>\n",
        "      <td>-0.61</td>\n",
        "      <td>2.64</td>\n",
        "      <td>8.77</td>\n",
        "      <td>0</td>\n",
        "      <td>0</td>\n",
        "    </tr>\n",
        "    <tr>\n",
        "      <th>15191</th>\n",
        "      <td>1054.824</td>\n",
        "      <td>-0.5700000000000001</td>\n",
        "      <td>2.64</td>\n",
        "      <td>8.43</td>\n",
        "      <td>0</td>\n",
        "      <td>0</td>\n",
        "    </tr>\n",
        "    <tr>\n",
        "      <th>15192</th>\n",
        "      <td>1054.891</td>\n",
        "      <td>-0.38</td>\n",
        "      <td>2.83</td>\n",
        "      <td>9.28</td>\n",
        "      <td>0</td>\n",
        "      <td>0</td>\n",
        "    </tr>\n",
        "    <tr>\n",
        "      <th>15193</th>\n",
        "      <td>notes</td>\n",
        "      <td>Dwarka</td>\n",
        "      <td>soshant droving</td>\n",
        "      <td>NaN</td>\n",
        "      <td>NaN</td>\n",
        "      <td>NaN</td>\n",
        "    </tr>\n",
        "  </tbody>\n",
        "</table>\n",
        "<p>15194 rows \u00d7 6 columns</p>\n",
        "</div>"
       ],
       "metadata": {},
       "output_type": "pyout",
       "prompt_number": 26,
       "text": [
        "                         0                      1                     2  \\\n",
        "0                     time                 x-axis                y-axis   \n",
        "1                  34.734                   -1.5                  2.15    \n",
        "2                  34.793                  -1.31                  2.15    \n",
        "3                  34.871                  -1.33                  2.11    \n",
        "4                  34.931                  -1.23                  2.11    \n",
        "5                  34.991                  -1.33                  2.11    \n",
        "6                  35.068    -1.3800000000000001                  2.11    \n",
        "7                  35.131                  -1.33                  2.11    \n",
        "8                  35.209                  -1.33                  2.11    \n",
        "9                  35.273    -1.3800000000000001                  2.15    \n",
        "10                 35.338                  -1.33                  2.15    \n",
        "11                 35.403                  -1.31    2.0300000000000002    \n",
        "12                  35.47                  -1.31                  2.07    \n",
        "13                  35.53                  -1.31                  2.15    \n",
        "14                 35.593                  -1.27                  2.11    \n",
        "15                 35.658                  -1.27                  2.11    \n",
        "16                 35.723                  -1.27                  2.07    \n",
        "17     35.791000000000004                  -1.23                  2.11    \n",
        "18     35.861000000000004                  -1.33                  2.11    \n",
        "19                 35.934                  -1.31                  1.92    \n",
        "20                 36.001                  -1.23                  2.11    \n",
        "21                 36.067    -1.1400000000000001                  2.11    \n",
        "22                 36.132                  -1.23                  2.07    \n",
        "23                 36.201                  -1.27    2.0300000000000002    \n",
        "24                 36.271                  -1.23                  2.07    \n",
        "25     36.358000000000004    -1.1400000000000001                  2.15    \n",
        "26     36.422000000000004                  -1.33                  2.07    \n",
        "27                 36.511                  -1.31    2.0300000000000002    \n",
        "28                   36.6                  -1.23    2.0300000000000002    \n",
        "29                  36.67                  -1.23                  1.99    \n",
        "...                    ...                    ...                   ...   \n",
        "15164            1052.969                  -0.46                  2.64    \n",
        "15165            1053.032                  -0.42                  2.68    \n",
        "15166              1053.1                  -0.34                  2.72    \n",
        "15167  1053.1680000000001                  -0.42                  2.68    \n",
        "15168             1053.25                  -0.46                  2.64    \n",
        "15169            1053.318                  -0.42                  2.68    \n",
        "15170             1053.38                  -0.46                  2.72    \n",
        "15171            1053.443                  -0.42                  2.64    \n",
        "15172            1053.511                  -0.42                  2.64    \n",
        "15173             1053.59                  -0.53                   2.6    \n",
        "15174            1053.652                  -0.53                   2.6    \n",
        "15175  1053.7160000000001                  -0.42                  2.64    \n",
        "15176            1053.807                  -0.42                  2.72    \n",
        "15177            1053.871                  -0.46                  2.68    \n",
        "15178             1053.94                  -0.46                  2.64    \n",
        "15179            1054.008                  -0.53                  2.68    \n",
        "15180  1054.0910000000001                  -0.53                  2.64    \n",
        "15181            1054.161                   -0.5                  2.68    \n",
        "15182             1054.23                   -0.5                  2.64    \n",
        "15183            1054.298                  -0.53                  2.68    \n",
        "15184            1054.361                  -0.53                  2.64    \n",
        "15185            1054.431                  -0.23                  2.49    \n",
        "15186            1054.499                  -0.46                  2.83    \n",
        "15187  1054.5620000000001                  -0.65                  2.87    \n",
        "15188             1054.63                  -0.46                  2.45    \n",
        "15189            1054.696                   -0.5                  2.41    \n",
        "15190            1054.761                  -0.61                  2.64    \n",
        "15191            1054.824    -0.5700000000000001                  2.64    \n",
        "15192            1054.891                  -0.38                  2.83    \n",
        "15193                notes                 Dwarka       soshant droving   \n",
        "\n",
        "                        3             4        5  \n",
        "0                  z-axis  Speedbreaker  Pothole  \n",
        "1                    9.11             0        0  \n",
        "2                    9.11             0        0  \n",
        "3                    8.85             0        0  \n",
        "4                     9.0             0        0  \n",
        "5                    8.92             0        0  \n",
        "6                    8.96             0        0  \n",
        "7                    8.96             0        0  \n",
        "8       9.040000000000001             0        0  \n",
        "9                    8.92             0        0  \n",
        "10                   8.92             0        0  \n",
        "11      9.040000000000001             0        0  \n",
        "12                    9.0             0        0  \n",
        "13                   8.96             0        0  \n",
        "14                   8.92             0        0  \n",
        "15                   9.08             0        0  \n",
        "16                   8.96             0        0  \n",
        "17                    9.0             0        0  \n",
        "18                    9.0             0        0  \n",
        "19                   8.96             0        0  \n",
        "20                   8.96             0        0  \n",
        "21                   8.92             0        0  \n",
        "22                    9.0             0        0  \n",
        "23                   8.96             0        0  \n",
        "24      9.040000000000001             0        0  \n",
        "25                   8.96             0        0  \n",
        "26                    9.0             0        0  \n",
        "27                    9.0             0        0  \n",
        "28                    9.0             0        0  \n",
        "29                   8.96             0        0  \n",
        "...                   ...           ...      ...  \n",
        "15164                8.73             0        0  \n",
        "15165                8.73             0        0  \n",
        "15166                8.81             0        0  \n",
        "15167                8.77             0        0  \n",
        "15168                8.73             0        0  \n",
        "15169                8.81             0        0  \n",
        "15170                8.73             0        0  \n",
        "15171                8.73             0        0  \n",
        "15172                8.77             0        0  \n",
        "15173                8.85             0        0  \n",
        "15174                8.73             0        0  \n",
        "15175                8.73             0        0  \n",
        "15176                8.77             0        0  \n",
        "15177                8.73             0        0  \n",
        "15178                8.73             0        0  \n",
        "15179                8.81             0        0  \n",
        "15180                8.73             0        0  \n",
        "15181                8.73             0        0  \n",
        "15182                8.73             0        0  \n",
        "15183                8.77             0        0  \n",
        "15184                8.88             0        0  \n",
        "15185                8.77             0        0  \n",
        "15186                8.69             0        0  \n",
        "15187                8.88             0        0  \n",
        "15188                8.85             0        0  \n",
        "15189                8.77             0        0  \n",
        "15190                8.77             0        0  \n",
        "15191                8.43             0        0  \n",
        "15192                9.28             0        0  \n",
        "15193                 NaN           NaN      NaN  \n",
        "\n",
        "[15194 rows x 6 columns]"
       ]
      }
     ],
     "prompt_number": 26
    },
    {
     "cell_type": "code",
     "collapsed": false,
     "input": [
      "data.drop"
     ],
     "language": "python",
     "metadata": {},
     "outputs": [
      {
       "metadata": {},
       "output_type": "pyout",
       "prompt_number": 27,
       "text": [
        "<bound method DataFrame.drop of                          0                      1                     2  \\\n",
        "0                     time                 x-axis                y-axis   \n",
        "1                  34.734                   -1.5                  2.15    \n",
        "2                  34.793                  -1.31                  2.15    \n",
        "3                  34.871                  -1.33                  2.11    \n",
        "4                  34.931                  -1.23                  2.11    \n",
        "5                  34.991                  -1.33                  2.11    \n",
        "6                  35.068    -1.3800000000000001                  2.11    \n",
        "7                  35.131                  -1.33                  2.11    \n",
        "8                  35.209                  -1.33                  2.11    \n",
        "9                  35.273    -1.3800000000000001                  2.15    \n",
        "10                 35.338                  -1.33                  2.15    \n",
        "11                 35.403                  -1.31    2.0300000000000002    \n",
        "12                  35.47                  -1.31                  2.07    \n",
        "13                  35.53                  -1.31                  2.15    \n",
        "14                 35.593                  -1.27                  2.11    \n",
        "15                 35.658                  -1.27                  2.11    \n",
        "16                 35.723                  -1.27                  2.07    \n",
        "17     35.791000000000004                  -1.23                  2.11    \n",
        "18     35.861000000000004                  -1.33                  2.11    \n",
        "19                 35.934                  -1.31                  1.92    \n",
        "20                 36.001                  -1.23                  2.11    \n",
        "21                 36.067    -1.1400000000000001                  2.11    \n",
        "22                 36.132                  -1.23                  2.07    \n",
        "23                 36.201                  -1.27    2.0300000000000002    \n",
        "24                 36.271                  -1.23                  2.07    \n",
        "25     36.358000000000004    -1.1400000000000001                  2.15    \n",
        "26     36.422000000000004                  -1.33                  2.07    \n",
        "27                 36.511                  -1.31    2.0300000000000002    \n",
        "28                   36.6                  -1.23    2.0300000000000002    \n",
        "29                  36.67                  -1.23                  1.99    \n",
        "...                    ...                    ...                   ...   \n",
        "15164            1052.969                  -0.46                  2.64    \n",
        "15165            1053.032                  -0.42                  2.68    \n",
        "15166              1053.1                  -0.34                  2.72    \n",
        "15167  1053.1680000000001                  -0.42                  2.68    \n",
        "15168             1053.25                  -0.46                  2.64    \n",
        "15169            1053.318                  -0.42                  2.68    \n",
        "15170             1053.38                  -0.46                  2.72    \n",
        "15171            1053.443                  -0.42                  2.64    \n",
        "15172            1053.511                  -0.42                  2.64    \n",
        "15173             1053.59                  -0.53                   2.6    \n",
        "15174            1053.652                  -0.53                   2.6    \n",
        "15175  1053.7160000000001                  -0.42                  2.64    \n",
        "15176            1053.807                  -0.42                  2.72    \n",
        "15177            1053.871                  -0.46                  2.68    \n",
        "15178             1053.94                  -0.46                  2.64    \n",
        "15179            1054.008                  -0.53                  2.68    \n",
        "15180  1054.0910000000001                  -0.53                  2.64    \n",
        "15181            1054.161                   -0.5                  2.68    \n",
        "15182             1054.23                   -0.5                  2.64    \n",
        "15183            1054.298                  -0.53                  2.68    \n",
        "15184            1054.361                  -0.53                  2.64    \n",
        "15185            1054.431                  -0.23                  2.49    \n",
        "15186            1054.499                  -0.46                  2.83    \n",
        "15187  1054.5620000000001                  -0.65                  2.87    \n",
        "15188             1054.63                  -0.46                  2.45    \n",
        "15189            1054.696                   -0.5                  2.41    \n",
        "15190            1054.761                  -0.61                  2.64    \n",
        "15191            1054.824    -0.5700000000000001                  2.64    \n",
        "15192            1054.891                  -0.38                  2.83    \n",
        "15193                notes                 Dwarka       soshant droving   \n",
        "\n",
        "                        3             4        5  \n",
        "0                  z-axis  Speedbreaker  Pothole  \n",
        "1                    9.11             0        0  \n",
        "2                    9.11             0        0  \n",
        "3                    8.85             0        0  \n",
        "4                     9.0             0        0  \n",
        "5                    8.92             0        0  \n",
        "6                    8.96             0        0  \n",
        "7                    8.96             0        0  \n",
        "8       9.040000000000001             0        0  \n",
        "9                    8.92             0        0  \n",
        "10                   8.92             0        0  \n",
        "11      9.040000000000001             0        0  \n",
        "12                    9.0             0        0  \n",
        "13                   8.96             0        0  \n",
        "14                   8.92             0        0  \n",
        "15                   9.08             0        0  \n",
        "16                   8.96             0        0  \n",
        "17                    9.0             0        0  \n",
        "18                    9.0             0        0  \n",
        "19                   8.96             0        0  \n",
        "20                   8.96             0        0  \n",
        "21                   8.92             0        0  \n",
        "22                    9.0             0        0  \n",
        "23                   8.96             0        0  \n",
        "24      9.040000000000001             0        0  \n",
        "25                   8.96             0        0  \n",
        "26                    9.0             0        0  \n",
        "27                    9.0             0        0  \n",
        "28                    9.0             0        0  \n",
        "29                   8.96             0        0  \n",
        "...                   ...           ...      ...  \n",
        "15164                8.73             0        0  \n",
        "15165                8.73             0        0  \n",
        "15166                8.81             0        0  \n",
        "15167                8.77             0        0  \n",
        "15168                8.73             0        0  \n",
        "15169                8.81             0        0  \n",
        "15170                8.73             0        0  \n",
        "15171                8.73             0        0  \n",
        "15172                8.77             0        0  \n",
        "15173                8.85             0        0  \n",
        "15174                8.73             0        0  \n",
        "15175                8.73             0        0  \n",
        "15176                8.77             0        0  \n",
        "15177                8.73             0        0  \n",
        "15178                8.73             0        0  \n",
        "15179                8.81             0        0  \n",
        "15180                8.73             0        0  \n",
        "15181                8.73             0        0  \n",
        "15182                8.73             0        0  \n",
        "15183                8.77             0        0  \n",
        "15184                8.88             0        0  \n",
        "15185                8.77             0        0  \n",
        "15186                8.69             0        0  \n",
        "15187                8.88             0        0  \n",
        "15188                8.85             0        0  \n",
        "15189                8.77             0        0  \n",
        "15190                8.77             0        0  \n",
        "15191                8.43             0        0  \n",
        "15192                9.28             0        0  \n",
        "15193                 NaN           NaN      NaN  \n",
        "\n",
        "[15194 rows x 6 columns]>"
       ]
      }
     ],
     "prompt_number": 27
    },
    {
     "cell_type": "code",
     "collapsed": false,
     "input": [
      "data.drop(15193)"
     ],
     "language": "python",
     "metadata": {},
     "outputs": [
      {
       "html": [
        "<div style=\"max-width:1500px;overflow:auto;\">\n",
        "<table border=\"1\" class=\"dataframe\">\n",
        "  <thead>\n",
        "    <tr style=\"text-align: right;\">\n",
        "      <th></th>\n",
        "      <th>0</th>\n",
        "      <th>1</th>\n",
        "      <th>2</th>\n",
        "      <th>3</th>\n",
        "      <th>4</th>\n",
        "      <th>5</th>\n",
        "    </tr>\n",
        "  </thead>\n",
        "  <tbody>\n",
        "    <tr>\n",
        "      <th>0</th>\n",
        "      <td>time</td>\n",
        "      <td>x-axis</td>\n",
        "      <td>y-axis</td>\n",
        "      <td>z-axis</td>\n",
        "      <td>Speedbreaker</td>\n",
        "      <td>Pothole</td>\n",
        "    </tr>\n",
        "    <tr>\n",
        "      <th>1</th>\n",
        "      <td>34.734</td>\n",
        "      <td>-1.5</td>\n",
        "      <td>2.15</td>\n",
        "      <td>9.11</td>\n",
        "      <td>0</td>\n",
        "      <td>0</td>\n",
        "    </tr>\n",
        "    <tr>\n",
        "      <th>2</th>\n",
        "      <td>34.793</td>\n",
        "      <td>-1.31</td>\n",
        "      <td>2.15</td>\n",
        "      <td>9.11</td>\n",
        "      <td>0</td>\n",
        "      <td>0</td>\n",
        "    </tr>\n",
        "    <tr>\n",
        "      <th>3</th>\n",
        "      <td>34.871</td>\n",
        "      <td>-1.33</td>\n",
        "      <td>2.11</td>\n",
        "      <td>8.85</td>\n",
        "      <td>0</td>\n",
        "      <td>0</td>\n",
        "    </tr>\n",
        "    <tr>\n",
        "      <th>4</th>\n",
        "      <td>34.931</td>\n",
        "      <td>-1.23</td>\n",
        "      <td>2.11</td>\n",
        "      <td>9.0</td>\n",
        "      <td>0</td>\n",
        "      <td>0</td>\n",
        "    </tr>\n",
        "    <tr>\n",
        "      <th>5</th>\n",
        "      <td>34.991</td>\n",
        "      <td>-1.33</td>\n",
        "      <td>2.11</td>\n",
        "      <td>8.92</td>\n",
        "      <td>0</td>\n",
        "      <td>0</td>\n",
        "    </tr>\n",
        "    <tr>\n",
        "      <th>6</th>\n",
        "      <td>35.068</td>\n",
        "      <td>-1.3800000000000001</td>\n",
        "      <td>2.11</td>\n",
        "      <td>8.96</td>\n",
        "      <td>0</td>\n",
        "      <td>0</td>\n",
        "    </tr>\n",
        "    <tr>\n",
        "      <th>7</th>\n",
        "      <td>35.131</td>\n",
        "      <td>-1.33</td>\n",
        "      <td>2.11</td>\n",
        "      <td>8.96</td>\n",
        "      <td>0</td>\n",
        "      <td>0</td>\n",
        "    </tr>\n",
        "    <tr>\n",
        "      <th>8</th>\n",
        "      <td>35.209</td>\n",
        "      <td>-1.33</td>\n",
        "      <td>2.11</td>\n",
        "      <td>9.040000000000001</td>\n",
        "      <td>0</td>\n",
        "      <td>0</td>\n",
        "    </tr>\n",
        "    <tr>\n",
        "      <th>9</th>\n",
        "      <td>35.273</td>\n",
        "      <td>-1.3800000000000001</td>\n",
        "      <td>2.15</td>\n",
        "      <td>8.92</td>\n",
        "      <td>0</td>\n",
        "      <td>0</td>\n",
        "    </tr>\n",
        "    <tr>\n",
        "      <th>10</th>\n",
        "      <td>35.338</td>\n",
        "      <td>-1.33</td>\n",
        "      <td>2.15</td>\n",
        "      <td>8.92</td>\n",
        "      <td>0</td>\n",
        "      <td>0</td>\n",
        "    </tr>\n",
        "    <tr>\n",
        "      <th>11</th>\n",
        "      <td>35.403</td>\n",
        "      <td>-1.31</td>\n",
        "      <td>2.0300000000000002</td>\n",
        "      <td>9.040000000000001</td>\n",
        "      <td>0</td>\n",
        "      <td>0</td>\n",
        "    </tr>\n",
        "    <tr>\n",
        "      <th>12</th>\n",
        "      <td>35.47</td>\n",
        "      <td>-1.31</td>\n",
        "      <td>2.07</td>\n",
        "      <td>9.0</td>\n",
        "      <td>0</td>\n",
        "      <td>0</td>\n",
        "    </tr>\n",
        "    <tr>\n",
        "      <th>13</th>\n",
        "      <td>35.53</td>\n",
        "      <td>-1.31</td>\n",
        "      <td>2.15</td>\n",
        "      <td>8.96</td>\n",
        "      <td>0</td>\n",
        "      <td>0</td>\n",
        "    </tr>\n",
        "    <tr>\n",
        "      <th>14</th>\n",
        "      <td>35.593</td>\n",
        "      <td>-1.27</td>\n",
        "      <td>2.11</td>\n",
        "      <td>8.92</td>\n",
        "      <td>0</td>\n",
        "      <td>0</td>\n",
        "    </tr>\n",
        "    <tr>\n",
        "      <th>15</th>\n",
        "      <td>35.658</td>\n",
        "      <td>-1.27</td>\n",
        "      <td>2.11</td>\n",
        "      <td>9.08</td>\n",
        "      <td>0</td>\n",
        "      <td>0</td>\n",
        "    </tr>\n",
        "    <tr>\n",
        "      <th>16</th>\n",
        "      <td>35.723</td>\n",
        "      <td>-1.27</td>\n",
        "      <td>2.07</td>\n",
        "      <td>8.96</td>\n",
        "      <td>0</td>\n",
        "      <td>0</td>\n",
        "    </tr>\n",
        "    <tr>\n",
        "      <th>17</th>\n",
        "      <td>35.791000000000004</td>\n",
        "      <td>-1.23</td>\n",
        "      <td>2.11</td>\n",
        "      <td>9.0</td>\n",
        "      <td>0</td>\n",
        "      <td>0</td>\n",
        "    </tr>\n",
        "    <tr>\n",
        "      <th>18</th>\n",
        "      <td>35.861000000000004</td>\n",
        "      <td>-1.33</td>\n",
        "      <td>2.11</td>\n",
        "      <td>9.0</td>\n",
        "      <td>0</td>\n",
        "      <td>0</td>\n",
        "    </tr>\n",
        "    <tr>\n",
        "      <th>19</th>\n",
        "      <td>35.934</td>\n",
        "      <td>-1.31</td>\n",
        "      <td>1.92</td>\n",
        "      <td>8.96</td>\n",
        "      <td>0</td>\n",
        "      <td>0</td>\n",
        "    </tr>\n",
        "    <tr>\n",
        "      <th>20</th>\n",
        "      <td>36.001</td>\n",
        "      <td>-1.23</td>\n",
        "      <td>2.11</td>\n",
        "      <td>8.96</td>\n",
        "      <td>0</td>\n",
        "      <td>0</td>\n",
        "    </tr>\n",
        "    <tr>\n",
        "      <th>21</th>\n",
        "      <td>36.067</td>\n",
        "      <td>-1.1400000000000001</td>\n",
        "      <td>2.11</td>\n",
        "      <td>8.92</td>\n",
        "      <td>0</td>\n",
        "      <td>0</td>\n",
        "    </tr>\n",
        "    <tr>\n",
        "      <th>22</th>\n",
        "      <td>36.132</td>\n",
        "      <td>-1.23</td>\n",
        "      <td>2.07</td>\n",
        "      <td>9.0</td>\n",
        "      <td>0</td>\n",
        "      <td>0</td>\n",
        "    </tr>\n",
        "    <tr>\n",
        "      <th>23</th>\n",
        "      <td>36.201</td>\n",
        "      <td>-1.27</td>\n",
        "      <td>2.0300000000000002</td>\n",
        "      <td>8.96</td>\n",
        "      <td>0</td>\n",
        "      <td>0</td>\n",
        "    </tr>\n",
        "    <tr>\n",
        "      <th>24</th>\n",
        "      <td>36.271</td>\n",
        "      <td>-1.23</td>\n",
        "      <td>2.07</td>\n",
        "      <td>9.040000000000001</td>\n",
        "      <td>0</td>\n",
        "      <td>0</td>\n",
        "    </tr>\n",
        "    <tr>\n",
        "      <th>25</th>\n",
        "      <td>36.358000000000004</td>\n",
        "      <td>-1.1400000000000001</td>\n",
        "      <td>2.15</td>\n",
        "      <td>8.96</td>\n",
        "      <td>0</td>\n",
        "      <td>0</td>\n",
        "    </tr>\n",
        "    <tr>\n",
        "      <th>26</th>\n",
        "      <td>36.422000000000004</td>\n",
        "      <td>-1.33</td>\n",
        "      <td>2.07</td>\n",
        "      <td>9.0</td>\n",
        "      <td>0</td>\n",
        "      <td>0</td>\n",
        "    </tr>\n",
        "    <tr>\n",
        "      <th>27</th>\n",
        "      <td>36.511</td>\n",
        "      <td>-1.31</td>\n",
        "      <td>2.0300000000000002</td>\n",
        "      <td>9.0</td>\n",
        "      <td>0</td>\n",
        "      <td>0</td>\n",
        "    </tr>\n",
        "    <tr>\n",
        "      <th>28</th>\n",
        "      <td>36.6</td>\n",
        "      <td>-1.23</td>\n",
        "      <td>2.0300000000000002</td>\n",
        "      <td>9.0</td>\n",
        "      <td>0</td>\n",
        "      <td>0</td>\n",
        "    </tr>\n",
        "    <tr>\n",
        "      <th>29</th>\n",
        "      <td>36.67</td>\n",
        "      <td>-1.23</td>\n",
        "      <td>1.99</td>\n",
        "      <td>8.96</td>\n",
        "      <td>0</td>\n",
        "      <td>0</td>\n",
        "    </tr>\n",
        "    <tr>\n",
        "      <th>...</th>\n",
        "      <td>...</td>\n",
        "      <td>...</td>\n",
        "      <td>...</td>\n",
        "      <td>...</td>\n",
        "      <td>...</td>\n",
        "      <td>...</td>\n",
        "    </tr>\n",
        "    <tr>\n",
        "      <th>15163</th>\n",
        "      <td>1052.901</td>\n",
        "      <td>-0.46</td>\n",
        "      <td>2.64</td>\n",
        "      <td>8.77</td>\n",
        "      <td>0</td>\n",
        "      <td>0</td>\n",
        "    </tr>\n",
        "    <tr>\n",
        "      <th>15164</th>\n",
        "      <td>1052.969</td>\n",
        "      <td>-0.46</td>\n",
        "      <td>2.64</td>\n",
        "      <td>8.73</td>\n",
        "      <td>0</td>\n",
        "      <td>0</td>\n",
        "    </tr>\n",
        "    <tr>\n",
        "      <th>15165</th>\n",
        "      <td>1053.032</td>\n",
        "      <td>-0.42</td>\n",
        "      <td>2.68</td>\n",
        "      <td>8.73</td>\n",
        "      <td>0</td>\n",
        "      <td>0</td>\n",
        "    </tr>\n",
        "    <tr>\n",
        "      <th>15166</th>\n",
        "      <td>1053.1</td>\n",
        "      <td>-0.34</td>\n",
        "      <td>2.72</td>\n",
        "      <td>8.81</td>\n",
        "      <td>0</td>\n",
        "      <td>0</td>\n",
        "    </tr>\n",
        "    <tr>\n",
        "      <th>15167</th>\n",
        "      <td>1053.1680000000001</td>\n",
        "      <td>-0.42</td>\n",
        "      <td>2.68</td>\n",
        "      <td>8.77</td>\n",
        "      <td>0</td>\n",
        "      <td>0</td>\n",
        "    </tr>\n",
        "    <tr>\n",
        "      <th>15168</th>\n",
        "      <td>1053.25</td>\n",
        "      <td>-0.46</td>\n",
        "      <td>2.64</td>\n",
        "      <td>8.73</td>\n",
        "      <td>0</td>\n",
        "      <td>0</td>\n",
        "    </tr>\n",
        "    <tr>\n",
        "      <th>15169</th>\n",
        "      <td>1053.318</td>\n",
        "      <td>-0.42</td>\n",
        "      <td>2.68</td>\n",
        "      <td>8.81</td>\n",
        "      <td>0</td>\n",
        "      <td>0</td>\n",
        "    </tr>\n",
        "    <tr>\n",
        "      <th>15170</th>\n",
        "      <td>1053.38</td>\n",
        "      <td>-0.46</td>\n",
        "      <td>2.72</td>\n",
        "      <td>8.73</td>\n",
        "      <td>0</td>\n",
        "      <td>0</td>\n",
        "    </tr>\n",
        "    <tr>\n",
        "      <th>15171</th>\n",
        "      <td>1053.443</td>\n",
        "      <td>-0.42</td>\n",
        "      <td>2.64</td>\n",
        "      <td>8.73</td>\n",
        "      <td>0</td>\n",
        "      <td>0</td>\n",
        "    </tr>\n",
        "    <tr>\n",
        "      <th>15172</th>\n",
        "      <td>1053.511</td>\n",
        "      <td>-0.42</td>\n",
        "      <td>2.64</td>\n",
        "      <td>8.77</td>\n",
        "      <td>0</td>\n",
        "      <td>0</td>\n",
        "    </tr>\n",
        "    <tr>\n",
        "      <th>15173</th>\n",
        "      <td>1053.59</td>\n",
        "      <td>-0.53</td>\n",
        "      <td>2.6</td>\n",
        "      <td>8.85</td>\n",
        "      <td>0</td>\n",
        "      <td>0</td>\n",
        "    </tr>\n",
        "    <tr>\n",
        "      <th>15174</th>\n",
        "      <td>1053.652</td>\n",
        "      <td>-0.53</td>\n",
        "      <td>2.6</td>\n",
        "      <td>8.73</td>\n",
        "      <td>0</td>\n",
        "      <td>0</td>\n",
        "    </tr>\n",
        "    <tr>\n",
        "      <th>15175</th>\n",
        "      <td>1053.7160000000001</td>\n",
        "      <td>-0.42</td>\n",
        "      <td>2.64</td>\n",
        "      <td>8.73</td>\n",
        "      <td>0</td>\n",
        "      <td>0</td>\n",
        "    </tr>\n",
        "    <tr>\n",
        "      <th>15176</th>\n",
        "      <td>1053.807</td>\n",
        "      <td>-0.42</td>\n",
        "      <td>2.72</td>\n",
        "      <td>8.77</td>\n",
        "      <td>0</td>\n",
        "      <td>0</td>\n",
        "    </tr>\n",
        "    <tr>\n",
        "      <th>15177</th>\n",
        "      <td>1053.871</td>\n",
        "      <td>-0.46</td>\n",
        "      <td>2.68</td>\n",
        "      <td>8.73</td>\n",
        "      <td>0</td>\n",
        "      <td>0</td>\n",
        "    </tr>\n",
        "    <tr>\n",
        "      <th>15178</th>\n",
        "      <td>1053.94</td>\n",
        "      <td>-0.46</td>\n",
        "      <td>2.64</td>\n",
        "      <td>8.73</td>\n",
        "      <td>0</td>\n",
        "      <td>0</td>\n",
        "    </tr>\n",
        "    <tr>\n",
        "      <th>15179</th>\n",
        "      <td>1054.008</td>\n",
        "      <td>-0.53</td>\n",
        "      <td>2.68</td>\n",
        "      <td>8.81</td>\n",
        "      <td>0</td>\n",
        "      <td>0</td>\n",
        "    </tr>\n",
        "    <tr>\n",
        "      <th>15180</th>\n",
        "      <td>1054.0910000000001</td>\n",
        "      <td>-0.53</td>\n",
        "      <td>2.64</td>\n",
        "      <td>8.73</td>\n",
        "      <td>0</td>\n",
        "      <td>0</td>\n",
        "    </tr>\n",
        "    <tr>\n",
        "      <th>15181</th>\n",
        "      <td>1054.161</td>\n",
        "      <td>-0.5</td>\n",
        "      <td>2.68</td>\n",
        "      <td>8.73</td>\n",
        "      <td>0</td>\n",
        "      <td>0</td>\n",
        "    </tr>\n",
        "    <tr>\n",
        "      <th>15182</th>\n",
        "      <td>1054.23</td>\n",
        "      <td>-0.5</td>\n",
        "      <td>2.64</td>\n",
        "      <td>8.73</td>\n",
        "      <td>0</td>\n",
        "      <td>0</td>\n",
        "    </tr>\n",
        "    <tr>\n",
        "      <th>15183</th>\n",
        "      <td>1054.298</td>\n",
        "      <td>-0.53</td>\n",
        "      <td>2.68</td>\n",
        "      <td>8.77</td>\n",
        "      <td>0</td>\n",
        "      <td>0</td>\n",
        "    </tr>\n",
        "    <tr>\n",
        "      <th>15184</th>\n",
        "      <td>1054.361</td>\n",
        "      <td>-0.53</td>\n",
        "      <td>2.64</td>\n",
        "      <td>8.88</td>\n",
        "      <td>0</td>\n",
        "      <td>0</td>\n",
        "    </tr>\n",
        "    <tr>\n",
        "      <th>15185</th>\n",
        "      <td>1054.431</td>\n",
        "      <td>-0.23</td>\n",
        "      <td>2.49</td>\n",
        "      <td>8.77</td>\n",
        "      <td>0</td>\n",
        "      <td>0</td>\n",
        "    </tr>\n",
        "    <tr>\n",
        "      <th>15186</th>\n",
        "      <td>1054.499</td>\n",
        "      <td>-0.46</td>\n",
        "      <td>2.83</td>\n",
        "      <td>8.69</td>\n",
        "      <td>0</td>\n",
        "      <td>0</td>\n",
        "    </tr>\n",
        "    <tr>\n",
        "      <th>15187</th>\n",
        "      <td>1054.5620000000001</td>\n",
        "      <td>-0.65</td>\n",
        "      <td>2.87</td>\n",
        "      <td>8.88</td>\n",
        "      <td>0</td>\n",
        "      <td>0</td>\n",
        "    </tr>\n",
        "    <tr>\n",
        "      <th>15188</th>\n",
        "      <td>1054.63</td>\n",
        "      <td>-0.46</td>\n",
        "      <td>2.45</td>\n",
        "      <td>8.85</td>\n",
        "      <td>0</td>\n",
        "      <td>0</td>\n",
        "    </tr>\n",
        "    <tr>\n",
        "      <th>15189</th>\n",
        "      <td>1054.696</td>\n",
        "      <td>-0.5</td>\n",
        "      <td>2.41</td>\n",
        "      <td>8.77</td>\n",
        "      <td>0</td>\n",
        "      <td>0</td>\n",
        "    </tr>\n",
        "    <tr>\n",
        "      <th>15190</th>\n",
        "      <td>1054.761</td>\n",
        "      <td>-0.61</td>\n",
        "      <td>2.64</td>\n",
        "      <td>8.77</td>\n",
        "      <td>0</td>\n",
        "      <td>0</td>\n",
        "    </tr>\n",
        "    <tr>\n",
        "      <th>15191</th>\n",
        "      <td>1054.824</td>\n",
        "      <td>-0.5700000000000001</td>\n",
        "      <td>2.64</td>\n",
        "      <td>8.43</td>\n",
        "      <td>0</td>\n",
        "      <td>0</td>\n",
        "    </tr>\n",
        "    <tr>\n",
        "      <th>15192</th>\n",
        "      <td>1054.891</td>\n",
        "      <td>-0.38</td>\n",
        "      <td>2.83</td>\n",
        "      <td>9.28</td>\n",
        "      <td>0</td>\n",
        "      <td>0</td>\n",
        "    </tr>\n",
        "  </tbody>\n",
        "</table>\n",
        "<p>15193 rows \u00d7 6 columns</p>\n",
        "</div>"
       ],
       "metadata": {},
       "output_type": "pyout",
       "prompt_number": 32,
       "text": [
        "                         0                      1                     2  \\\n",
        "0                     time                 x-axis                y-axis   \n",
        "1                  34.734                   -1.5                  2.15    \n",
        "2                  34.793                  -1.31                  2.15    \n",
        "3                  34.871                  -1.33                  2.11    \n",
        "4                  34.931                  -1.23                  2.11    \n",
        "5                  34.991                  -1.33                  2.11    \n",
        "6                  35.068    -1.3800000000000001                  2.11    \n",
        "7                  35.131                  -1.33                  2.11    \n",
        "8                  35.209                  -1.33                  2.11    \n",
        "9                  35.273    -1.3800000000000001                  2.15    \n",
        "10                 35.338                  -1.33                  2.15    \n",
        "11                 35.403                  -1.31    2.0300000000000002    \n",
        "12                  35.47                  -1.31                  2.07    \n",
        "13                  35.53                  -1.31                  2.15    \n",
        "14                 35.593                  -1.27                  2.11    \n",
        "15                 35.658                  -1.27                  2.11    \n",
        "16                 35.723                  -1.27                  2.07    \n",
        "17     35.791000000000004                  -1.23                  2.11    \n",
        "18     35.861000000000004                  -1.33                  2.11    \n",
        "19                 35.934                  -1.31                  1.92    \n",
        "20                 36.001                  -1.23                  2.11    \n",
        "21                 36.067    -1.1400000000000001                  2.11    \n",
        "22                 36.132                  -1.23                  2.07    \n",
        "23                 36.201                  -1.27    2.0300000000000002    \n",
        "24                 36.271                  -1.23                  2.07    \n",
        "25     36.358000000000004    -1.1400000000000001                  2.15    \n",
        "26     36.422000000000004                  -1.33                  2.07    \n",
        "27                 36.511                  -1.31    2.0300000000000002    \n",
        "28                   36.6                  -1.23    2.0300000000000002    \n",
        "29                  36.67                  -1.23                  1.99    \n",
        "...                    ...                    ...                   ...   \n",
        "15163            1052.901                  -0.46                  2.64    \n",
        "15164            1052.969                  -0.46                  2.64    \n",
        "15165            1053.032                  -0.42                  2.68    \n",
        "15166              1053.1                  -0.34                  2.72    \n",
        "15167  1053.1680000000001                  -0.42                  2.68    \n",
        "15168             1053.25                  -0.46                  2.64    \n",
        "15169            1053.318                  -0.42                  2.68    \n",
        "15170             1053.38                  -0.46                  2.72    \n",
        "15171            1053.443                  -0.42                  2.64    \n",
        "15172            1053.511                  -0.42                  2.64    \n",
        "15173             1053.59                  -0.53                   2.6    \n",
        "15174            1053.652                  -0.53                   2.6    \n",
        "15175  1053.7160000000001                  -0.42                  2.64    \n",
        "15176            1053.807                  -0.42                  2.72    \n",
        "15177            1053.871                  -0.46                  2.68    \n",
        "15178             1053.94                  -0.46                  2.64    \n",
        "15179            1054.008                  -0.53                  2.68    \n",
        "15180  1054.0910000000001                  -0.53                  2.64    \n",
        "15181            1054.161                   -0.5                  2.68    \n",
        "15182             1054.23                   -0.5                  2.64    \n",
        "15183            1054.298                  -0.53                  2.68    \n",
        "15184            1054.361                  -0.53                  2.64    \n",
        "15185            1054.431                  -0.23                  2.49    \n",
        "15186            1054.499                  -0.46                  2.83    \n",
        "15187  1054.5620000000001                  -0.65                  2.87    \n",
        "15188             1054.63                  -0.46                  2.45    \n",
        "15189            1054.696                   -0.5                  2.41    \n",
        "15190            1054.761                  -0.61                  2.64    \n",
        "15191            1054.824    -0.5700000000000001                  2.64    \n",
        "15192            1054.891                  -0.38                  2.83    \n",
        "\n",
        "                        3             4        5  \n",
        "0                  z-axis  Speedbreaker  Pothole  \n",
        "1                    9.11             0        0  \n",
        "2                    9.11             0        0  \n",
        "3                    8.85             0        0  \n",
        "4                     9.0             0        0  \n",
        "5                    8.92             0        0  \n",
        "6                    8.96             0        0  \n",
        "7                    8.96             0        0  \n",
        "8       9.040000000000001             0        0  \n",
        "9                    8.92             0        0  \n",
        "10                   8.92             0        0  \n",
        "11      9.040000000000001             0        0  \n",
        "12                    9.0             0        0  \n",
        "13                   8.96             0        0  \n",
        "14                   8.92             0        0  \n",
        "15                   9.08             0        0  \n",
        "16                   8.96             0        0  \n",
        "17                    9.0             0        0  \n",
        "18                    9.0             0        0  \n",
        "19                   8.96             0        0  \n",
        "20                   8.96             0        0  \n",
        "21                   8.92             0        0  \n",
        "22                    9.0             0        0  \n",
        "23                   8.96             0        0  \n",
        "24      9.040000000000001             0        0  \n",
        "25                   8.96             0        0  \n",
        "26                    9.0             0        0  \n",
        "27                    9.0             0        0  \n",
        "28                    9.0             0        0  \n",
        "29                   8.96             0        0  \n",
        "...                   ...           ...      ...  \n",
        "15163                8.77             0        0  \n",
        "15164                8.73             0        0  \n",
        "15165                8.73             0        0  \n",
        "15166                8.81             0        0  \n",
        "15167                8.77             0        0  \n",
        "15168                8.73             0        0  \n",
        "15169                8.81             0        0  \n",
        "15170                8.73             0        0  \n",
        "15171                8.73             0        0  \n",
        "15172                8.77             0        0  \n",
        "15173                8.85             0        0  \n",
        "15174                8.73             0        0  \n",
        "15175                8.73             0        0  \n",
        "15176                8.77             0        0  \n",
        "15177                8.73             0        0  \n",
        "15178                8.73             0        0  \n",
        "15179                8.81             0        0  \n",
        "15180                8.73             0        0  \n",
        "15181                8.73             0        0  \n",
        "15182                8.73             0        0  \n",
        "15183                8.77             0        0  \n",
        "15184                8.88             0        0  \n",
        "15185                8.77             0        0  \n",
        "15186                8.69             0        0  \n",
        "15187                8.88             0        0  \n",
        "15188                8.85             0        0  \n",
        "15189                8.77             0        0  \n",
        "15190                8.77             0        0  \n",
        "15191                8.43             0        0  \n",
        "15192                9.28             0        0  \n",
        "\n",
        "[15193 rows x 6 columns]"
       ]
      }
     ],
     "prompt_number": 32
    },
    {
     "cell_type": "code",
     "collapsed": false,
     "input": [
      "data=data.drop(0)"
     ],
     "language": "python",
     "metadata": {},
     "outputs": [],
     "prompt_number": 34
    },
    {
     "cell_type": "code",
     "collapsed": false,
     "input": [
      "data=data.dropna"
     ],
     "language": "python",
     "metadata": {},
     "outputs": [],
     "prompt_number": 36
    },
    {
     "cell_type": "code",
     "collapsed": false,
     "input": [
      "data"
     ],
     "language": "python",
     "metadata": {},
     "outputs": [
      {
       "metadata": {},
       "output_type": "pyout",
       "prompt_number": 37,
       "text": [
        "<bound method DataFrame.dropna of                          0                      1                     2  \\\n",
        "1                  34.734                   -1.5                  2.15    \n",
        "2                  34.793                  -1.31                  2.15    \n",
        "3                  34.871                  -1.33                  2.11    \n",
        "4                  34.931                  -1.23                  2.11    \n",
        "5                  34.991                  -1.33                  2.11    \n",
        "6                  35.068    -1.3800000000000001                  2.11    \n",
        "7                  35.131                  -1.33                  2.11    \n",
        "8                  35.209                  -1.33                  2.11    \n",
        "9                  35.273    -1.3800000000000001                  2.15    \n",
        "10                 35.338                  -1.33                  2.15    \n",
        "11                 35.403                  -1.31    2.0300000000000002    \n",
        "12                  35.47                  -1.31                  2.07    \n",
        "13                  35.53                  -1.31                  2.15    \n",
        "14                 35.593                  -1.27                  2.11    \n",
        "15                 35.658                  -1.27                  2.11    \n",
        "16                 35.723                  -1.27                  2.07    \n",
        "17     35.791000000000004                  -1.23                  2.11    \n",
        "18     35.861000000000004                  -1.33                  2.11    \n",
        "19                 35.934                  -1.31                  1.92    \n",
        "20                 36.001                  -1.23                  2.11    \n",
        "21                 36.067    -1.1400000000000001                  2.11    \n",
        "22                 36.132                  -1.23                  2.07    \n",
        "23                 36.201                  -1.27    2.0300000000000002    \n",
        "24                 36.271                  -1.23                  2.07    \n",
        "25     36.358000000000004    -1.1400000000000001                  2.15    \n",
        "26     36.422000000000004                  -1.33                  2.07    \n",
        "27                 36.511                  -1.31    2.0300000000000002    \n",
        "28                   36.6                  -1.23    2.0300000000000002    \n",
        "29                  36.67                  -1.23                  1.99    \n",
        "30                 36.746    -1.3800000000000001    2.0300000000000002    \n",
        "...                    ...                    ...                   ...   \n",
        "15164            1052.969                  -0.46                  2.64    \n",
        "15165            1053.032                  -0.42                  2.68    \n",
        "15166              1053.1                  -0.34                  2.72    \n",
        "15167  1053.1680000000001                  -0.42                  2.68    \n",
        "15168             1053.25                  -0.46                  2.64    \n",
        "15169            1053.318                  -0.42                  2.68    \n",
        "15170             1053.38                  -0.46                  2.72    \n",
        "15171            1053.443                  -0.42                  2.64    \n",
        "15172            1053.511                  -0.42                  2.64    \n",
        "15173             1053.59                  -0.53                   2.6    \n",
        "15174            1053.652                  -0.53                   2.6    \n",
        "15175  1053.7160000000001                  -0.42                  2.64    \n",
        "15176            1053.807                  -0.42                  2.72    \n",
        "15177            1053.871                  -0.46                  2.68    \n",
        "15178             1053.94                  -0.46                  2.64    \n",
        "15179            1054.008                  -0.53                  2.68    \n",
        "15180  1054.0910000000001                  -0.53                  2.64    \n",
        "15181            1054.161                   -0.5                  2.68    \n",
        "15182             1054.23                   -0.5                  2.64    \n",
        "15183            1054.298                  -0.53                  2.68    \n",
        "15184            1054.361                  -0.53                  2.64    \n",
        "15185            1054.431                  -0.23                  2.49    \n",
        "15186            1054.499                  -0.46                  2.83    \n",
        "15187  1054.5620000000001                  -0.65                  2.87    \n",
        "15188             1054.63                  -0.46                  2.45    \n",
        "15189            1054.696                   -0.5                  2.41    \n",
        "15190            1054.761                  -0.61                  2.64    \n",
        "15191            1054.824    -0.5700000000000001                  2.64    \n",
        "15192            1054.891                  -0.38                  2.83    \n",
        "15193                notes                 Dwarka       soshant droving   \n",
        "\n",
        "                        3    4    5  \n",
        "1                    9.11    0    0  \n",
        "2                    9.11    0    0  \n",
        "3                    8.85    0    0  \n",
        "4                     9.0    0    0  \n",
        "5                    8.92    0    0  \n",
        "6                    8.96    0    0  \n",
        "7                    8.96    0    0  \n",
        "8       9.040000000000001    0    0  \n",
        "9                    8.92    0    0  \n",
        "10                   8.92    0    0  \n",
        "11      9.040000000000001    0    0  \n",
        "12                    9.0    0    0  \n",
        "13                   8.96    0    0  \n",
        "14                   8.92    0    0  \n",
        "15                   9.08    0    0  \n",
        "16                   8.96    0    0  \n",
        "17                    9.0    0    0  \n",
        "18                    9.0    0    0  \n",
        "19                   8.96    0    0  \n",
        "20                   8.96    0    0  \n",
        "21                   8.92    0    0  \n",
        "22                    9.0    0    0  \n",
        "23                   8.96    0    0  \n",
        "24      9.040000000000001    0    0  \n",
        "25                   8.96    0    0  \n",
        "26                    9.0    0    0  \n",
        "27                    9.0    0    0  \n",
        "28                    9.0    0    0  \n",
        "29                   8.96    0    0  \n",
        "30      9.040000000000001    0    0  \n",
        "...                   ...  ...  ...  \n",
        "15164                8.73    0    0  \n",
        "15165                8.73    0    0  \n",
        "15166                8.81    0    0  \n",
        "15167                8.77    0    0  \n",
        "15168                8.73    0    0  \n",
        "15169                8.81    0    0  \n",
        "15170                8.73    0    0  \n",
        "15171                8.73    0    0  \n",
        "15172                8.77    0    0  \n",
        "15173                8.85    0    0  \n",
        "15174                8.73    0    0  \n",
        "15175                8.73    0    0  \n",
        "15176                8.77    0    0  \n",
        "15177                8.73    0    0  \n",
        "15178                8.73    0    0  \n",
        "15179                8.81    0    0  \n",
        "15180                8.73    0    0  \n",
        "15181                8.73    0    0  \n",
        "15182                8.73    0    0  \n",
        "15183                8.77    0    0  \n",
        "15184                8.88    0    0  \n",
        "15185                8.77    0    0  \n",
        "15186                8.69    0    0  \n",
        "15187                8.88    0    0  \n",
        "15188                8.85    0    0  \n",
        "15189                8.77    0    0  \n",
        "15190                8.77    0    0  \n",
        "15191                8.43    0    0  \n",
        "15192                9.28    0    0  \n",
        "15193                 NaN  NaN  NaN  \n",
        "\n",
        "[15193 rows x 6 columns]>"
       ]
      }
     ],
     "prompt_number": 37
    },
    {
     "cell_type": "code",
     "collapsed": false,
     "input": [
      "names=['Bob', 'Jessica', 'Mary', 'John', 'Mel']\n",
      "births=[989,144,44,578,973]"
     ],
     "language": "python",
     "metadata": {},
     "outputs": [],
     "prompt_number": 38
    },
    {
     "cell_type": "code",
     "collapsed": false,
     "input": [
      "zip?"
     ],
     "language": "python",
     "metadata": {},
     "outputs": [],
     "prompt_number": 39
    },
    {
     "cell_type": "code",
     "collapsed": false,
     "input": [
      "data=zip(names, births)"
     ],
     "language": "python",
     "metadata": {},
     "outputs": [],
     "prompt_number": 40
    },
    {
     "cell_type": "code",
     "collapsed": false,
     "input": [
      "data"
     ],
     "language": "python",
     "metadata": {},
     "outputs": [
      {
       "metadata": {},
       "output_type": "pyout",
       "prompt_number": 41,
       "text": [
        "[('Bob', 989), ('Jessica', 144), ('Mary', 44), ('John', 578), ('Mel', 973)]"
       ]
      }
     ],
     "prompt_number": 41
    },
    {
     "cell_type": "code",
     "collapsed": false,
     "input": [
      "df=pd.DataFrame(data=data, columns=['Names', 'Births']) "
     ],
     "language": "python",
     "metadata": {},
     "outputs": [],
     "prompt_number": 42
    },
    {
     "cell_type": "code",
     "collapsed": false,
     "input": [
      "df"
     ],
     "language": "python",
     "metadata": {},
     "outputs": [
      {
       "html": [
        "<div style=\"max-width:1500px;overflow:auto;\">\n",
        "<table border=\"1\" class=\"dataframe\">\n",
        "  <thead>\n",
        "    <tr style=\"text-align: right;\">\n",
        "      <th></th>\n",
        "      <th>Names</th>\n",
        "      <th>Births</th>\n",
        "    </tr>\n",
        "  </thead>\n",
        "  <tbody>\n",
        "    <tr>\n",
        "      <th>0</th>\n",
        "      <td>Bob</td>\n",
        "      <td>989</td>\n",
        "    </tr>\n",
        "    <tr>\n",
        "      <th>1</th>\n",
        "      <td>Jessica</td>\n",
        "      <td>144</td>\n",
        "    </tr>\n",
        "    <tr>\n",
        "      <th>2</th>\n",
        "      <td>Mary</td>\n",
        "      <td>44</td>\n",
        "    </tr>\n",
        "    <tr>\n",
        "      <th>3</th>\n",
        "      <td>John</td>\n",
        "      <td>578</td>\n",
        "    </tr>\n",
        "    <tr>\n",
        "      <th>4</th>\n",
        "      <td>Mel</td>\n",
        "      <td>973</td>\n",
        "    </tr>\n",
        "  </tbody>\n",
        "</table>\n",
        "</div>"
       ],
       "metadata": {},
       "output_type": "pyout",
       "prompt_number": 43,
       "text": [
        "     Names  Births\n",
        "0      Bob     989\n",
        "1  Jessica     144\n",
        "2     Mary      44\n",
        "3     John     578\n",
        "4      Mel     973"
       ]
      }
     ],
     "prompt_number": 43
    },
    {
     "cell_type": "code",
     "collapsed": false,
     "input": [
      "df.to_csv('births.csv', index=False, header=False)"
     ],
     "language": "python",
     "metadata": {},
     "outputs": [],
     "prompt_number": 44
    },
    {
     "cell_type": "code",
     "collapsed": false,
     "input": [
      "location=r'births.csv'"
     ],
     "language": "python",
     "metadata": {},
     "outputs": [],
     "prompt_number": 45
    },
    {
     "cell_type": "code",
     "collapsed": false,
     "input": [
      "location"
     ],
     "language": "python",
     "metadata": {},
     "outputs": [
      {
       "metadata": {},
       "output_type": "pyout",
       "prompt_number": 46,
       "text": [
        "'births.csv'"
       ]
      }
     ],
     "prompt_number": 46
    },
    {
     "cell_type": "code",
     "collapsed": false,
     "input": [
      "dt=pd.read_csv(location)"
     ],
     "language": "python",
     "metadata": {},
     "outputs": [],
     "prompt_number": 47
    },
    {
     "cell_type": "code",
     "collapsed": false,
     "input": [
      "dt"
     ],
     "language": "python",
     "metadata": {},
     "outputs": [
      {
       "html": [
        "<div style=\"max-width:1500px;overflow:auto;\">\n",
        "<table border=\"1\" class=\"dataframe\">\n",
        "  <thead>\n",
        "    <tr style=\"text-align: right;\">\n",
        "      <th></th>\n",
        "      <th>Bob</th>\n",
        "      <th>989</th>\n",
        "    </tr>\n",
        "  </thead>\n",
        "  <tbody>\n",
        "    <tr>\n",
        "      <th>0</th>\n",
        "      <td>Jessica</td>\n",
        "      <td>144</td>\n",
        "    </tr>\n",
        "    <tr>\n",
        "      <th>1</th>\n",
        "      <td>Mary</td>\n",
        "      <td>44</td>\n",
        "    </tr>\n",
        "    <tr>\n",
        "      <th>2</th>\n",
        "      <td>John</td>\n",
        "      <td>578</td>\n",
        "    </tr>\n",
        "    <tr>\n",
        "      <th>3</th>\n",
        "      <td>Mel</td>\n",
        "      <td>973</td>\n",
        "    </tr>\n",
        "  </tbody>\n",
        "</table>\n",
        "</div>"
       ],
       "metadata": {},
       "output_type": "pyout",
       "prompt_number": 48,
       "text": [
        "       Bob  989\n",
        "0  Jessica  144\n",
        "1     Mary   44\n",
        "2     John  578\n",
        "3      Mel  973"
       ]
      }
     ],
     "prompt_number": 48
    },
    {
     "cell_type": "code",
     "collapsed": false,
     "input": [
      "import os\n",
      "os.remove(location)"
     ],
     "language": "python",
     "metadata": {},
     "outputs": [],
     "prompt_number": 49
    },
    {
     "cell_type": "code",
     "collapsed": false,
     "input": [
      "dt.dtypes"
     ],
     "language": "python",
     "metadata": {},
     "outputs": [
      {
       "metadata": {},
       "output_type": "pyout",
       "prompt_number": 50,
       "text": [
        "Bob    object\n",
        "989     int64\n",
        "dtype: object"
       ]
      }
     ],
     "prompt_number": 50
    },
    {
     "cell_type": "code",
     "collapsed": false,
     "input": [
      "df.Births"
     ],
     "language": "python",
     "metadata": {},
     "outputs": [
      {
       "metadata": {},
       "output_type": "pyout",
       "prompt_number": 51,
       "text": [
        "0    989\n",
        "1    144\n",
        "2     44\n",
        "3    578\n",
        "4    973\n",
        "Name: Births, dtype: int64"
       ]
      }
     ],
     "prompt_number": 51
    },
    {
     "cell_type": "code",
     "collapsed": false,
     "input": [
      "s=df.sort(['Births'], ascending=False)"
     ],
     "language": "python",
     "metadata": {},
     "outputs": [],
     "prompt_number": 53
    },
    {
     "cell_type": "code",
     "collapsed": false,
     "input": [
      "s.head(3)"
     ],
     "language": "python",
     "metadata": {},
     "outputs": [
      {
       "html": [
        "<div style=\"max-width:1500px;overflow:auto;\">\n",
        "<table border=\"1\" class=\"dataframe\">\n",
        "  <thead>\n",
        "    <tr style=\"text-align: right;\">\n",
        "      <th></th>\n",
        "      <th>Names</th>\n",
        "      <th>Births</th>\n",
        "    </tr>\n",
        "  </thead>\n",
        "  <tbody>\n",
        "    <tr>\n",
        "      <th>0</th>\n",
        "      <td>Bob</td>\n",
        "      <td>989</td>\n",
        "    </tr>\n",
        "    <tr>\n",
        "      <th>4</th>\n",
        "      <td>Mel</td>\n",
        "      <td>973</td>\n",
        "    </tr>\n",
        "    <tr>\n",
        "      <th>3</th>\n",
        "      <td>John</td>\n",
        "      <td>578</td>\n",
        "    </tr>\n",
        "  </tbody>\n",
        "</table>\n",
        "</div>"
       ],
       "metadata": {},
       "output_type": "pyout",
       "prompt_number": 54,
       "text": [
        "  Names  Births\n",
        "0   Bob     989\n",
        "4   Mel     973\n",
        "3  John     578"
       ]
      }
     ],
     "prompt_number": 54
    },
    {
     "cell_type": "code",
     "collapsed": false,
     "input": [
      "df['Births'].max()"
     ],
     "language": "python",
     "metadata": {},
     "outputs": [
      {
       "metadata": {},
       "output_type": "pyout",
       "prompt_number": 55,
       "text": [
        "989"
       ]
      }
     ],
     "prompt_number": 55
    },
    {
     "cell_type": "code",
     "collapsed": false,
     "input": [
      "[df['Births'] == df['Births'].max()]"
     ],
     "language": "python",
     "metadata": {},
     "outputs": [
      {
       "metadata": {},
       "output_type": "pyout",
       "prompt_number": 56,
       "text": [
        "[0     True\n",
        "1    False\n",
        "2    False\n",
        "3    False\n",
        "4    False\n",
        "Name: Births, dtype: bool]"
       ]
      }
     ],
     "prompt_number": 56
    },
    {
     "cell_type": "code",
     "collapsed": false,
     "input": [
      "df['Names'][df['Births'] == df['Births'].max()]"
     ],
     "language": "python",
     "metadata": {},
     "outputs": [
      {
       "metadata": {},
       "output_type": "pyout",
       "prompt_number": 57,
       "text": [
        "0    Bob\n",
        "Name: Names, dtype: object"
       ]
      }
     ],
     "prompt_number": 57
    },
    {
     "cell_type": "code",
     "collapsed": false,
     "input": [
      "MaxName = df['Names'][df['Births'] == df['Births'].max()].values"
     ],
     "language": "python",
     "metadata": {},
     "outputs": [],
     "prompt_number": 58
    },
    {
     "cell_type": "code",
     "collapsed": false,
     "input": [
      "MaxName"
     ],
     "language": "python",
     "metadata": {},
     "outputs": [
      {
       "metadata": {},
       "output_type": "pyout",
       "prompt_number": 59,
       "text": [
        "array(['Bob'], dtype=object)"
       ]
      }
     ],
     "prompt_number": 59
    },
    {
     "cell_type": "code",
     "collapsed": false,
     "input": [
      "df.Births.plot"
     ],
     "language": "python",
     "metadata": {},
     "outputs": [
      {
       "metadata": {},
       "output_type": "pyout",
       "prompt_number": 60,
       "text": [
        "<bound method Series.plot_series of 0    989\n",
        "1    144\n",
        "2     44\n",
        "3    578\n",
        "4    973\n",
        "Name: Births, dtype: int64>"
       ]
      }
     ],
     "prompt_number": 60
    },
    {
     "cell_type": "code",
     "collapsed": false,
     "input": [
      "df['Births'].plot"
     ],
     "language": "python",
     "metadata": {},
     "outputs": [
      {
       "metadata": {},
       "output_type": "pyout",
       "prompt_number": 61,
       "text": [
        "<bound method Series.plot_series of 0    989\n",
        "1    144\n",
        "2     44\n",
        "3    578\n",
        "4    973\n",
        "Name: Births, dtype: int64>"
       ]
      }
     ],
     "prompt_number": 61
    },
    {
     "cell_type": "code",
     "collapsed": false,
     "input": [
      "%matplotlib inline"
     ],
     "language": "python",
     "metadata": {},
     "outputs": [],
     "prompt_number": 62
    },
    {
     "cell_type": "code",
     "collapsed": false,
     "input": [
      "\n",
      "from pandas import DataFrame, read_csv\n",
      "\n",
      "# General syntax to import a library but no functions: \n",
      "##import (library) as (give the library a nickname/alias)\n",
      "import matplotlib.pyplot as plt\n",
      "import pandas as pd #this is how I usually import pandas\n",
      "import sys #only needed to determine Python version number\n",
      "\n",
      "# Enable inline plotting\n",
      "%matplotlib inline"
     ],
     "language": "python",
     "metadata": {},
     "outputs": [],
     "prompt_number": 66
    },
    {
     "cell_type": "code",
     "collapsed": false,
     "input": [
      "df['Births'].plot"
     ],
     "language": "python",
     "metadata": {},
     "outputs": [
      {
       "metadata": {},
       "output_type": "pyout",
       "prompt_number": 67,
       "text": [
        "<bound method Series.plot_series of 0    989\n",
        "1    144\n",
        "2     44\n",
        "3    578\n",
        "4    973\n",
        "Name: Births, dtype: int64>"
       ]
      }
     ],
     "prompt_number": 67
    },
    {
     "cell_type": "code",
     "collapsed": false,
     "input": [
      "df['Births'].plot"
     ],
     "language": "python",
     "metadata": {},
     "outputs": [
      {
       "metadata": {},
       "output_type": "pyout",
       "prompt_number": 68,
       "text": [
        "0    989\n",
        "1    144\n",
        "2     44\n",
        "3    578\n",
        "4    973\n",
        "Name: Births, dtype: int64"
       ]
      }
     ],
     "prompt_number": 68
    },
    {
     "cell_type": "code",
     "collapsed": false,
     "input": [
      "df['Births'].plot"
     ],
     "language": "python",
     "metadata": {},
     "outputs": [
      {
       "metadata": {},
       "output_type": "pyout",
       "prompt_number": 69,
       "text": [
        "<bound method Series.plot_series of 0    989\n",
        "1    144\n",
        "2     44\n",
        "3    578\n",
        "4    973\n",
        "Name: Births, dtype: int64>"
       ]
      }
     ],
     "prompt_number": 69
    },
    {
     "cell_type": "code",
     "collapsed": false,
     "input": [
      "%matplotlib inline"
     ],
     "language": "python",
     "metadata": {},
     "outputs": [],
     "prompt_number": 71
    },
    {
     "cell_type": "code",
     "collapsed": false,
     "input": [
      "plot(2,3)"
     ],
     "language": "python",
     "metadata": {},
     "outputs": [
      {
       "ename": "NameError",
       "evalue": "name 'plot' is not defined",
       "output_type": "pyerr",
       "traceback": [
        "\u001b[0;31m---------------------------------------------------------------------------\u001b[0m\n\u001b[0;31mNameError\u001b[0m                                 Traceback (most recent call last)",
        "\u001b[0;32m<ipython-input-72-2cdcd38e880d>\u001b[0m in \u001b[0;36m<module>\u001b[0;34m()\u001b[0m\n\u001b[0;32m----> 1\u001b[0;31m \u001b[0mplot\u001b[0m\u001b[0;34m(\u001b[0m\u001b[0;36m2\u001b[0m\u001b[0;34m,\u001b[0m\u001b[0;36m3\u001b[0m\u001b[0;34m)\u001b[0m\u001b[0;34m\u001b[0m\u001b[0m\n\u001b[0m",
        "\u001b[0;31mNameError\u001b[0m: name 'plot' is not defined"
       ]
      }
     ],
     "prompt_number": 72
    },
    {
     "cell_type": "code",
     "collapsed": false,
     "input": [
      "fig, ax=plt.subplot()"
     ],
     "language": "python",
     "metadata": {},
     "outputs": [
      {
       "ename": "AttributeError",
       "evalue": "'AxesSubplot' object has no attribute 'set_ncols'",
       "output_type": "pyerr",
       "traceback": [
        "\u001b[0;31m---------------------------------------------------------------------------\u001b[0m\n\u001b[0;31mAttributeError\u001b[0m                            Traceback (most recent call last)",
        "\u001b[0;32m<ipython-input-74-328ccb149eee>\u001b[0m in \u001b[0;36m<module>\u001b[0;34m()\u001b[0m\n\u001b[0;32m----> 1\u001b[0;31m \u001b[0mfig\u001b[0m\u001b[0;34m,\u001b[0m \u001b[0max\u001b[0m\u001b[0;34m=\u001b[0m\u001b[0mplt\u001b[0m\u001b[0;34m.\u001b[0m\u001b[0msubplot\u001b[0m\u001b[0;34m(\u001b[0m\u001b[0mncols\u001b[0m\u001b[0;34m=\u001b[0m\u001b[0;36m3\u001b[0m\u001b[0;34m)\u001b[0m\u001b[0;34m\u001b[0m\u001b[0m\n\u001b[0m",
        "\u001b[0;32m/usr/lib/pymodules/python2.7/matplotlib/pyplot.pyc\u001b[0m in \u001b[0;36msubplot\u001b[0;34m(*args, **kwargs)\u001b[0m\n\u001b[1;32m    895\u001b[0m \u001b[0;34m\u001b[0m\u001b[0m\n\u001b[1;32m    896\u001b[0m     \u001b[0mfig\u001b[0m \u001b[0;34m=\u001b[0m \u001b[0mgcf\u001b[0m\u001b[0;34m(\u001b[0m\u001b[0;34m)\u001b[0m\u001b[0;34m\u001b[0m\u001b[0m\n\u001b[0;32m--> 897\u001b[0;31m     \u001b[0ma\u001b[0m \u001b[0;34m=\u001b[0m \u001b[0mfig\u001b[0m\u001b[0;34m.\u001b[0m\u001b[0madd_subplot\u001b[0m\u001b[0;34m(\u001b[0m\u001b[0;34m*\u001b[0m\u001b[0margs\u001b[0m\u001b[0;34m,\u001b[0m \u001b[0;34m**\u001b[0m\u001b[0mkwargs\u001b[0m\u001b[0;34m)\u001b[0m\u001b[0;34m\u001b[0m\u001b[0m\n\u001b[0m\u001b[1;32m    898\u001b[0m     \u001b[0mbbox\u001b[0m \u001b[0;34m=\u001b[0m \u001b[0ma\u001b[0m\u001b[0;34m.\u001b[0m\u001b[0mbbox\u001b[0m\u001b[0;34m\u001b[0m\u001b[0m\n\u001b[1;32m    899\u001b[0m     \u001b[0mbyebye\u001b[0m \u001b[0;34m=\u001b[0m \u001b[0;34m[\u001b[0m\u001b[0;34m]\u001b[0m\u001b[0;34m\u001b[0m\u001b[0m\n",
        "\u001b[0;32m/usr/lib/pymodules/python2.7/matplotlib/figure.pyc\u001b[0m in \u001b[0;36madd_subplot\u001b[0;34m(self, *args, **kwargs)\u001b[0m\n\u001b[1;32m    912\u001b[0m                     \u001b[0mself\u001b[0m\u001b[0;34m.\u001b[0m\u001b[0m_axstack\u001b[0m\u001b[0;34m.\u001b[0m\u001b[0mremove\u001b[0m\u001b[0;34m(\u001b[0m\u001b[0max\u001b[0m\u001b[0;34m)\u001b[0m\u001b[0;34m\u001b[0m\u001b[0m\n\u001b[1;32m    913\u001b[0m \u001b[0;34m\u001b[0m\u001b[0m\n\u001b[0;32m--> 914\u001b[0;31m             \u001b[0ma\u001b[0m \u001b[0;34m=\u001b[0m \u001b[0msubplot_class_factory\u001b[0m\u001b[0;34m(\u001b[0m\u001b[0mprojection_class\u001b[0m\u001b[0;34m)\u001b[0m\u001b[0;34m(\u001b[0m\u001b[0mself\u001b[0m\u001b[0;34m,\u001b[0m \u001b[0;34m*\u001b[0m\u001b[0margs\u001b[0m\u001b[0;34m,\u001b[0m \u001b[0;34m**\u001b[0m\u001b[0mkwargs\u001b[0m\u001b[0;34m)\u001b[0m\u001b[0;34m\u001b[0m\u001b[0m\n\u001b[0m\u001b[1;32m    915\u001b[0m \u001b[0;34m\u001b[0m\u001b[0m\n\u001b[1;32m    916\u001b[0m         \u001b[0mself\u001b[0m\u001b[0;34m.\u001b[0m\u001b[0m_axstack\u001b[0m\u001b[0;34m.\u001b[0m\u001b[0madd\u001b[0m\u001b[0;34m(\u001b[0m\u001b[0mkey\u001b[0m\u001b[0;34m,\u001b[0m \u001b[0ma\u001b[0m\u001b[0;34m)\u001b[0m\u001b[0;34m\u001b[0m\u001b[0m\n",
        "\u001b[0;32m/usr/lib/pymodules/python2.7/matplotlib/axes.pyc\u001b[0m in \u001b[0;36m__init__\u001b[0;34m(self, fig, *args, **kwargs)\u001b[0m\n\u001b[1;32m   9257\u001b[0m \u001b[0;34m\u001b[0m\u001b[0m\n\u001b[1;32m   9258\u001b[0m         \u001b[0;31m# _axes_class is set in the subplot_class_factory\u001b[0m\u001b[0;34m\u001b[0m\u001b[0;34m\u001b[0m\u001b[0m\n\u001b[0;32m-> 9259\u001b[0;31m         \u001b[0mself\u001b[0m\u001b[0;34m.\u001b[0m\u001b[0m_axes_class\u001b[0m\u001b[0;34m.\u001b[0m\u001b[0m__init__\u001b[0m\u001b[0;34m(\u001b[0m\u001b[0mself\u001b[0m\u001b[0;34m,\u001b[0m \u001b[0mfig\u001b[0m\u001b[0;34m,\u001b[0m \u001b[0mself\u001b[0m\u001b[0;34m.\u001b[0m\u001b[0mfigbox\u001b[0m\u001b[0;34m,\u001b[0m \u001b[0;34m**\u001b[0m\u001b[0mkwargs\u001b[0m\u001b[0;34m)\u001b[0m\u001b[0;34m\u001b[0m\u001b[0m\n\u001b[0m\u001b[1;32m   9260\u001b[0m \u001b[0;34m\u001b[0m\u001b[0m\n\u001b[1;32m   9261\u001b[0m     \u001b[0;32mdef\u001b[0m \u001b[0m__reduce__\u001b[0m\u001b[0;34m(\u001b[0m\u001b[0mself\u001b[0m\u001b[0;34m)\u001b[0m\u001b[0;34m:\u001b[0m\u001b[0;34m\u001b[0m\u001b[0m\n",
        "\u001b[0;32m/usr/lib/pymodules/python2.7/matplotlib/axes.pyc\u001b[0m in \u001b[0;36m__init__\u001b[0;34m(self, fig, rect, axisbg, frameon, sharex, sharey, label, xscale, yscale, **kwargs)\u001b[0m\n\u001b[1;32m    476\u001b[0m \u001b[0;34m\u001b[0m\u001b[0m\n\u001b[1;32m    477\u001b[0m         \u001b[0;32mif\u001b[0m \u001b[0mlen\u001b[0m\u001b[0;34m(\u001b[0m\u001b[0mkwargs\u001b[0m\u001b[0;34m)\u001b[0m\u001b[0;34m:\u001b[0m\u001b[0;34m\u001b[0m\u001b[0m\n\u001b[0;32m--> 478\u001b[0;31m             \u001b[0mmartist\u001b[0m\u001b[0;34m.\u001b[0m\u001b[0msetp\u001b[0m\u001b[0;34m(\u001b[0m\u001b[0mself\u001b[0m\u001b[0;34m,\u001b[0m \u001b[0;34m**\u001b[0m\u001b[0mkwargs\u001b[0m\u001b[0;34m)\u001b[0m\u001b[0;34m\u001b[0m\u001b[0m\n\u001b[0m\u001b[1;32m    479\u001b[0m \u001b[0;34m\u001b[0m\u001b[0m\n\u001b[1;32m    480\u001b[0m         \u001b[0;32mif\u001b[0m \u001b[0mself\u001b[0m\u001b[0;34m.\u001b[0m\u001b[0mxaxis\u001b[0m \u001b[0;32mis\u001b[0m \u001b[0;32mnot\u001b[0m \u001b[0mNone\u001b[0m\u001b[0;34m:\u001b[0m\u001b[0;34m\u001b[0m\u001b[0m\n",
        "\u001b[0;32m/usr/lib/pymodules/python2.7/matplotlib/artist.pyc\u001b[0m in \u001b[0;36msetp\u001b[0;34m(obj, *args, **kwargs)\u001b[0m\n\u001b[1;32m   1297\u001b[0m             \u001b[0ms\u001b[0m \u001b[0;34m=\u001b[0m \u001b[0ms\u001b[0m\u001b[0;34m.\u001b[0m\u001b[0mlower\u001b[0m\u001b[0;34m(\u001b[0m\u001b[0;34m)\u001b[0m\u001b[0;34m\u001b[0m\u001b[0m\n\u001b[1;32m   1298\u001b[0m             \u001b[0mfuncName\u001b[0m \u001b[0;34m=\u001b[0m \u001b[0;34m\"set_%s\"\u001b[0m \u001b[0;34m%\u001b[0m \u001b[0ms\u001b[0m\u001b[0;34m\u001b[0m\u001b[0m\n\u001b[0;32m-> 1299\u001b[0;31m             \u001b[0mfunc\u001b[0m \u001b[0;34m=\u001b[0m \u001b[0mgetattr\u001b[0m\u001b[0;34m(\u001b[0m\u001b[0mo\u001b[0m\u001b[0;34m,\u001b[0m \u001b[0mfuncName\u001b[0m\u001b[0;34m)\u001b[0m\u001b[0;34m\u001b[0m\u001b[0m\n\u001b[0m\u001b[1;32m   1300\u001b[0m             \u001b[0mret\u001b[0m\u001b[0;34m.\u001b[0m\u001b[0mextend\u001b[0m\u001b[0;34m(\u001b[0m\u001b[0;34m[\u001b[0m\u001b[0mfunc\u001b[0m\u001b[0;34m(\u001b[0m\u001b[0mval\u001b[0m\u001b[0;34m)\u001b[0m\u001b[0;34m]\u001b[0m\u001b[0;34m)\u001b[0m\u001b[0;34m\u001b[0m\u001b[0m\n\u001b[1;32m   1301\u001b[0m     \u001b[0;32mreturn\u001b[0m \u001b[0;34m[\u001b[0m\u001b[0mx\u001b[0m \u001b[0;32mfor\u001b[0m \u001b[0mx\u001b[0m \u001b[0;32min\u001b[0m \u001b[0mcbook\u001b[0m\u001b[0;34m.\u001b[0m\u001b[0mflatten\u001b[0m\u001b[0;34m(\u001b[0m\u001b[0mret\u001b[0m\u001b[0;34m)\u001b[0m\u001b[0;34m]\u001b[0m\u001b[0;34m\u001b[0m\u001b[0m\n",
        "\u001b[0;31mAttributeError\u001b[0m: 'AxesSubplot' object has no attribute 'set_ncols'"
       ]
      },
      {
       "metadata": {},
       "output_type": "display_data",
       "text": [
        "<matplotlib.figure.Figure at 0xaf55b90c>"
       ]
      }
     ],
     "prompt_number": 74
    },
    {
     "cell_type": "code",
     "collapsed": false,
     "input": [
      "%matplotlib inline \n",
      "import pandas as pd\n",
      "import numpy as np \n",
      "\n",
      "pd.set_option('html', False)\n",
      "pd.set_option('max_columns', 30)\n",
      "pd.set_option('max_rows', 20)"
     ],
     "language": "python",
     "metadata": {},
     "outputs": [],
     "prompt_number": 76
    },
    {
     "cell_type": "code",
     "collapsed": false,
     "input": [
      "counts=pd.Series([34,4,3,55,4,54,454,54])"
     ],
     "language": "python",
     "metadata": {},
     "outputs": [],
     "prompt_number": 77
    },
    {
     "cell_type": "code",
     "collapsed": false,
     "input": [
      "counts"
     ],
     "language": "python",
     "metadata": {},
     "outputs": [
      {
       "metadata": {},
       "output_type": "pyout",
       "prompt_number": 78,
       "text": [
        "0     34\n",
        "1      4\n",
        "2      3\n",
        "3     55\n",
        "4      4\n",
        "5     54\n",
        "6    454\n",
        "7     54\n",
        "dtype: int64"
       ]
      }
     ],
     "prompt_number": 78
    },
    {
     "cell_type": "code",
     "collapsed": false,
     "input": [
      "counts.values"
     ],
     "language": "python",
     "metadata": {},
     "outputs": [
      {
       "metadata": {},
       "output_type": "pyout",
       "prompt_number": 79,
       "text": [
        "array([ 34,   4,   3,  55,   4,  54, 454,  54], dtype=int64)"
       ]
      }
     ],
     "prompt_number": 79
    },
    {
     "cell_type": "code",
     "collapsed": false,
     "input": [
      "counts.index"
     ],
     "language": "python",
     "metadata": {},
     "outputs": [
      {
       "metadata": {},
       "output_type": "pyout",
       "prompt_number": 80,
       "text": [
        "Int64Index([0, 1, 2, 3, 4, 5, 6, 7], dtype='int64')"
       ]
      }
     ],
     "prompt_number": 80
    },
    {
     "cell_type": "code",
     "collapsed": false,
     "input": [
      "bacteria = pd.Series([632, 1638, 569, 115], \n",
      "    index=['Firmicutes', 'Proteobacteria', 'Actinobacteria', 'Bacteroidetes'])"
     ],
     "language": "python",
     "metadata": {},
     "outputs": [],
     "prompt_number": 81
    },
    {
     "cell_type": "code",
     "collapsed": false,
     "input": [
      "bacteria['Actinobacteria']"
     ],
     "language": "python",
     "metadata": {},
     "outputs": [
      {
       "metadata": {},
       "output_type": "pyout",
       "prompt_number": 82,
       "text": [
        "569"
       ]
      }
     ],
     "prompt_number": 82
    },
    {
     "cell_type": "code",
     "collapsed": false,
     "input": [
      "bacteria"
     ],
     "language": "python",
     "metadata": {},
     "outputs": [
      {
       "metadata": {},
       "output_type": "pyout",
       "prompt_number": 84,
       "text": [
        "Firmicutes         632\n",
        "Proteobacteria    1638\n",
        "Actinobacteria     569\n",
        "Bacteroidetes      115\n",
        "dtype: int64"
       ]
      }
     ],
     "prompt_number": 84
    },
    {
     "cell_type": "code",
     "collapsed": false,
     "input": [
      "bacteria[[name]]"
     ],
     "language": "python",
     "metadata": {},
     "outputs": [
      {
       "metadata": {},
       "output_type": "pyout",
       "prompt_number": 85,
       "text": [
        "Firmicutes    632\n",
        "dtype: int64"
       ]
      }
     ],
     "prompt_number": 85
    },
    {
     "cell_type": "code",
     "collapsed": false,
     "input": [
      "[name.endswith('bacteria') for name in bacteria.index]"
     ],
     "language": "python",
     "metadata": {},
     "outputs": [
      {
       "metadata": {},
       "output_type": "pyout",
       "prompt_number": 86,
       "text": [
        "[False, True, True, False]"
       ]
      }
     ],
     "prompt_number": 86
    },
    {
     "cell_type": "code",
     "collapsed": false,
     "input": [
      "cd trace1/"
     ],
     "language": "python",
     "metadata": {},
     "outputs": [
      {
       "output_type": "stream",
       "stream": "stdout",
       "text": [
        "/home/banga/Desktop/accelerometer-1/trace1\n"
       ]
      }
     ],
     "prompt_number": 89
    },
    {
     "cell_type": "code",
     "collapsed": false,
     "input": [
      "ls"
     ],
     "language": "python",
     "metadata": {},
     "outputs": [
      {
       "output_type": "stream",
       "stream": "stdout",
       "text": [
        "Marker.csv  Measurer.csv  octave-workspace\r\n"
       ]
      }
     ],
     "prompt_number": 90
    },
    {
     "cell_type": "code",
     "collapsed": false,
     "input": [
      "accelerometer=pd.read_csv('Marker.csv', header=None)"
     ],
     "language": "python",
     "metadata": {},
     "outputs": [],
     "prompt_number": 93
    },
    {
     "cell_type": "code",
     "collapsed": false,
     "input": [
      "accelerometer.T"
     ],
     "language": "python",
     "metadata": {},
     "outputs": [
      {
       "metadata": {},
       "output_type": "pyout",
       "prompt_number": 95,
       "text": [
        "          0        1        2        3        4        5      \\\n",
        "0          time  34.734   34.793   34.871   34.931   34.991    \n",
        "1        x-axis    -1.5    -1.31    -1.33    -1.23    -1.33    \n",
        "2        y-axis    2.15     2.15     2.11     2.11     2.11    \n",
        "3        z-axis     9.11     9.11     8.85      9.0     8.92   \n",
        "4  Speedbreaker        0        0        0        0        0   \n",
        "5       Pothole        0        0        0        0        0   \n",
        "\n",
        "                   6        7                   8                      9      \\\n",
        "0                35.068   35.131              35.209                 35.273    \n",
        "1   -1.3800000000000001    -1.33               -1.33    -1.3800000000000001    \n",
        "2                  2.11     2.11                2.11                   2.15    \n",
        "3                   8.96     8.96   9.040000000000001                   8.92   \n",
        "4                      0        0                   0                      0   \n",
        "5                      0        0                   0                      0   \n",
        "\n",
        "     10                    11       12       13       14           ...         \\\n",
        "0  35.338                35.403    35.47    35.53   35.593         ...          \n",
        "1   -1.33                 -1.31    -1.31    -1.31    -1.27         ...          \n",
        "2    2.15    2.0300000000000002     2.07     2.15     2.11         ...          \n",
        "3     8.92     9.040000000000001      9.0     8.96     8.92        ...          \n",
        "4        0                     0        0        0        0        ...          \n",
        "5        0                     0        0        0        0        ...          \n",
        "\n",
        "       15179                15180      15181     15182      15183      15184  \\\n",
        "0  1054.008   1054.0910000000001   1054.161   1054.23   1054.298   1054.361    \n",
        "1     -0.53                -0.53       -0.5      -0.5      -0.53      -0.53    \n",
        "2      2.68                 2.64       2.68      2.64       2.68       2.64    \n",
        "3       8.81                 8.73       8.73      8.73       8.77       8.88   \n",
        "4          0                    0          0         0          0          0   \n",
        "5          0                    0          0         0          0          0   \n",
        "\n",
        "       15185      15186                15187     15188      15189      15190  \\\n",
        "0  1054.431   1054.499   1054.5620000000001   1054.63   1054.696   1054.761    \n",
        "1     -0.23      -0.46                -0.65     -0.46       -0.5      -0.61    \n",
        "2      2.49       2.83                 2.87      2.45       2.41       2.64    \n",
        "3       8.77       8.69                 8.88      8.85       8.77       8.77   \n",
        "4          0          0                    0         0          0          0   \n",
        "5          0          0                    0         0          0          0   \n",
        "\n",
        "                   15191      15192             15193  \n",
        "0              1054.824   1054.891              notes  \n",
        "1   -0.5700000000000001      -0.38             Dwarka  \n",
        "2                  2.64       2.83    soshant droving  \n",
        "3                   8.43       9.28               NaN  \n",
        "4                      0          0               NaN  \n",
        "5                      0          0               NaN  \n",
        "\n",
        "[6 rows x 15194 columns]"
       ]
      }
     ],
     "prompt_number": 95
    },
    {
     "cell_type": "code",
     "collapsed": false,
     "input": [
      "data=pd.read_csv('Marker.csv', sep=',',header=None)"
     ],
     "language": "python",
     "metadata": {},
     "outputs": [],
     "prompt_number": 97
    },
    {
     "cell_type": "code",
     "collapsed": false,
     "input": [
      "data"
     ],
     "language": "python",
     "metadata": {},
     "outputs": [
      {
       "metadata": {},
       "output_type": "pyout",
       "prompt_number": 98,
       "text": [
        "                         0                      1                 2  \\\n",
        "0                     time                 x-axis            y-axis   \n",
        "1                  34.734                   -1.5              2.15    \n",
        "2                  34.793                  -1.31              2.15    \n",
        "3                  34.871                  -1.33              2.11    \n",
        "4                  34.931                  -1.23              2.11    \n",
        "5                  34.991                  -1.33              2.11    \n",
        "6                  35.068    -1.3800000000000001              2.11    \n",
        "7                  35.131                  -1.33              2.11    \n",
        "8                  35.209                  -1.33              2.11    \n",
        "9                  35.273    -1.3800000000000001              2.15    \n",
        "...                    ...                    ...               ...   \n",
        "15184            1054.361                  -0.53              2.64    \n",
        "15185            1054.431                  -0.23              2.49    \n",
        "15186            1054.499                  -0.46              2.83    \n",
        "15187  1054.5620000000001                  -0.65              2.87    \n",
        "15188             1054.63                  -0.46              2.45    \n",
        "15189            1054.696                   -0.5              2.41    \n",
        "15190            1054.761                  -0.61              2.64    \n",
        "15191            1054.824    -0.5700000000000001              2.64    \n",
        "15192            1054.891                  -0.38              2.83    \n",
        "15193                notes                 Dwarka   soshant droving   \n",
        "\n",
        "                        3             4        5  \n",
        "0                  z-axis  Speedbreaker  Pothole  \n",
        "1                    9.11             0        0  \n",
        "2                    9.11             0        0  \n",
        "3                    8.85             0        0  \n",
        "4                     9.0             0        0  \n",
        "5                    8.92             0        0  \n",
        "6                    8.96             0        0  \n",
        "7                    8.96             0        0  \n",
        "8       9.040000000000001             0        0  \n",
        "9                    8.92             0        0  \n",
        "...                   ...           ...      ...  \n",
        "15184                8.88             0        0  \n",
        "15185                8.77             0        0  \n",
        "15186                8.69             0        0  \n",
        "15187                8.88             0        0  \n",
        "15188                8.85             0        0  \n",
        "15189                8.77             0        0  \n",
        "15190                8.77             0        0  \n",
        "15191                8.43             0        0  \n",
        "15192                9.28             0        0  \n",
        "15193                 NaN           NaN      NaN  \n",
        "\n",
        "[15194 rows x 6 columns]"
       ]
      }
     ],
     "prompt_number": 98
    },
    {
     "cell_type": "code",
     "collapsed": false,
     "input": [
      "data[0]"
     ],
     "language": "python",
     "metadata": {},
     "outputs": [
      {
       "metadata": {},
       "output_type": "pyout",
       "prompt_number": 101,
       "text": [
        "0                       time\n",
        "1                    34.734 \n",
        "2                    34.793 \n",
        "3                    34.871 \n",
        "4                    34.931 \n",
        "5                    34.991 \n",
        "6                    35.068 \n",
        "7                    35.131 \n",
        "8                    35.209 \n",
        "9                    35.273 \n",
        "                ...         \n",
        "15184              1054.361 \n",
        "15185              1054.431 \n",
        "15186              1054.499 \n",
        "15187    1054.5620000000001 \n",
        "15188               1054.63 \n",
        "15189              1054.696 \n",
        "15190              1054.761 \n",
        "15191              1054.824 \n",
        "15192              1054.891 \n",
        "15193                  notes\n",
        "Name: 0, dtype: object"
       ]
      }
     ],
     "prompt_number": 101
    },
    {
     "cell_type": "code",
     "collapsed": false,
     "input": [
      "data.describe"
     ],
     "language": "python",
     "metadata": {},
     "outputs": [
      {
       "metadata": {},
       "output_type": "pyout",
       "prompt_number": 103,
       "text": [
        "<bound method DataFrame.describe of                          0                      1                 2  \\\n",
        "0                     time                 x-axis            y-axis   \n",
        "1                  34.734                   -1.5              2.15    \n",
        "2                  34.793                  -1.31              2.15    \n",
        "3                  34.871                  -1.33              2.11    \n",
        "4                  34.931                  -1.23              2.11    \n",
        "5                  34.991                  -1.33              2.11    \n",
        "6                  35.068    -1.3800000000000001              2.11    \n",
        "7                  35.131                  -1.33              2.11    \n",
        "8                  35.209                  -1.33              2.11    \n",
        "9                  35.273    -1.3800000000000001              2.15    \n",
        "...                    ...                    ...               ...   \n",
        "15184            1054.361                  -0.53              2.64    \n",
        "15185            1054.431                  -0.23              2.49    \n",
        "15186            1054.499                  -0.46              2.83    \n",
        "15187  1054.5620000000001                  -0.65              2.87    \n",
        "15188             1054.63                  -0.46              2.45    \n",
        "15189            1054.696                   -0.5              2.41    \n",
        "15190            1054.761                  -0.61              2.64    \n",
        "15191            1054.824    -0.5700000000000001              2.64    \n",
        "15192            1054.891                  -0.38              2.83    \n",
        "15193                notes                 Dwarka   soshant droving   \n",
        "\n",
        "                        3             4        5  \n",
        "0                  z-axis  Speedbreaker  Pothole  \n",
        "1                    9.11             0        0  \n",
        "2                    9.11             0        0  \n",
        "3                    8.85             0        0  \n",
        "4                     9.0             0        0  \n",
        "5                    8.92             0        0  \n",
        "6                    8.96             0        0  \n",
        "7                    8.96             0        0  \n",
        "8       9.040000000000001             0        0  \n",
        "9                    8.92             0        0  \n",
        "...                   ...           ...      ...  \n",
        "15184                8.88             0        0  \n",
        "15185                8.77             0        0  \n",
        "15186                8.69             0        0  \n",
        "15187                8.88             0        0  \n",
        "15188                8.85             0        0  \n",
        "15189                8.77             0        0  \n",
        "15190                8.77             0        0  \n",
        "15191                8.43             0        0  \n",
        "15192                9.28             0        0  \n",
        "15193                 NaN           NaN      NaN  \n",
        "\n",
        "[15194 rows x 6 columns]>"
       ]
      }
     ],
     "prompt_number": 103
    },
    {
     "cell_type": "code",
     "collapsed": false,
     "input": [],
     "language": "python",
     "metadata": {},
     "outputs": [],
     "prompt_number": 104
    },
    {
     "cell_type": "code",
     "collapsed": false,
     "input": [
      "mydata.T"
     ],
     "language": "python",
     "metadata": {},
     "outputs": [
      {
       "metadata": {},
       "output_type": "pyout",
       "prompt_number": 111,
       "text": [
        "        0                    1                    2        3        4\n",
        "0    time               33.58               33.642   33.705   33.767 \n",
        "1  x-axis               -3.29                -3.37    -3.25    -3.29 \n",
        "2  y-axis                6.32                  6.2     6.28     6.32 \n",
        "3  z-axis   6.3500000000000005   6.3500000000000005     6.43     6.47\n",
        "4  Event1                    0                    0        0        0\n",
        "5  Event2                    0                    0        0        0"
       ]
      }
     ],
     "prompt_number": 111
    },
    {
     "cell_type": "code",
     "collapsed": false,
     "input": [],
     "language": "python",
     "metadata": {},
     "outputs": []
    },
    {
     "cell_type": "code",
     "collapsed": false,
     "input": [
      "clear"
     ],
     "language": "python",
     "metadata": {},
     "outputs": [
      {
       "output_type": "stream",
       "stream": "stdout",
       "text": [
        "\u001b[H\u001b[2J"
       ]
      }
     ],
     "prompt_number": 107
    },
    {
     "cell_type": "code",
     "collapsed": false,
     "input": [
      "dsfes"
     ],
     "language": "python",
     "metadata": {},
     "outputs": [
      {
       "output_type": "stream",
       "stream": "stdout",
       "text": [
        "\u001b[H\u001b[2J"
       ]
      }
     ],
     "prompt_number": 108
    },
    {
     "cell_type": "code",
     "collapsed": false,
     "input": [],
     "language": "python",
     "metadata": {},
     "outputs": [],
     "prompt_number": 114
    },
    {
     "cell_type": "code",
     "collapsed": false,
     "input": [],
     "language": "python",
     "metadata": {},
     "outputs": []
    },
    {
     "cell_type": "code",
     "collapsed": false,
     "input": [
      "mydata"
     ],
     "language": "python",
     "metadata": {},
     "outputs": [
      {
       "metadata": {},
       "output_type": "pyout",
       "prompt_number": 116,
       "text": [
        "                         0                            1       2  \\\n",
        "0                     time                       x-axis  y-axis   \n",
        "1                   33.58                        -3.29    6.32    \n",
        "2                  33.642                        -3.37     6.2    \n",
        "3                  33.705                        -3.25    6.28    \n",
        "4                  33.767                        -3.29    6.32    \n",
        "5                  33.829                        -3.22    6.28    \n",
        "6                  33.893                        -3.18    6.28    \n",
        "7                  33.956                        -3.29    6.24    \n",
        "8                  34.019                        -3.29    6.13    \n",
        "9                  34.083                        -3.02     6.2    \n",
        "...                    ...                          ...     ...   \n",
        "16052            1052.932                        -2.95    6.01    \n",
        "16053  1052.9950000000001                        -3.18    6.13    \n",
        "16054            1053.059                        -2.87    6.05    \n",
        "16055            1053.122                        -2.91    6.05    \n",
        "16056            1053.185                        -3.14    6.16    \n",
        "16057            1053.249                        -2.87    6.05    \n",
        "16058  1053.3120000000001                        -2.79    6.09    \n",
        "16059            1053.375                        -2.99    6.16    \n",
        "16060            1053.438                        -3.02    6.24    \n",
        "16061                notes  dwarka etios drivr bali sir     NaN   \n",
        "\n",
        "                         3       4       5  \n",
        "0                   z-axis  Event1  Event2  \n",
        "1       6.3500000000000005       0       0  \n",
        "2       6.3500000000000005       0       0  \n",
        "3                     6.43       0       0  \n",
        "4                     6.47       0       0  \n",
        "5                     6.28       0       0  \n",
        "6                     6.51       0       0  \n",
        "7                     6.43       0       0  \n",
        "8                     6.58       0       0  \n",
        "9                      6.7       0       0  \n",
        "...                    ...     ...     ...  \n",
        "16052                 6.93       0       0  \n",
        "16053   6.8500000000000005       0       0  \n",
        "16054   6.8500000000000005       0       0  \n",
        "16055                 6.74       0       0  \n",
        "16056   6.3500000000000005       0       0  \n",
        "16057                 6.58       0       0  \n",
        "16058                 6.62       0       0  \n",
        "16059                 6.55       0       0  \n",
        "16060                 6.16       0       0  \n",
        "16061                  NaN     NaN     NaN  \n",
        "\n",
        "[16062 rows x 6 columns]"
       ]
      }
     ],
     "prompt_number": 116
    },
    {
     "cell_type": "code",
     "collapsed": false,
     "input": [
      "mydata=pd.read_csv('Measurer.csv', sep=',', header=None)"
     ],
     "language": "python",
     "metadata": {},
     "outputs": [],
     "prompt_number": 117
    },
    {
     "cell_type": "code",
     "collapsed": false,
     "input": [
      "mydata"
     ],
     "language": "python",
     "metadata": {},
     "outputs": [
      {
       "metadata": {},
       "output_type": "pyout",
       "prompt_number": 118,
       "text": [
        "                         0                            1       2  \\\n",
        "0                     time                       x-axis  y-axis   \n",
        "1                   33.58                        -3.29    6.32    \n",
        "2                  33.642                        -3.37     6.2    \n",
        "3                  33.705                        -3.25    6.28    \n",
        "4                  33.767                        -3.29    6.32    \n",
        "5                  33.829                        -3.22    6.28    \n",
        "6                  33.893                        -3.18    6.28    \n",
        "7                  33.956                        -3.29    6.24    \n",
        "8                  34.019                        -3.29    6.13    \n",
        "9                  34.083                        -3.02     6.2    \n",
        "...                    ...                          ...     ...   \n",
        "16052            1052.932                        -2.95    6.01    \n",
        "16053  1052.9950000000001                        -3.18    6.13    \n",
        "16054            1053.059                        -2.87    6.05    \n",
        "16055            1053.122                        -2.91    6.05    \n",
        "16056            1053.185                        -3.14    6.16    \n",
        "16057            1053.249                        -2.87    6.05    \n",
        "16058  1053.3120000000001                        -2.79    6.09    \n",
        "16059            1053.375                        -2.99    6.16    \n",
        "16060            1053.438                        -3.02    6.24    \n",
        "16061                notes  dwarka etios drivr bali sir     NaN   \n",
        "\n",
        "                         3       4       5  \n",
        "0                   z-axis  Event1  Event2  \n",
        "1       6.3500000000000005       0       0  \n",
        "2       6.3500000000000005       0       0  \n",
        "3                     6.43       0       0  \n",
        "4                     6.47       0       0  \n",
        "5                     6.28       0       0  \n",
        "6                     6.51       0       0  \n",
        "7                     6.43       0       0  \n",
        "8                     6.58       0       0  \n",
        "9                      6.7       0       0  \n",
        "...                    ...     ...     ...  \n",
        "16052                 6.93       0       0  \n",
        "16053   6.8500000000000005       0       0  \n",
        "16054   6.8500000000000005       0       0  \n",
        "16055                 6.74       0       0  \n",
        "16056   6.3500000000000005       0       0  \n",
        "16057                 6.58       0       0  \n",
        "16058                 6.62       0       0  \n",
        "16059                 6.55       0       0  \n",
        "16060                 6.16       0       0  \n",
        "16061                  NaN     NaN     NaN  \n",
        "\n",
        "[16062 rows x 6 columns]"
       ]
      }
     ],
     "prompt_number": 118
    },
    {
     "cell_type": "code",
     "collapsed": false,
     "input": [
      "mydata=mydata.drop(16061)"
     ],
     "language": "python",
     "metadata": {},
     "outputs": [],
     "prompt_number": 119
    },
    {
     "cell_type": "code",
     "collapsed": false,
     "input": [
      "mydata"
     ],
     "language": "python",
     "metadata": {},
     "outputs": [
      {
       "metadata": {},
       "output_type": "pyout",
       "prompt_number": 120,
       "text": [
        "                         0        1       2                    3       4  \\\n",
        "0                     time   x-axis  y-axis               z-axis  Event1   \n",
        "1                   33.58    -3.29    6.32    6.3500000000000005       0   \n",
        "2                  33.642    -3.37     6.2    6.3500000000000005       0   \n",
        "3                  33.705    -3.25    6.28                  6.43       0   \n",
        "4                  33.767    -3.29    6.32                  6.47       0   \n",
        "5                  33.829    -3.22    6.28                  6.28       0   \n",
        "6                  33.893    -3.18    6.28                  6.51       0   \n",
        "7                  33.956    -3.29    6.24                  6.43       0   \n",
        "8                  34.019    -3.29    6.13                  6.58       0   \n",
        "9                  34.083    -3.02     6.2                   6.7       0   \n",
        "...                    ...      ...     ...                  ...     ...   \n",
        "16051            1052.869    -2.91    5.93                  6.62       0   \n",
        "16052            1052.932    -2.95    6.01                  6.93       0   \n",
        "16053  1052.9950000000001    -3.18    6.13    6.8500000000000005       0   \n",
        "16054            1053.059    -2.87    6.05    6.8500000000000005       0   \n",
        "16055            1053.122    -2.91    6.05                  6.74       0   \n",
        "16056            1053.185    -3.14    6.16    6.3500000000000005       0   \n",
        "16057            1053.249    -2.87    6.05                  6.58       0   \n",
        "16058  1053.3120000000001    -2.79    6.09                  6.62       0   \n",
        "16059            1053.375    -2.99    6.16                  6.55       0   \n",
        "16060            1053.438    -3.02    6.24                  6.16       0   \n",
        "\n",
        "            5  \n",
        "0      Event2  \n",
        "1           0  \n",
        "2           0  \n",
        "3           0  \n",
        "4           0  \n",
        "5           0  \n",
        "6           0  \n",
        "7           0  \n",
        "8           0  \n",
        "9           0  \n",
        "...       ...  \n",
        "16051       0  \n",
        "16052       0  \n",
        "16053       0  \n",
        "16054       0  \n",
        "16055       0  \n",
        "16056       0  \n",
        "16057       0  \n",
        "16058       0  \n",
        "16059       0  \n",
        "16060       0  \n",
        "\n",
        "[16061 rows x 6 columns]"
       ]
      }
     ],
     "prompt_number": 120
    },
    {
     "cell_type": "code",
     "collapsed": false,
     "input": [
      "x=mydata[1]\n",
      "t=mydata[0]\n",
      "y=mydata[2]\n",
      "z=mydata[3]\n"
     ],
     "language": "python",
     "metadata": {},
     "outputs": [],
     "prompt_number": 190
    },
    {
     "cell_type": "code",
     "collapsed": false,
     "input": [],
     "language": "python",
     "metadata": {},
     "outputs": []
    },
    {
     "cell_type": "code",
     "collapsed": false,
     "input": [
      "\n",
      "y=y.drop(0)\n",
      "x=x.drop(0)\n",
      "z=z.drop(0)\n",
      "t=t.drop(0)"
     ],
     "language": "python",
     "metadata": {},
     "outputs": [],
     "prompt_number": 191
    },
    {
     "cell_type": "code",
     "collapsed": false,
     "input": [
      "z"
     ],
     "language": "python",
     "metadata": {},
     "outputs": [
      {
       "metadata": {},
       "output_type": "pyout",
       "prompt_number": 193,
       "text": [
        "1         6.3500000000000005\n",
        "2         6.3500000000000005\n",
        "3                       6.43\n",
        "4                       6.47\n",
        "5                       6.28\n",
        "6                       6.51\n",
        "7                       6.43\n",
        "8                       6.58\n",
        "9                        6.7\n",
        "10                      6.47\n",
        "                ...         \n",
        "16051                   6.62\n",
        "16052                   6.93\n",
        "16053     6.8500000000000005\n",
        "16054     6.8500000000000005\n",
        "16055                   6.74\n",
        "16056     6.3500000000000005\n",
        "16057                   6.58\n",
        "16058                   6.62\n",
        "16059                   6.55\n",
        "16060                   6.16\n",
        "Name: 3, dtype: object"
       ]
      }
     ],
     "prompt_number": 193
    },
    {
     "cell_type": "code",
     "collapsed": false,
     "input": [],
     "language": "python",
     "metadata": {},
     "outputs": []
    },
    {
     "cell_type": "code",
     "collapsed": false,
     "input": [
      "import matplotlib.pyplot as plt\n"
     ],
     "language": "python",
     "metadata": {},
     "outputs": [
      {
       "ename": "TypeError",
       "evalue": "from_bounds() argument after * must be a sequence, not float",
       "output_type": "pyerr",
       "traceback": [
        "\u001b[0;31m---------------------------------------------------------------------------\u001b[0m\n\u001b[0;31mTypeError\u001b[0m                                 Traceback (most recent call last)",
        "\u001b[0;32m<ipython-input-152-2723f1915825>\u001b[0m in \u001b[0;36m<module>\u001b[0;34m()\u001b[0m\n\u001b[1;32m      1\u001b[0m \u001b[0;32mimport\u001b[0m \u001b[0mmatplotlib\u001b[0m\u001b[0;34m.\u001b[0m\u001b[0mpyplot\u001b[0m \u001b[0;32mas\u001b[0m \u001b[0mplt\u001b[0m\u001b[0;34m\u001b[0m\u001b[0m\n\u001b[1;32m      2\u001b[0m \u001b[0mfig\u001b[0m\u001b[0;34m=\u001b[0m\u001b[0mplt\u001b[0m\u001b[0;34m.\u001b[0m\u001b[0mfigure\u001b[0m\u001b[0;34m(\u001b[0m\u001b[0;34m)\u001b[0m\u001b[0;34m\u001b[0m\u001b[0m\n\u001b[0;32m----> 3\u001b[0;31m \u001b[0maxes\u001b[0m\u001b[0;34m=\u001b[0m\u001b[0mfig\u001b[0m\u001b[0;34m.\u001b[0m\u001b[0madd_axes\u001b[0m\u001b[0;34m(\u001b[0m\u001b[0;36m0.1\u001b[0m\u001b[0;34m,\u001b[0m \u001b[0;36m0.1\u001b[0m\u001b[0;34m,\u001b[0m \u001b[0;36m4\u001b[0m\u001b[0;34m,\u001b[0m\u001b[0;36m4\u001b[0m\u001b[0;34m)\u001b[0m\u001b[0;34m\u001b[0m\u001b[0m\n\u001b[0m\u001b[1;32m      4\u001b[0m \u001b[0maxes\u001b[0m\u001b[0;34m.\u001b[0m\u001b[0mplot\u001b[0m\u001b[0;34m(\u001b[0m\u001b[0mx\u001b[0m\u001b[0;34m,\u001b[0m \u001b[0my\u001b[0m\u001b[0;34m)\u001b[0m\u001b[0;34m\u001b[0m\u001b[0m\n",
        "\u001b[0;32m/usr/lib/pymodules/python2.7/matplotlib/figure.pyc\u001b[0m in \u001b[0;36madd_axes\u001b[0;34m(self, *args, **kwargs)\u001b[0m\n\u001b[1;32m    835\u001b[0m \u001b[0;34m\u001b[0m\u001b[0m\n\u001b[1;32m    836\u001b[0m             \u001b[0;31m# create the new axes using the axes class given\u001b[0m\u001b[0;34m\u001b[0m\u001b[0;34m\u001b[0m\u001b[0m\n\u001b[0;32m--> 837\u001b[0;31m             \u001b[0ma\u001b[0m \u001b[0;34m=\u001b[0m \u001b[0mprojection_class\u001b[0m\u001b[0;34m(\u001b[0m\u001b[0mself\u001b[0m\u001b[0;34m,\u001b[0m \u001b[0mrect\u001b[0m\u001b[0;34m,\u001b[0m \u001b[0;34m**\u001b[0m\u001b[0mkwargs\u001b[0m\u001b[0;34m)\u001b[0m\u001b[0;34m\u001b[0m\u001b[0m\n\u001b[0m\u001b[1;32m    838\u001b[0m \u001b[0;34m\u001b[0m\u001b[0m\n\u001b[1;32m    839\u001b[0m         \u001b[0mself\u001b[0m\u001b[0;34m.\u001b[0m\u001b[0m_axstack\u001b[0m\u001b[0;34m.\u001b[0m\u001b[0madd\u001b[0m\u001b[0;34m(\u001b[0m\u001b[0mkey\u001b[0m\u001b[0;34m,\u001b[0m \u001b[0ma\u001b[0m\u001b[0;34m)\u001b[0m\u001b[0;34m\u001b[0m\u001b[0m\n",
        "\u001b[0;32m/usr/lib/pymodules/python2.7/matplotlib/axes.pyc\u001b[0m in \u001b[0;36m__init__\u001b[0;34m(self, fig, rect, axisbg, frameon, sharex, sharey, label, xscale, yscale, **kwargs)\u001b[0m\n\u001b[1;32m    417\u001b[0m             \u001b[0mself\u001b[0m\u001b[0;34m.\u001b[0m\u001b[0m_position\u001b[0m \u001b[0;34m=\u001b[0m \u001b[0mrect\u001b[0m\u001b[0;34m\u001b[0m\u001b[0m\n\u001b[1;32m    418\u001b[0m         \u001b[0;32melse\u001b[0m\u001b[0;34m:\u001b[0m\u001b[0;34m\u001b[0m\u001b[0m\n\u001b[0;32m--> 419\u001b[0;31m             \u001b[0mself\u001b[0m\u001b[0;34m.\u001b[0m\u001b[0m_position\u001b[0m \u001b[0;34m=\u001b[0m \u001b[0mmtransforms\u001b[0m\u001b[0;34m.\u001b[0m\u001b[0mBbox\u001b[0m\u001b[0;34m.\u001b[0m\u001b[0mfrom_bounds\u001b[0m\u001b[0;34m(\u001b[0m\u001b[0;34m*\u001b[0m\u001b[0mrect\u001b[0m\u001b[0;34m)\u001b[0m\u001b[0;34m\u001b[0m\u001b[0m\n\u001b[0m\u001b[1;32m    420\u001b[0m         \u001b[0mself\u001b[0m\u001b[0;34m.\u001b[0m\u001b[0m_originalPosition\u001b[0m \u001b[0;34m=\u001b[0m \u001b[0mself\u001b[0m\u001b[0;34m.\u001b[0m\u001b[0m_position\u001b[0m\u001b[0;34m.\u001b[0m\u001b[0mfrozen\u001b[0m\u001b[0;34m(\u001b[0m\u001b[0;34m)\u001b[0m\u001b[0;34m\u001b[0m\u001b[0m\n\u001b[1;32m    421\u001b[0m         \u001b[0mself\u001b[0m\u001b[0;34m.\u001b[0m\u001b[0mset_axes\u001b[0m\u001b[0;34m(\u001b[0m\u001b[0mself\u001b[0m\u001b[0;34m)\u001b[0m\u001b[0;34m\u001b[0m\u001b[0m\n",
        "\u001b[0;31mTypeError\u001b[0m: from_bounds() argument after * must be a sequence, not float"
       ]
      },
      {
       "metadata": {},
       "output_type": "display_data",
       "text": [
        "<matplotlib.figure.Figure at 0xad5f528c>"
       ]
      }
     ],
     "prompt_number": 152
    },
    {
     "cell_type": "code",
     "collapsed": false,
     "input": [
      "t"
     ],
     "language": "python",
     "metadata": {},
     "outputs": [
      {
       "metadata": {},
       "output_type": "pyout",
       "prompt_number": 189,
       "text": [
        "0                       time\n",
        "1                     33.58 \n",
        "2                    33.642 \n",
        "3                    33.705 \n",
        "4                    33.767 \n",
        "5                    33.829 \n",
        "6                    33.893 \n",
        "7                    33.956 \n",
        "8                    34.019 \n",
        "9                    34.083 \n",
        "                ...         \n",
        "16051              1052.869 \n",
        "16052              1052.932 \n",
        "16053    1052.9950000000001 \n",
        "16054              1053.059 \n",
        "16055              1053.122 \n",
        "16056              1053.185 \n",
        "16057              1053.249 \n",
        "16058    1053.3120000000001 \n",
        "16059              1053.375 \n",
        "16060              1053.438 \n",
        "Name: 0, dtype: object"
       ]
      }
     ],
     "prompt_number": 189
    },
    {
     "cell_type": "code",
     "collapsed": false,
     "input": [],
     "language": "python",
     "metadata": {},
     "outputs": []
    },
    {
     "cell_type": "code",
     "collapsed": false,
     "input": [
      "fig, axes=plt.subplots(ncols=1, nrows=3, figsize=(12,12))\n",
      "\n",
      "axes[0].plot(time, x, 'r')\n",
      "axes[0].set_xlabel('time')\n",
      "axes[0].set_ylabel('X')\n",
      "axes[0].set_title('Timeseries-X')\n",
      "\n",
      "axes[1].plot(time, y, 'b')\n",
      "axes[1].set_xlabel('time')\n",
      "axes[1].set_ylabel('Y')\n",
      "axes[1].set_title('Timeseries-Y')\n",
      "\n",
      "axes[2].plot(time, z, 'y')\n",
      "axes[2].set_xlabel('time')\n",
      "axes[2].set_ylabel('Z')\n",
      "axes[2].set_title('Timeseries-Z')"
     ],
     "language": "python",
     "metadata": {},
     "outputs": [
      {
       "metadata": {},
       "output_type": "pyout",
       "prompt_number": 175,
       "text": [
        "<matplotlib.text.Text at 0xac75e3cc>"
       ]
      },
      {
       "metadata": {},
       "output_type": "display_data",
       "png": "[encoded data removed]",
       "text": [
        "<matplotlib.figure.Figure at 0xac9ce38c>"
       ]
      }
     ],
     "prompt_number": 175
    },
    {
     "cell_type": "code",
     "collapsed": false,
     "input": [
      "fig.savefig(\"timeseries.png\")"
     ],
     "language": "python",
     "metadata": {},
     "outputs": [],
     "prompt_number": 176
    },
    {
     "cell_type": "code",
     "collapsed": false,
     "input": [
      "t"
     ],
     "language": "python",
     "metadata": {},
     "outputs": [
      {
       "metadata": {},
       "output_type": "pyout",
       "prompt_number": 201,
       "text": [
        "1                     33.58 \n",
        "2                    33.642 \n",
        "3                    33.705 \n",
        "4                    33.767 \n",
        "5                    33.829 \n",
        "6                    33.893 \n",
        "7                    33.956 \n",
        "8                    34.019 \n",
        "9                    34.083 \n",
        "10                   34.146 \n",
        "                ...         \n",
        "16051              1052.869 \n",
        "16052              1052.932 \n",
        "16053    1052.9950000000001 \n",
        "16054              1053.059 \n",
        "16055              1053.122 \n",
        "16056              1053.185 \n",
        "16057              1053.249 \n",
        "16058    1053.3120000000001 \n",
        "16059              1053.375 \n",
        "16060              1053.438 \n",
        "Name: 0, dtype: object"
       ]
      }
     ],
     "prompt_number": 201
    },
    {
     "cell_type": "code",
     "collapsed": false,
     "input": [],
     "language": "python",
     "metadata": {},
     "outputs": []
    },
    {
     "cell_type": "code",
     "collapsed": false,
     "input": [
      "from IPython.display import Image\n",
      "Image('timeseries.png')"
     ],
     "language": "python",
     "metadata": {},
     "outputs": [
      {
       "metadata": {},
       "output_type": "pyout",
       "png": "[encoded data removed]",
       "prompt_number": 179,
       "text": [
        "<IPython.core.display.Image at 0xac3fd38c>"
       ]
      }
     ],
     "prompt_number": 179
    },
    {
     "cell_type": "code",
     "collapsed": false,
     "input": [
      "import sys\n",
      "import collections\n",
      "import itertools\n",
      "from scipy.stats import mode\n",
      "\n",
      "try:\n",
      "    from IPython.display import clear_output\n",
      "    have_ipython = True\n",
      "except ImportError:\n",
      "    have_ipython = False\n",
      "\n",
      "class KnnDtw(object):\n",
      "    \"\"\"K-nearest neighbor classifier using dynamic time warping\n",
      "    as the distance measure between pairs of time series arrays\n",
      "    \n",
      "    Arguments\n",
      "    ---------\n",
      "    n_neighbors : int, optional (default = 5)\n",
      "        Number of neighbors to use by default for KNN\n",
      "        \n",
      "    max_warping_window : int, optional (default = infinity)\n",
      "        Maximum warping window allowed by the DTW dynamic\n",
      "        programming function\n",
      "            \n",
      "    subsample_step : int, optional (default = 1)\n",
      "        Step size for the timeseries array. By setting subsample_step = 2,\n",
      "        the timeseries length will be reduced by 50% because every second\n",
      "        item is skipped. Implemented by x[:, ::subsample_step]\n",
      "    \"\"\"\n",
      "    \n",
      "    def __init__(self, n_neighbors=5, max_warping_window=10000, subsample_step=1):\n",
      "        self.n_neighbors = n_neighbors\n",
      "        self.max_warping_window = max_warping_window\n",
      "        self.subsample_step = subsample_step\n",
      "    \n",
      "    def fit(self, x, l):\n",
      "        \"\"\"Fit the model using x as training data and l as class labels\n",
      "        \n",
      "        Arguments\n",
      "        ---------\n",
      "        x : array of shape [n_samples, n_timepoints]\n",
      "            Training data set for input into KNN classifer\n",
      "            \n",
      "        l : array of shape [n_samples]\n",
      "            Training labels for input into KNN classifier\n",
      "        \"\"\"\n",
      "        \n",
      "        self.x = x\n",
      "        self.l = l\n",
      "        \n",
      "    def _dtw_distance(self, ts_a, ts_b, d = lambda x,y: abs(x-y)):\n",
      "        \"\"\"Returns the DTW similarity distance between two 2-D\n",
      "        timeseries numpy arrays.\n",
      "\n",
      "        Arguments\n",
      "        ---------\n",
      "        ts_a, ts_b : array of shape [n_samples, n_timepoints]\n",
      "            Two arrays containing n_samples of timeseries data\n",
      "            whose DTW distance between each sample of A and B\n",
      "            will be compared\n",
      "        \n",
      "        d : DistanceMetric object (default = abs(x-y))\n",
      "            the distance measure used for A_i - B_j in the\n",
      "            DTW dynamic programming function\n",
      "        \n",
      "        Returns\n",
      "        -------\n",
      "        DTW distance between A and B\n",
      "        \"\"\"\n",
      "\n",
      "        # Create cost matrix via broadcasting with large int\n",
      "        ts_a, ts_b = np.array(ts_a), np.array(ts_b)\n",
      "        M, N = len(ts_a), len(ts_b)\n",
      "        cost = sys.maxint * np.ones((M, N))\n",
      "\n",
      "        # Initialize the first row and column\n",
      "        cost[0, 0] = d(ts_a[0], ts_b[0])\n",
      "        for i in xrange(1, M):\n",
      "            cost[i, 0] = cost[i-1, 0] + d(ts_a[i], ts_b[0])\n",
      "\n",
      "        for j in xrange(1, N):\n",
      "            cost[0, j] = cost[0, j-1] + d(ts_a[0], ts_b[j])\n",
      "\n",
      "        # Populate rest of cost matrix within window\n",
      "        for i in xrange(1, M):\n",
      "            for j in xrange(max(1, i - self.max_warping_window),\n",
      "                            min(N, i + self.max_warping_window)):\n",
      "                choices = cost[i - 1, j - 1], cost[i, j-1], cost[i-1, j]\n",
      "                cost[i, j] = min(choices) + d(ts_a[i], ts_b[j])\n",
      "\n",
      "        # Return DTW distance given window \n",
      "        return cost[-1, -1]\n",
      "    \n",
      "    def _dist_matrix(self, x, y):\n",
      "        \"\"\"Computes the M x N distance matrix between the training\n",
      "        dataset and testing dataset (y) using the DTW distance measure\n",
      "        \n",
      "        Arguments\n",
      "        ---------\n",
      "        x : array of shape [n_samples, n_timepoints]\n",
      "        \n",
      "        y : array of shape [n_samples, n_timepoints]\n",
      "        \n",
      "        Returns\n",
      "        -------\n",
      "        Distance matrix between each item of x and y with\n",
      "            shape [training_n_samples, testing_n_samples]\n",
      "        \"\"\"\n",
      "        \n",
      "        # Compute the distance matrix        \n",
      "        dm_count = 0\n",
      "        \n",
      "        # Compute condensed distance matrix (upper triangle) of pairwise dtw distances\n",
      "        # when x and y are the same array\n",
      "        if(np.array_equal(x, y)):\n",
      "            x_s = shape(x)\n",
      "            dm = np.zeros((x_s[0] * (x_s[0] - 1)) // 2, dtype=np.double)\n",
      "            \n",
      "            p = ProgressBar(shape(dm)[0])\n",
      "            \n",
      "            for i in xrange(0, x_s[0] - 1):\n",
      "                for j in xrange(i + 1, x_s[0]):\n",
      "                    dm[dm_count] = self._dtw_distance(x[i, ::self.subsample_step],\n",
      "                                                      y[j, ::self.subsample_step])\n",
      "                    \n",
      "                    dm_count += 1\n",
      "                    p.animate(dm_count)\n",
      "            \n",
      "            # Convert to squareform\n",
      "            dm = squareform(dm)\n",
      "            return dm\n",
      "        \n",
      "        # Compute full distance matrix of dtw distnces between x and y\n",
      "        else:\n",
      "            x_s = np.shape(x)\n",
      "            y_s = np.shape(y)\n",
      "            dm = np.zeros((x_s[0], y_s[0])) \n",
      "            dm_size = x_s[0]*y_s[0]\n",
      "            \n",
      "            p = ProgressBar(dm_size)\n",
      "        \n",
      "            for i in xrange(0, x_s[0]):\n",
      "                for j in xrange(0, y_s[0]):\n",
      "                    dm[i, j] = self._dtw_distance(x[i, ::self.subsample_step],\n",
      "                                                  y[j, ::self.subsample_step])\n",
      "                    # Update progress bar\n",
      "                    dm_count += 1\n",
      "                    p.animate(dm_count)\n",
      "        \n",
      "            return dm\n",
      "        \n",
      "    def predict(self, x):\n",
      "        \"\"\"Predict the class labels or probability estimates for \n",
      "        the provided data\n",
      "\n",
      "        Arguments\n",
      "        ---------\n",
      "          x : array of shape [n_samples, n_timepoints]\n",
      "              Array containing the testing data set to be classified\n",
      "          \n",
      "        Returns\n",
      "        -------\n",
      "          2 arrays representing:\n",
      "              (1) the predicted class labels \n",
      "              (2) the knn label count probability\n",
      "        \"\"\"\n",
      "        \n",
      "        dm = self._dist_matrix(x, self.x)\n",
      "\n",
      "        # Identify the k nearest neighbors\n",
      "        knn_idx = dm.argsort()[:, :self.n_neighbors]\n",
      "\n",
      "        # Identify k nearest labels\n",
      "        knn_labels = self.l[knn_idx]\n",
      "        \n",
      "        # Model Label\n",
      "        mode_data = mode(knn_labels, axis=1)\n",
      "        mode_label = mode_data[0]\n",
      "        mode_proba = mode_data[1]/self.n_neighbors\n",
      "\n",
      "        return mode_label.ravel(), mode_proba.ravel()\n",
      "\n",
      "class ProgressBar:\n",
      "    \"\"\"This progress bar was taken from PYMC\n",
      "    \"\"\"\n",
      "    def __init__(self, iterations):\n",
      "        self.iterations = iterations\n",
      "        self.prog_bar = '[]'\n",
      "        self.fill_char = '*'\n",
      "        self.width = 40\n",
      "        self.__update_amount(0)\n",
      "        if have_ipython:\n",
      "            self.animate = self.animate_ipython\n",
      "        else:\n",
      "            self.animate = self.animate_noipython\n",
      "\n",
      "    def animate_ipython(self, iter):\n",
      "        print '\\r', self,\n",
      "        sys.stdout.flush()\n",
      "        self.update_iteration(iter + 1)\n",
      "\n",
      "    def update_iteration(self, elapsed_iter):\n",
      "        self.__update_amount((elapsed_iter / float(self.iterations)) * 100.0)\n",
      "        self.prog_bar += '  %d of %s complete' % (elapsed_iter, self.iterations)\n",
      "\n",
      "    def __update_amount(self, new_amount):\n",
      "        percent_done = int(round((new_amount / 100.0) * 100.0))\n",
      "        all_full = self.width - 2\n",
      "        num_hashes = int(round((percent_done / 100.0) * all_full))\n",
      "        self.prog_bar = '[' + self.fill_char * num_hashes + ' ' * (all_full - num_hashes) + ']'\n",
      "        pct_place = (len(self.prog_bar) // 2) - len(str(percent_done))\n",
      "        pct_string = '%d%%' % percent_done\n",
      "        self.prog_bar = self.prog_bar[0:pct_place] + \\\n",
      "            (pct_string + self.prog_bar[pct_place + len(pct_string):])\n",
      "\n",
      "    def __str__(self):\n",
      "        return str(self.prog_bar)"
     ],
     "language": "python",
     "metadata": {},
     "outputs": [],
     "prompt_number": 180
    },
    {
     "cell_type": "code",
     "collapsed": false,
     "input": [
      "time=np.array(t[1:1000], dtype=float)\n",
      "amplitude_a = np.array(x[1:1000], dtype=float)\n",
      "amplitude_b = np.array(y[1:1000], dtype=float)\n",
      "\n",
      "m = KnnDtw()\n",
      "distance = m._dtw_distance(amplitude_a, amplitude_b)\n",
      "\n",
      "fig = plt.figure(figsize=(12,4))\n",
      "_ = plt.plot(time, amplitude_a, label='A')\n",
      "_ = plt.plot(time, amplitude_b, label='B')\n",
      "_ = plt.title('DTW distance between A and B is %.2f' % distance)\n",
      "_ = plt.ylabel('Amplitude')\n",
      "_ = plt.xlabel('Time')\n",
      "_ = plt.legend()"
     ],
     "language": "python",
     "metadata": {},
     "outputs": [
      {
       "metadata": {},
       "output_type": "display_data",
       "png": "[encoded data removed]",
       "text": [
        "<matplotlib.figure.Figure at 0xacf747cc>"
       ]
      }
     ],
     "prompt_number": 214
    },
    {
     "cell_type": "code",
     "collapsed": false,
     "input": [],
     "language": "python",
     "metadata": {},
     "outputs": []
    },
    {
     "cell_type": "code",
     "collapsed": false,
     "input": [
      "fig.savefig('DTW.png')"
     ],
     "language": "python",
     "metadata": {},
     "outputs": [],
     "prompt_number": 215
    },
    {
     "cell_type": "code",
     "collapsed": false,
     "input": [
      "Image('DTW.png')"
     ],
     "language": "python",
     "metadata": {},
     "outputs": [
      {
       "metadata": {},
       "output_type": "pyout",
       "png": "[encoded data removed]",
       "prompt_number": 217,
       "text": [
        "<IPython.core.display.Image at 0xb650850c>"
       ]
      }
     ],
     "prompt_number": 217
    },
    {
     "cell_type": "code",
     "collapsed": false,
     "input": [
      "m._dist_matrix(np.arange(200,dtype=float).reshape(4,50)\n",
      ",np.arange(200,dtype=float).reshape(4,50)\n",
      ")"
     ],
     "language": "python",
     "metadata": {},
     "outputs": [
      {
       "ename": "NameError",
       "evalue": "global name 'shape' is not defined",
       "output_type": "pyerr",
       "traceback": [
        "\u001b[0;31m---------------------------------------------------------------------------\u001b[0m\n\u001b[0;31mNameError\u001b[0m                                 Traceback (most recent call last)",
        "\u001b[0;32m<ipython-input-236-2941bda69b62>\u001b[0m in \u001b[0;36m<module>\u001b[0;34m()\u001b[0m\n\u001b[1;32m      1\u001b[0m m._dist_matrix(np.arange(200,dtype=float).reshape(4,50)\n\u001b[0;32m----> 2\u001b[0;31m \u001b[0;34m,\u001b[0m\u001b[0mnp\u001b[0m\u001b[0;34m.\u001b[0m\u001b[0marange\u001b[0m\u001b[0;34m(\u001b[0m\u001b[0;36m200\u001b[0m\u001b[0;34m,\u001b[0m\u001b[0mdtype\u001b[0m\u001b[0;34m=\u001b[0m\u001b[0mfloat\u001b[0m\u001b[0;34m)\u001b[0m\u001b[0;34m.\u001b[0m\u001b[0mreshape\u001b[0m\u001b[0;34m(\u001b[0m\u001b[0;36m4\u001b[0m\u001b[0;34m,\u001b[0m\u001b[0;36m50\u001b[0m\u001b[0;34m)\u001b[0m\u001b[0;34m\u001b[0m\u001b[0m\n\u001b[0m\u001b[1;32m      3\u001b[0m )\n",
        "\u001b[0;32m<ipython-input-180-2b798bb6dc57>\u001b[0m in \u001b[0;36m_dist_matrix\u001b[0;34m(self, x, y)\u001b[0m\n\u001b[1;32m    114\u001b[0m         \u001b[0;31m# when x and y are the same array\u001b[0m\u001b[0;34m\u001b[0m\u001b[0;34m\u001b[0m\u001b[0m\n\u001b[1;32m    115\u001b[0m         \u001b[0;32mif\u001b[0m\u001b[0;34m(\u001b[0m\u001b[0mnp\u001b[0m\u001b[0;34m.\u001b[0m\u001b[0marray_equal\u001b[0m\u001b[0;34m(\u001b[0m\u001b[0mx\u001b[0m\u001b[0;34m,\u001b[0m \u001b[0my\u001b[0m\u001b[0;34m)\u001b[0m\u001b[0;34m)\u001b[0m\u001b[0;34m:\u001b[0m\u001b[0;34m\u001b[0m\u001b[0m\n\u001b[0;32m--> 116\u001b[0;31m             \u001b[0mx_s\u001b[0m \u001b[0;34m=\u001b[0m \u001b[0mshape\u001b[0m\u001b[0;34m(\u001b[0m\u001b[0mx\u001b[0m\u001b[0;34m)\u001b[0m\u001b[0;34m\u001b[0m\u001b[0m\n\u001b[0m\u001b[1;32m    117\u001b[0m             \u001b[0mdm\u001b[0m \u001b[0;34m=\u001b[0m \u001b[0mnp\u001b[0m\u001b[0;34m.\u001b[0m\u001b[0mzeros\u001b[0m\u001b[0;34m(\u001b[0m\u001b[0;34m(\u001b[0m\u001b[0mx_s\u001b[0m\u001b[0;34m[\u001b[0m\u001b[0;36m0\u001b[0m\u001b[0;34m]\u001b[0m \u001b[0;34m*\u001b[0m \u001b[0;34m(\u001b[0m\u001b[0mx_s\u001b[0m\u001b[0;34m[\u001b[0m\u001b[0;36m0\u001b[0m\u001b[0;34m]\u001b[0m \u001b[0;34m-\u001b[0m \u001b[0;36m1\u001b[0m\u001b[0;34m)\u001b[0m\u001b[0;34m)\u001b[0m \u001b[0;34m//\u001b[0m \u001b[0;36m2\u001b[0m\u001b[0;34m,\u001b[0m \u001b[0mdtype\u001b[0m\u001b[0;34m=\u001b[0m\u001b[0mnp\u001b[0m\u001b[0;34m.\u001b[0m\u001b[0mdouble\u001b[0m\u001b[0;34m)\u001b[0m\u001b[0;34m\u001b[0m\u001b[0m\n\u001b[1;32m    118\u001b[0m \u001b[0;34m\u001b[0m\u001b[0m\n",
        "\u001b[0;31mNameError\u001b[0m: global name 'shape' is not defined"
       ]
      }
     ],
     "prompt_number": 236
    },
    {
     "cell_type": "code",
     "collapsed": false,
     "input": [],
     "language": "python",
     "metadata": {},
     "outputs": []
    },
    {
     "cell_type": "code",
     "collapsed": false,
     "input": [
      "np.ones(shape=(10,3))"
     ],
     "language": "python",
     "metadata": {},
     "outputs": [
      {
       "metadata": {},
       "output_type": "pyout",
       "prompt_number": 231,
       "text": [
        "array([[ 1.,  1.,  1.],\n",
        "       [ 1.,  1.,  1.],\n",
        "       [ 1.,  1.,  1.],\n",
        "       [ 1.,  1.,  1.],\n",
        "       [ 1.,  1.,  1.],\n",
        "       [ 1.,  1.,  1.],\n",
        "       [ 1.,  1.,  1.],\n",
        "       [ 1.,  1.,  1.],\n",
        "       [ 1.,  1.,  1.],\n",
        "       [ 1.,  1.,  1.]])"
       ]
      }
     ],
     "prompt_number": 231
    },
    {
     "cell_type": "code",
     "collapsed": false,
     "input": [
      "np.random.random((4,50))"
     ],
     "language": "python",
     "metadata": {},
     "outputs": [
      {
       "metadata": {},
       "output_type": "pyout",
       "prompt_number": 235,
       "text": [
        "array([[ 0.95832106,  0.79717573,  0.30451414,  0.30282982,  0.09809956,\n",
        "         0.36967364,  0.28717662,  0.99759268,  0.49173253,  0.56378643,\n",
        "         0.23642475,  0.23538226,  0.89350161,  0.70724101,  0.67720688,\n",
        "         0.10921784,  0.1758928 ,  0.42319695,  0.63706421,  0.21689206,\n",
        "         0.22118727,  0.4228788 ,  0.98788137,  0.96122115,  0.18803485,\n",
        "         0.40458252,  0.78184206,  0.25044819,  0.16919312,  0.54113711,\n",
        "         0.103379  ,  0.88928505,  0.83428795,  0.6272011 ,  0.33847569,\n",
        "         0.948383  ,  0.81172891,  0.46152532,  0.13182638,  0.88350225,\n",
        "         0.80968392,  0.92429272,  0.80189749,  0.91866577,  0.14816442,\n",
        "         0.74872104,  0.18788403,  0.48694513,  0.92308934,  0.89409388],\n",
        "       [ 0.01208914,  0.35589671,  0.55081652,  0.88890777,  0.57568873,\n",
        "         0.79029933,  0.78638226,  0.35848899,  0.41484541,  0.39474345,\n",
        "         0.45890523,  0.07623154,  0.00901899,  0.58267722,  0.20727457,\n",
        "         0.81555442,  0.13771142,  0.81252647,  0.88877448,  0.49307671,\n",
        "         0.36006557,  0.10443546,  0.82134782,  0.17687789,  0.26768063,\n",
        "         0.38673375,  0.72318649,  0.2962355 ,  0.57919725,  0.67919231,\n",
        "         0.75555315,  0.58185733,  0.15124998,  0.54998082,  0.18283518,\n",
        "         0.2941887 ,  0.04808546,  0.79982396,  0.2870875 ,  0.42999117,\n",
        "         0.91891931,  0.66325461,  0.55997769,  0.22071066,  0.05792835,\n",
        "         0.56460102,  0.39075839,  0.30742314,  0.07739325,  0.85538592],\n",
        "       [ 0.77863605,  0.99656752,  0.15203299,  0.73800953,  0.63734468,\n",
        "         0.01551185,  0.19817964,  0.51537737,  0.125162  ,  0.7794034 ,\n",
        "         0.51604048,  0.44025   ,  0.09951586,  0.4028411 ,  0.89100479,\n",
        "         0.48339124,  0.62799106,  0.04013045,  0.3784647 ,  0.90712549,\n",
        "         0.51873588,  0.32257878,  0.33381205,  0.07069709,  0.09814303,\n",
        "         0.67380868,  0.45425406,  0.24712304,  0.13711125,  0.71249788,\n",
        "         0.44725636,  0.84945524,  0.19521697,  0.0316406 ,  0.16859939,\n",
        "         0.49534621,  0.25212183,  0.84194602,  0.25700664,  0.26353817,\n",
        "         0.04513703,  0.93820241,  0.59280526,  0.73040755,  0.79143779,\n",
        "         0.93346786,  0.57223061,  0.03307451,  0.89920139,  0.31737722],\n",
        "       [ 0.01460307,  0.94090633,  0.19606489,  0.18051805,  0.32342527,\n",
        "         0.91334073,  0.72463783,  0.66840295,  0.40675443,  0.04553385,\n",
        "         0.45016394,  0.69838382,  0.79198943,  0.66305629,  0.03733321,\n",
        "         0.21579182,  0.79625756,  0.57470579,  0.09534176,  0.28681617,\n",
        "         0.02625176,  0.90499438,  0.58607151,  0.94102034,  0.53902401,\n",
        "         0.84402487,  0.95970326,  0.64498158,  0.10859297,  0.03097194,\n",
        "         0.65355127,  0.20907378,  0.15607713,  0.66514403,  0.99760196,\n",
        "         0.43345129,  0.95435035,  0.39981135,  0.5683367 ,  0.95715552,\n",
        "         0.3499588 ,  0.88425505,  0.37634964,  0.94041984,  0.96783317,\n",
        "         0.45558888,  0.64044345,  0.20341841,  0.04508355,  0.74169789]])"
       ]
      }
     ],
     "prompt_number": 235
    },
    {
     "cell_type": "code",
     "collapsed": false,
     "input": [
      "import tweepy\n",
      "import nltk\n"
     ],
     "language": "python",
     "metadata": {},
     "outputs": [
      {
       "ename": "ImportError",
       "evalue": "No module named tweepy",
       "output_type": "pyerr",
       "traceback": [
        "\u001b[0;31m---------------------------------------------------------------------------\u001b[0m\n\u001b[0;31mImportError\u001b[0m                               Traceback (most recent call last)",
        "\u001b[0;32m<ipython-input-1-3e92d95afd6e>\u001b[0m in \u001b[0;36m<module>\u001b[0;34m()\u001b[0m\n\u001b[0;32m----> 1\u001b[0;31m \u001b[0;32mimport\u001b[0m \u001b[0mtweepy\u001b[0m\u001b[0;34m\u001b[0m\u001b[0m\n\u001b[0m\u001b[1;32m      2\u001b[0m \u001b[0;32mimport\u001b[0m \u001b[0mnltk\u001b[0m\u001b[0;34m\u001b[0m\u001b[0m\n",
        "\u001b[0;31mImportError\u001b[0m: No module named tweepy"
       ]
      }
     ],
     "prompt_number": 1
    },
    {
     "cell_type": "code",
     "collapsed": false,
     "input": [
      "pip install tweepy"
     ],
     "language": "python",
     "metadata": {},
     "outputs": [],
     "prompt_number": "*"
    },
    {
     "cell_type": "code",
     "collapsed": false,
     "input": [],
     "language": "python",
     "metadata": {},
     "outputs": []
    },
    {
     "cell_type": "code",
     "collapsed": false,
     "input": [],
     "language": "python",
     "metadata": {},
     "outputs": [],
     "prompt_number": "*"
    },
    {
     "cell_type": "code",
     "collapsed": false,
     "input": [
      "import pandas as pd"
     ],
     "language": "python",
     "metadata": {},
     "outputs": [],
     "prompt_number": 2
    },
    {
     "cell_type": "code",
     "collapsed": false,
     "input": [
      "data=pd.read_json(\"Desktop/safedrive-app-test001-export.json\")"
     ],
     "language": "python",
     "metadata": {},
     "outputs": [],
     "prompt_number": 3
    },
    {
     "cell_type": "code",
     "collapsed": false,
     "input": [
      "newdata=data.T"
     ],
     "language": "python",
     "metadata": {},
     "outputs": [],
     "prompt_number": 5
    },
    {
     "cell_type": "code",
     "collapsed": false,
     "input": [
      "newdata.head()"
     ],
     "language": "python",
     "metadata": {},
     "outputs": [
      {
       "html": [
        "<div style=\"max-width:1500px;overflow:auto;\">\n",
        "<table border=\"1\" class=\"dataframe\">\n",
        "  <thead>\n",
        "    <tr style=\"text-align: right;\">\n",
        "      <th></th>\n",
        "      <th>accuracy</th>\n",
        "      <th>altitude</th>\n",
        "      <th>battery_level</th>\n",
        "      <th>bearing</th>\n",
        "      <th>lastupdate</th>\n",
        "      <th>latitude</th>\n",
        "      <th>longtitude</th>\n",
        "      <th>speed</th>\n",
        "      <th>timestamp</th>\n",
        "      <th>vehicleId</th>\n",
        "    </tr>\n",
        "  </thead>\n",
        "  <tbody>\n",
        "    <tr>\n",
        "      <th>-K7OsVnywuNEt4HCczqI</th>\n",
        "      <td>21.6</td>\n",
        "      <td>1739.2</td>\n",
        "      <td>87</td>\n",
        "      <td>129</td>\n",
        "      <td>07-01-2016 05:19:50:4</td>\n",
        "      <td>-0.862165</td>\n",
        "      <td>36.96167</td>\n",
        "      <td>41.1144</td>\n",
        "      <td>1452133190451</td>\n",
        "      <td>test001</td>\n",
        "    </tr>\n",
        "    <tr>\n",
        "      <th>-K7OsWXxLP7K5XkFTLIh</th>\n",
        "      <td>19.1</td>\n",
        "      <td>1739</td>\n",
        "      <td>87</td>\n",
        "      <td>111</td>\n",
        "      <td>07-01-2016 05:19:53:4</td>\n",
        "      <td>-0.862275</td>\n",
        "      <td>36.96192</td>\n",
        "      <td>35.0069</td>\n",
        "      <td>1452133193454</td>\n",
        "      <td>test001</td>\n",
        "    </tr>\n",
        "    <tr>\n",
        "      <th>-K7OsXGeZdlCz6pt0QY3</th>\n",
        "      <td>22</td>\n",
        "      <td>1739.1</td>\n",
        "      <td>87</td>\n",
        "      <td>116</td>\n",
        "      <td>07-01-2016 05:19:56:4</td>\n",
        "      <td>-0.8624283</td>\n",
        "      <td>36.96221</td>\n",
        "      <td>41.6925</td>\n",
        "      <td>1452133196466</td>\n",
        "      <td>test001</td>\n",
        "    </tr>\n",
        "    <tr>\n",
        "      <th>-K7OsY-y6ZwTiCfD5mOP</th>\n",
        "      <td>24.2</td>\n",
        "      <td>1739.3</td>\n",
        "      <td>87</td>\n",
        "      <td>120</td>\n",
        "      <td>07-01-2016 05:19:59:4</td>\n",
        "      <td>-0.8625983</td>\n",
        "      <td>36.96253</td>\n",
        "      <td>46.3343</td>\n",
        "      <td>1452133199458</td>\n",
        "      <td>test001</td>\n",
        "    </tr>\n",
        "    <tr>\n",
        "      <th>-K7OsYjOqNajh5Glp5uS</th>\n",
        "      <td>27.4</td>\n",
        "      <td>1739.6</td>\n",
        "      <td>87</td>\n",
        "      <td>127</td>\n",
        "      <td>07-01-2016 05:20:02:4</td>\n",
        "      <td>-0.86288</td>\n",
        "      <td>36.96288</td>\n",
        "      <td>53.4665</td>\n",
        "      <td>1452133202457</td>\n",
        "      <td>test001</td>\n",
        "    </tr>\n",
        "  </tbody>\n",
        "</table>\n",
        "</div>"
       ],
       "metadata": {},
       "output_type": "pyout",
       "prompt_number": 6,
       "text": [
        "                     accuracy altitude battery_level bearing  \\\n",
        "-K7OsVnywuNEt4HCczqI     21.6   1739.2            87     129   \n",
        "-K7OsWXxLP7K5XkFTLIh     19.1     1739            87     111   \n",
        "-K7OsXGeZdlCz6pt0QY3       22   1739.1            87     116   \n",
        "-K7OsY-y6ZwTiCfD5mOP     24.2   1739.3            87     120   \n",
        "-K7OsYjOqNajh5Glp5uS     27.4   1739.6            87     127   \n",
        "\n",
        "                                 lastupdate   latitude longtitude    speed  \\\n",
        "-K7OsVnywuNEt4HCczqI  07-01-2016 05:19:50:4  -0.862165   36.96167  41.1144   \n",
        "-K7OsWXxLP7K5XkFTLIh  07-01-2016 05:19:53:4  -0.862275   36.96192  35.0069   \n",
        "-K7OsXGeZdlCz6pt0QY3  07-01-2016 05:19:56:4 -0.8624283   36.96221  41.6925   \n",
        "-K7OsY-y6ZwTiCfD5mOP  07-01-2016 05:19:59:4 -0.8625983   36.96253  46.3343   \n",
        "-K7OsYjOqNajh5Glp5uS  07-01-2016 05:20:02:4   -0.86288   36.96288  53.4665   \n",
        "\n",
        "                          timestamp vehicleId  \n",
        "-K7OsVnywuNEt4HCczqI  1452133190451   test001  \n",
        "-K7OsWXxLP7K5XkFTLIh  1452133193454   test001  \n",
        "-K7OsXGeZdlCz6pt0QY3  1452133196466   test001  \n",
        "-K7OsY-y6ZwTiCfD5mOP  1452133199458   test001  \n",
        "-K7OsYjOqNajh5Glp5uS  1452133202457   test001  "
       ]
      }
     ],
     "prompt_number": 6
    },
    {
     "cell_type": "code",
     "collapsed": false,
     "input": [
      "import matplotlib.pyplot as plt"
     ],
     "language": "python",
     "metadata": {},
     "outputs": [],
     "prompt_number": 7
    },
    {
     "cell_type": "code",
     "collapsed": false,
     "input": [
      "%matplotlib inline"
     ],
     "language": "python",
     "metadata": {},
     "outputs": [],
     "prompt_number": 8
    },
    {
     "cell_type": "code",
     "collapsed": false,
     "input": [
      "ax, fig=plt.figure(figsize=(12,12))"
     ],
     "language": "python",
     "metadata": {},
     "outputs": [
      {
       "ename": "TypeError",
       "evalue": "'Figure' object is not iterable",
       "output_type": "pyerr",
       "traceback": [
        "\u001b[0;31m---------------------------------------------------------------------------\u001b[0m\n\u001b[0;31mTypeError\u001b[0m                                 Traceback (most recent call last)",
        "\u001b[0;32m<ipython-input-9-087be6cd99ae>\u001b[0m in \u001b[0;36m<module>\u001b[0;34m()\u001b[0m\n\u001b[0;32m----> 1\u001b[0;31m \u001b[0max\u001b[0m\u001b[0;34m,\u001b[0m \u001b[0mfig\u001b[0m\u001b[0;34m=\u001b[0m\u001b[0mplt\u001b[0m\u001b[0;34m.\u001b[0m\u001b[0mfigure\u001b[0m\u001b[0;34m(\u001b[0m\u001b[0mfigsize\u001b[0m\u001b[0;34m=\u001b[0m\u001b[0;34m(\u001b[0m\u001b[0;36m12\u001b[0m\u001b[0;34m,\u001b[0m\u001b[0;36m12\u001b[0m\u001b[0;34m)\u001b[0m\u001b[0;34m)\u001b[0m\u001b[0;34m\u001b[0m\u001b[0m\n\u001b[0m",
        "\u001b[0;31mTypeError\u001b[0m: 'Figure' object is not iterable"
       ]
      },
      {
       "metadata": {},
       "output_type": "display_data",
       "text": [
        "<matplotlib.figure.Figure at 0xb01d2a8c>"
       ]
      }
     ],
     "prompt_number": 9
    },
    {
     "cell_type": "code",
     "collapsed": false,
     "input": [
      "ax=plt.figure(figsize=(12,12))"
     ],
     "language": "python",
     "metadata": {},
     "outputs": [
      {
       "metadata": {},
       "output_type": "display_data",
       "text": [
        "<matplotlib.figure.Figure at 0xaf3ee6ec>"
       ]
      }
     ],
     "prompt_number": 10
    },
    {
     "cell_type": "code",
     "collapsed": false,
     "input": [
      "plt."
     ],
     "language": "python",
     "metadata": {},
     "outputs": [
      {
       "metadata": {},
       "output_type": "pyout",
       "prompt_number": 11,
       "text": [
        "[<matplotlib.lines.Line2D at 0xaf39912c>]"
       ]
      },
      {
       "metadata": {},
       "output_type": "display_data",
       "png": "[encoded data removed]",
       "text": [
        "<matplotlib.figure.Figure at 0xaf3ee0ec>"
       ]
      }
     ],
     "prompt_number": 11
    },
    {
     "cell_type": "code",
     "collapsed": false,
     "input": [
      "plt.xlabel(\"timestamp\")"
     ],
     "language": "python",
     "metadata": {},
     "outputs": [
      {
       "metadata": {},
       "output_type": "pyout",
       "prompt_number": 12,
       "text": [
        "<matplotlib.text.Text at 0xaf399dec>"
       ]
      },
      {
       "metadata": {},
       "output_type": "display_data",
       "png": "[encoded data removed]",
       "text": [
        "<matplotlib.figure.Figure at 0xaf3de1cc>"
       ]
      }
     ],
     "prompt_number": 12
    },
    {
     "cell_type": "code",
     "collapsed": false,
     "input": [
      "fig, axes = plt.subplots(figsize=(12,8))\n",
      "axes.plot(newdata[\"timestamp\"], newdata[\"speed\"])\n",
      "axes.set_xlabel(\"timestamp\")\n",
      "axes.set_ylabel(\"battery_level\")\n"
     ],
     "language": "python",
     "metadata": {},
     "outputs": [
      {
       "ename": "AttributeError",
       "evalue": "'Series' object has no attribute 'find'",
       "output_type": "pyerr",
       "traceback": [
        "\u001b[0;31m---------------------------------------------------------------------------\u001b[0m\n\u001b[0;31mAttributeError\u001b[0m                            Traceback (most recent call last)",
        "\u001b[0;32m<ipython-input-28-ba067c9fea7a>\u001b[0m in \u001b[0;36m<module>\u001b[0;34m()\u001b[0m\n\u001b[1;32m      1\u001b[0m \u001b[0mfig\u001b[0m\u001b[0;34m,\u001b[0m \u001b[0maxes\u001b[0m \u001b[0;34m=\u001b[0m \u001b[0mplt\u001b[0m\u001b[0;34m.\u001b[0m\u001b[0msubplots\u001b[0m\u001b[0;34m(\u001b[0m\u001b[0mfigsize\u001b[0m\u001b[0;34m=\u001b[0m\u001b[0;34m(\u001b[0m\u001b[0;36m12\u001b[0m\u001b[0;34m,\u001b[0m\u001b[0;36m8\u001b[0m\u001b[0;34m)\u001b[0m\u001b[0;34m)\u001b[0m\u001b[0;34m\u001b[0m\u001b[0m\n\u001b[0;32m----> 2\u001b[0;31m \u001b[0maxes\u001b[0m\u001b[0;34m.\u001b[0m\u001b[0mplot\u001b[0m\u001b[0;34m(\u001b[0m\u001b[0mnewdata\u001b[0m\u001b[0;34m[\u001b[0m\u001b[0;34m\"timestamp\"\u001b[0m\u001b[0;34m]\u001b[0m\u001b[0;34m,\u001b[0m \u001b[0mnewdata\u001b[0m\u001b[0;34m[\u001b[0m\u001b[0;34m\"speed\"\u001b[0m\u001b[0;34m]\u001b[0m\u001b[0;34m)\u001b[0m\u001b[0;34m\u001b[0m\u001b[0m\n\u001b[0m\u001b[1;32m      3\u001b[0m \u001b[0maxes\u001b[0m\u001b[0;34m.\u001b[0m\u001b[0mset_xlabel\u001b[0m\u001b[0;34m(\u001b[0m\u001b[0;34m\"timestamp\"\u001b[0m\u001b[0;34m)\u001b[0m\u001b[0;34m\u001b[0m\u001b[0m\n\u001b[1;32m      4\u001b[0m \u001b[0maxes\u001b[0m\u001b[0;34m.\u001b[0m\u001b[0mset_ylabel\u001b[0m\u001b[0;34m(\u001b[0m\u001b[0;34m\"battery_level\"\u001b[0m\u001b[0;34m)\u001b[0m\u001b[0;34m\u001b[0m\u001b[0m\n",
        "\u001b[0;32m/usr/lib/pymodules/python2.7/matplotlib/axes.pyc\u001b[0m in \u001b[0;36mplot\u001b[0;34m(self, *args, **kwargs)\u001b[0m\n\u001b[1;32m   4135\u001b[0m         \u001b[0mlines\u001b[0m \u001b[0;34m=\u001b[0m \u001b[0;34m[\u001b[0m\u001b[0;34m]\u001b[0m\u001b[0;34m\u001b[0m\u001b[0m\n\u001b[1;32m   4136\u001b[0m \u001b[0;34m\u001b[0m\u001b[0m\n\u001b[0;32m-> 4137\u001b[0;31m         \u001b[0;32mfor\u001b[0m \u001b[0mline\u001b[0m \u001b[0;32min\u001b[0m \u001b[0mself\u001b[0m\u001b[0;34m.\u001b[0m\u001b[0m_get_lines\u001b[0m\u001b[0;34m(\u001b[0m\u001b[0;34m*\u001b[0m\u001b[0margs\u001b[0m\u001b[0;34m,\u001b[0m \u001b[0;34m**\u001b[0m\u001b[0mkwargs\u001b[0m\u001b[0;34m)\u001b[0m\u001b[0;34m:\u001b[0m\u001b[0;34m\u001b[0m\u001b[0m\n\u001b[0m\u001b[1;32m   4138\u001b[0m             \u001b[0mself\u001b[0m\u001b[0;34m.\u001b[0m\u001b[0madd_line\u001b[0m\u001b[0;34m(\u001b[0m\u001b[0mline\u001b[0m\u001b[0;34m)\u001b[0m\u001b[0;34m\u001b[0m\u001b[0m\n\u001b[1;32m   4139\u001b[0m             \u001b[0mlines\u001b[0m\u001b[0;34m.\u001b[0m\u001b[0mappend\u001b[0m\u001b[0;34m(\u001b[0m\u001b[0mline\u001b[0m\u001b[0;34m)\u001b[0m\u001b[0;34m\u001b[0m\u001b[0m\n",
        "\u001b[0;32m/usr/lib/pymodules/python2.7/matplotlib/axes.pyc\u001b[0m in \u001b[0;36m_grab_next_args\u001b[0;34m(self, *args, **kwargs)\u001b[0m\n\u001b[1;32m    315\u001b[0m                 \u001b[0;32mreturn\u001b[0m\u001b[0;34m\u001b[0m\u001b[0m\n\u001b[1;32m    316\u001b[0m             \u001b[0;32mif\u001b[0m \u001b[0mlen\u001b[0m\u001b[0;34m(\u001b[0m\u001b[0mremaining\u001b[0m\u001b[0;34m)\u001b[0m \u001b[0;34m<=\u001b[0m \u001b[0;36m3\u001b[0m\u001b[0;34m:\u001b[0m\u001b[0;34m\u001b[0m\u001b[0m\n\u001b[0;32m--> 317\u001b[0;31m                 \u001b[0;32mfor\u001b[0m \u001b[0mseg\u001b[0m \u001b[0;32min\u001b[0m \u001b[0mself\u001b[0m\u001b[0;34m.\u001b[0m\u001b[0m_plot_args\u001b[0m\u001b[0;34m(\u001b[0m\u001b[0mremaining\u001b[0m\u001b[0;34m,\u001b[0m \u001b[0mkwargs\u001b[0m\u001b[0;34m)\u001b[0m\u001b[0;34m:\u001b[0m\u001b[0;34m\u001b[0m\u001b[0m\n\u001b[0m\u001b[1;32m    318\u001b[0m                     \u001b[0;32myield\u001b[0m \u001b[0mseg\u001b[0m\u001b[0;34m\u001b[0m\u001b[0m\n\u001b[1;32m    319\u001b[0m                 \u001b[0;32mreturn\u001b[0m\u001b[0;34m\u001b[0m\u001b[0m\n",
        "\u001b[0;32m/usr/lib/pymodules/python2.7/matplotlib/axes.pyc\u001b[0m in \u001b[0;36m_plot_args\u001b[0;34m(self, tup, kwargs)\u001b[0m\n\u001b[1;32m    274\u001b[0m         \u001b[0mret\u001b[0m \u001b[0;34m=\u001b[0m \u001b[0;34m[\u001b[0m\u001b[0;34m]\u001b[0m\u001b[0;34m\u001b[0m\u001b[0m\n\u001b[1;32m    275\u001b[0m         \u001b[0;32mif\u001b[0m \u001b[0mlen\u001b[0m\u001b[0;34m(\u001b[0m\u001b[0mtup\u001b[0m\u001b[0;34m)\u001b[0m \u001b[0;34m>\u001b[0m \u001b[0;36m1\u001b[0m \u001b[0;32mand\u001b[0m \u001b[0mis_string_like\u001b[0m\u001b[0;34m(\u001b[0m\u001b[0mtup\u001b[0m\u001b[0;34m[\u001b[0m\u001b[0;34m-\u001b[0m\u001b[0;36m1\u001b[0m\u001b[0;34m]\u001b[0m\u001b[0;34m)\u001b[0m\u001b[0;34m:\u001b[0m\u001b[0;34m\u001b[0m\u001b[0m\n\u001b[0;32m--> 276\u001b[0;31m             \u001b[0mlinestyle\u001b[0m\u001b[0;34m,\u001b[0m \u001b[0mmarker\u001b[0m\u001b[0;34m,\u001b[0m \u001b[0mcolor\u001b[0m \u001b[0;34m=\u001b[0m \u001b[0m_process_plot_format\u001b[0m\u001b[0;34m(\u001b[0m\u001b[0mtup\u001b[0m\u001b[0;34m[\u001b[0m\u001b[0;34m-\u001b[0m\u001b[0;36m1\u001b[0m\u001b[0;34m]\u001b[0m\u001b[0;34m)\u001b[0m\u001b[0;34m\u001b[0m\u001b[0m\n\u001b[0m\u001b[1;32m    277\u001b[0m             \u001b[0mtup\u001b[0m \u001b[0;34m=\u001b[0m \u001b[0mtup\u001b[0m\u001b[0;34m[\u001b[0m\u001b[0;34m:\u001b[0m\u001b[0;34m-\u001b[0m\u001b[0;36m1\u001b[0m\u001b[0;34m]\u001b[0m\u001b[0;34m\u001b[0m\u001b[0m\n\u001b[1;32m    278\u001b[0m         \u001b[0;32melif\u001b[0m \u001b[0mlen\u001b[0m\u001b[0;34m(\u001b[0m\u001b[0mtup\u001b[0m\u001b[0;34m)\u001b[0m \u001b[0;34m==\u001b[0m \u001b[0;36m3\u001b[0m\u001b[0;34m:\u001b[0m\u001b[0;34m\u001b[0m\u001b[0m\n",
        "\u001b[0;32m/usr/lib/pymodules/python2.7/matplotlib/axes.pyc\u001b[0m in \u001b[0;36m_process_plot_format\u001b[0;34m(fmt)\u001b[0m\n\u001b[1;32m     97\u001b[0m     \u001b[0;31m# handle the multi char special cases and strip them from the\u001b[0m\u001b[0;34m\u001b[0m\u001b[0;34m\u001b[0m\u001b[0m\n\u001b[1;32m     98\u001b[0m     \u001b[0;31m# string\u001b[0m\u001b[0;34m\u001b[0m\u001b[0;34m\u001b[0m\u001b[0m\n\u001b[0;32m---> 99\u001b[0;31m     \u001b[0;32mif\u001b[0m \u001b[0mfmt\u001b[0m\u001b[0;34m.\u001b[0m\u001b[0mfind\u001b[0m\u001b[0;34m(\u001b[0m\u001b[0;34m'--'\u001b[0m\u001b[0;34m)\u001b[0m \u001b[0;34m>=\u001b[0m \u001b[0;36m0\u001b[0m\u001b[0;34m:\u001b[0m\u001b[0;34m\u001b[0m\u001b[0m\n\u001b[0m\u001b[1;32m    100\u001b[0m         \u001b[0mlinestyle\u001b[0m \u001b[0;34m=\u001b[0m \u001b[0;34m'--'\u001b[0m\u001b[0;34m\u001b[0m\u001b[0m\n\u001b[1;32m    101\u001b[0m         \u001b[0mfmt\u001b[0m \u001b[0;34m=\u001b[0m \u001b[0mfmt\u001b[0m\u001b[0;34m.\u001b[0m\u001b[0mreplace\u001b[0m\u001b[0;34m(\u001b[0m\u001b[0;34m'--'\u001b[0m\u001b[0;34m,\u001b[0m \u001b[0;34m''\u001b[0m\u001b[0;34m)\u001b[0m\u001b[0;34m\u001b[0m\u001b[0m\n",
        "\u001b[0;32m/usr/local/lib/python2.7/dist-packages/pandas/core/generic.pyc\u001b[0m in \u001b[0;36m__getattr__\u001b[0;34m(self, name)\u001b[0m\n\u001b[1;32m   2148\u001b[0m                 \u001b[0;32mreturn\u001b[0m \u001b[0mself\u001b[0m\u001b[0;34m[\u001b[0m\u001b[0mname\u001b[0m\u001b[0;34m]\u001b[0m\u001b[0;34m\u001b[0m\u001b[0m\n\u001b[1;32m   2149\u001b[0m             raise AttributeError(\"'%s' object has no attribute '%s'\" %\n\u001b[0;32m-> 2150\u001b[0;31m                                  (type(self).__name__, name))\n\u001b[0m\u001b[1;32m   2151\u001b[0m \u001b[0;34m\u001b[0m\u001b[0m\n\u001b[1;32m   2152\u001b[0m     \u001b[0;32mdef\u001b[0m \u001b[0m__setattr__\u001b[0m\u001b[0;34m(\u001b[0m\u001b[0mself\u001b[0m\u001b[0;34m,\u001b[0m \u001b[0mname\u001b[0m\u001b[0;34m,\u001b[0m \u001b[0mvalue\u001b[0m\u001b[0;34m)\u001b[0m\u001b[0;34m:\u001b[0m\u001b[0;34m\u001b[0m\u001b[0m\n",
        "\u001b[0;31mAttributeError\u001b[0m: 'Series' object has no attribute 'find'"
       ]
      },
      {
       "metadata": {},
       "output_type": "display_data",
       "png": "[encoded data removed]",
       "text": [
        "<matplotlib.figure.Figure at 0xaebf7bec>"
       ]
      }
     ],
     "prompt_number": 28
    },
    {
     "cell_type": "code",
     "collapsed": false,
     "input": [],
     "language": "python",
     "metadata": {},
     "outputs": []
    },
    {
     "cell_type": "code",
     "collapsed": false,
     "input": [
      "acc=pd.read_json(\"Desktop/safedrive-app-test002-export.json\")\n",
      "acc=acc.T"
     ],
     "language": "python",
     "metadata": {},
     "outputs": [],
     "prompt_number": 29
    },
    {
     "cell_type": "code",
     "collapsed": false,
     "input": [],
     "language": "python",
     "metadata": {},
     "outputs": [
      {
       "ename": "KeyError",
       "evalue": "100",
       "output_type": "pyerr",
       "traceback": [
        "\u001b[0;31m---------------------------------------------------------------------------\u001b[0m\n\u001b[0;31mKeyError\u001b[0m                                  Traceback (most recent call last)",
        "\u001b[0;32m<ipython-input-27-54a285ccaaac>\u001b[0m in \u001b[0;36m<module>\u001b[0;34m()\u001b[0m\n\u001b[0;32m----> 1\u001b[0;31m \u001b[0macc\u001b[0m\u001b[0;34m=\u001b[0m\u001b[0macc\u001b[0m\u001b[0;34m[\u001b[0m\u001b[0;36m100\u001b[0m\u001b[0;34m]\u001b[0m\u001b[0;34m\u001b[0m\u001b[0m\n\u001b[0m",
        "\u001b[0;32m/usr/local/lib/python2.7/dist-packages/pandas/core/frame.pyc\u001b[0m in \u001b[0;36m__getitem__\u001b[0;34m(self, key)\u001b[0m\n\u001b[1;32m   1795\u001b[0m             \u001b[0;32mreturn\u001b[0m \u001b[0mself\u001b[0m\u001b[0;34m.\u001b[0m\u001b[0m_getitem_multilevel\u001b[0m\u001b[0;34m(\u001b[0m\u001b[0mkey\u001b[0m\u001b[0;34m)\u001b[0m\u001b[0;34m\u001b[0m\u001b[0m\n\u001b[1;32m   1796\u001b[0m         \u001b[0;32melse\u001b[0m\u001b[0;34m:\u001b[0m\u001b[0;34m\u001b[0m\u001b[0m\n\u001b[0;32m-> 1797\u001b[0;31m             \u001b[0;32mreturn\u001b[0m \u001b[0mself\u001b[0m\u001b[0;34m.\u001b[0m\u001b[0m_getitem_column\u001b[0m\u001b[0;34m(\u001b[0m\u001b[0mkey\u001b[0m\u001b[0;34m)\u001b[0m\u001b[0;34m\u001b[0m\u001b[0m\n\u001b[0m\u001b[1;32m   1798\u001b[0m \u001b[0;34m\u001b[0m\u001b[0m\n\u001b[1;32m   1799\u001b[0m     \u001b[0;32mdef\u001b[0m \u001b[0m_getitem_column\u001b[0m\u001b[0;34m(\u001b[0m\u001b[0mself\u001b[0m\u001b[0;34m,\u001b[0m \u001b[0mkey\u001b[0m\u001b[0;34m)\u001b[0m\u001b[0;34m:\u001b[0m\u001b[0;34m\u001b[0m\u001b[0m\n",
        "\u001b[0;32m/usr/local/lib/python2.7/dist-packages/pandas/core/frame.pyc\u001b[0m in \u001b[0;36m_getitem_column\u001b[0;34m(self, key)\u001b[0m\n\u001b[1;32m   1802\u001b[0m         \u001b[0;31m# get column\u001b[0m\u001b[0;34m\u001b[0m\u001b[0;34m\u001b[0m\u001b[0m\n\u001b[1;32m   1803\u001b[0m         \u001b[0;32mif\u001b[0m \u001b[0mself\u001b[0m\u001b[0;34m.\u001b[0m\u001b[0mcolumns\u001b[0m\u001b[0;34m.\u001b[0m\u001b[0mis_unique\u001b[0m\u001b[0;34m:\u001b[0m\u001b[0;34m\u001b[0m\u001b[0m\n\u001b[0;32m-> 1804\u001b[0;31m             \u001b[0;32mreturn\u001b[0m \u001b[0mself\u001b[0m\u001b[0;34m.\u001b[0m\u001b[0m_get_item_cache\u001b[0m\u001b[0;34m(\u001b[0m\u001b[0mkey\u001b[0m\u001b[0;34m)\u001b[0m\u001b[0;34m\u001b[0m\u001b[0m\n\u001b[0m\u001b[1;32m   1805\u001b[0m \u001b[0;34m\u001b[0m\u001b[0m\n\u001b[1;32m   1806\u001b[0m         \u001b[0;31m# duplicate columns & possible reduce dimensionaility\u001b[0m\u001b[0;34m\u001b[0m\u001b[0;34m\u001b[0m\u001b[0m\n",
        "\u001b[0;32m/usr/local/lib/python2.7/dist-packages/pandas/core/generic.pyc\u001b[0m in \u001b[0;36m_get_item_cache\u001b[0;34m(self, item)\u001b[0m\n\u001b[1;32m   1082\u001b[0m         \u001b[0mres\u001b[0m \u001b[0;34m=\u001b[0m \u001b[0mcache\u001b[0m\u001b[0;34m.\u001b[0m\u001b[0mget\u001b[0m\u001b[0;34m(\u001b[0m\u001b[0mitem\u001b[0m\u001b[0;34m)\u001b[0m\u001b[0;34m\u001b[0m\u001b[0m\n\u001b[1;32m   1083\u001b[0m         \u001b[0;32mif\u001b[0m \u001b[0mres\u001b[0m \u001b[0;32mis\u001b[0m \u001b[0mNone\u001b[0m\u001b[0;34m:\u001b[0m\u001b[0;34m\u001b[0m\u001b[0m\n\u001b[0;32m-> 1084\u001b[0;31m             \u001b[0mvalues\u001b[0m \u001b[0;34m=\u001b[0m \u001b[0mself\u001b[0m\u001b[0;34m.\u001b[0m\u001b[0m_data\u001b[0m\u001b[0;34m.\u001b[0m\u001b[0mget\u001b[0m\u001b[0;34m(\u001b[0m\u001b[0mitem\u001b[0m\u001b[0;34m)\u001b[0m\u001b[0;34m\u001b[0m\u001b[0m\n\u001b[0m\u001b[1;32m   1085\u001b[0m             \u001b[0mres\u001b[0m \u001b[0;34m=\u001b[0m \u001b[0mself\u001b[0m\u001b[0;34m.\u001b[0m\u001b[0m_box_item_values\u001b[0m\u001b[0;34m(\u001b[0m\u001b[0mitem\u001b[0m\u001b[0;34m,\u001b[0m \u001b[0mvalues\u001b[0m\u001b[0;34m)\u001b[0m\u001b[0;34m\u001b[0m\u001b[0m\n\u001b[1;32m   1086\u001b[0m             \u001b[0mcache\u001b[0m\u001b[0;34m[\u001b[0m\u001b[0mitem\u001b[0m\u001b[0;34m]\u001b[0m \u001b[0;34m=\u001b[0m \u001b[0mres\u001b[0m\u001b[0;34m\u001b[0m\u001b[0m\n",
        "\u001b[0;32m/usr/local/lib/python2.7/dist-packages/pandas/core/internals.pyc\u001b[0m in \u001b[0;36mget\u001b[0;34m(self, item, fastpath)\u001b[0m\n\u001b[1;32m   2849\u001b[0m \u001b[0;34m\u001b[0m\u001b[0m\n\u001b[1;32m   2850\u001b[0m             \u001b[0;32mif\u001b[0m \u001b[0;32mnot\u001b[0m \u001b[0misnull\u001b[0m\u001b[0;34m(\u001b[0m\u001b[0mitem\u001b[0m\u001b[0;34m)\u001b[0m\u001b[0;34m:\u001b[0m\u001b[0;34m\u001b[0m\u001b[0m\n\u001b[0;32m-> 2851\u001b[0;31m                 \u001b[0mloc\u001b[0m \u001b[0;34m=\u001b[0m \u001b[0mself\u001b[0m\u001b[0;34m.\u001b[0m\u001b[0mitems\u001b[0m\u001b[0;34m.\u001b[0m\u001b[0mget_loc\u001b[0m\u001b[0;34m(\u001b[0m\u001b[0mitem\u001b[0m\u001b[0;34m)\u001b[0m\u001b[0;34m\u001b[0m\u001b[0m\n\u001b[0m\u001b[1;32m   2852\u001b[0m             \u001b[0;32melse\u001b[0m\u001b[0;34m:\u001b[0m\u001b[0;34m\u001b[0m\u001b[0m\n\u001b[1;32m   2853\u001b[0m                 \u001b[0mindexer\u001b[0m \u001b[0;34m=\u001b[0m \u001b[0mnp\u001b[0m\u001b[0;34m.\u001b[0m\u001b[0marange\u001b[0m\u001b[0;34m(\u001b[0m\u001b[0mlen\u001b[0m\u001b[0;34m(\u001b[0m\u001b[0mself\u001b[0m\u001b[0;34m.\u001b[0m\u001b[0mitems\u001b[0m\u001b[0;34m)\u001b[0m\u001b[0;34m)\u001b[0m\u001b[0;34m[\u001b[0m\u001b[0misnull\u001b[0m\u001b[0;34m(\u001b[0m\u001b[0mself\u001b[0m\u001b[0;34m.\u001b[0m\u001b[0mitems\u001b[0m\u001b[0;34m)\u001b[0m\u001b[0;34m]\u001b[0m\u001b[0;34m\u001b[0m\u001b[0m\n",
        "\u001b[0;32m/usr/local/lib/python2.7/dist-packages/pandas/core/index.pyc\u001b[0m in \u001b[0;36mget_loc\u001b[0;34m(self, key, method)\u001b[0m\n\u001b[1;32m   1570\u001b[0m         \"\"\"\n\u001b[1;32m   1571\u001b[0m         \u001b[0;32mif\u001b[0m \u001b[0mmethod\u001b[0m \u001b[0;32mis\u001b[0m \u001b[0mNone\u001b[0m\u001b[0;34m:\u001b[0m\u001b[0;34m\u001b[0m\u001b[0m\n\u001b[0;32m-> 1572\u001b[0;31m             \u001b[0;32mreturn\u001b[0m \u001b[0mself\u001b[0m\u001b[0;34m.\u001b[0m\u001b[0m_engine\u001b[0m\u001b[0;34m.\u001b[0m\u001b[0mget_loc\u001b[0m\u001b[0;34m(\u001b[0m\u001b[0m_values_from_object\u001b[0m\u001b[0;34m(\u001b[0m\u001b[0mkey\u001b[0m\u001b[0;34m)\u001b[0m\u001b[0;34m)\u001b[0m\u001b[0;34m\u001b[0m\u001b[0m\n\u001b[0m\u001b[1;32m   1573\u001b[0m \u001b[0;34m\u001b[0m\u001b[0m\n\u001b[1;32m   1574\u001b[0m         \u001b[0mindexer\u001b[0m \u001b[0;34m=\u001b[0m \u001b[0mself\u001b[0m\u001b[0;34m.\u001b[0m\u001b[0mget_indexer\u001b[0m\u001b[0;34m(\u001b[0m\u001b[0;34m[\u001b[0m\u001b[0mkey\u001b[0m\u001b[0;34m]\u001b[0m\u001b[0;34m,\u001b[0m \u001b[0mmethod\u001b[0m\u001b[0;34m=\u001b[0m\u001b[0mmethod\u001b[0m\u001b[0;34m)\u001b[0m\u001b[0;34m\u001b[0m\u001b[0m\n",
        "\u001b[0;32m/usr/local/lib/python2.7/dist-packages/pandas/index.so\u001b[0m in \u001b[0;36mpandas.index.IndexEngine.get_loc (pandas/index.c:3824)\u001b[0;34m()\u001b[0m\n",
        "\u001b[0;32m/usr/local/lib/python2.7/dist-packages/pandas/index.so\u001b[0m in \u001b[0;36mpandas.index.IndexEngine.get_loc (pandas/index.c:3704)\u001b[0;34m()\u001b[0m\n",
        "\u001b[0;32m/usr/local/lib/python2.7/dist-packages/pandas/hashtable.so\u001b[0m in \u001b[0;36mpandas.hashtable.PyObjectHashTable.get_item (pandas/hashtable.c:12280)\u001b[0;34m()\u001b[0m\n",
        "\u001b[0;32m/usr/local/lib/python2.7/dist-packages/pandas/hashtable.so\u001b[0m in \u001b[0;36mpandas.hashtable.PyObjectHashTable.get_item (pandas/hashtable.c:12231)\u001b[0;34m()\u001b[0m\n",
        "\u001b[0;31mKeyError\u001b[0m: 100"
       ]
      }
     ],
     "prompt_number": 27
    },
    {
     "cell_type": "code",
     "collapsed": false,
     "input": [
      "acc.dtypes"
     ],
     "language": "python",
     "metadata": {},
     "outputs": [
      {
       "metadata": {},
       "output_type": "pyout",
       "prompt_number": 32,
       "text": [
        "accuracy         object\n",
        "altitude         object\n",
        "battery_level    object\n",
        "bearing          object\n",
        "lastupdate       object\n",
        "latitude         object\n",
        "longtitude       object\n",
        "speed            object\n",
        "timestamp        object\n",
        "vehicleId        object\n",
        "dtype: object"
       ]
      }
     ],
     "prompt_number": 32
    },
    {
     "cell_type": "code",
     "collapsed": false,
     "input": [],
     "language": "python",
     "metadata": {},
     "outputs": []
    },
    {
     "cell_type": "code",
     "collapsed": false,
     "input": [
      "fig, axes = plt.subplots(figsize=(12,8))\n",
      "axes.plot(acc[\"timestamp\"], acc[\"speed\"])\n"
     ],
     "language": "python",
     "metadata": {},
     "outputs": [
      {
       "metadata": {},
       "output_type": "pyout",
       "prompt_number": 30,
       "text": [
        "[<matplotlib.lines.Line2D at 0xae95972c>]"
       ]
      },
      {
       "metadata": {},
       "output_type": "display_data",
       "png": "[encoded data removed]",
       "text": [
        "<matplotlib.figure.Figure at 0xaf13df8c>"
       ]
      }
     ],
     "prompt_number": 30
    },
    {
     "cell_type": "code",
     "collapsed": false,
     "input": [
      "newdata=acc\n",
      "fig, axes = plt.subplots(figsize=(24,8))\n",
      "axes.plot(newdata[\"timestamp\"], newdata[\"speed\"])\n",
      "axes.set_xlabel(\"timestamp\")\n",
      "axes.set_ylabel(\"speeds(Km/h)\")\n",
      "axes.set_title(\"Survey on Driving Speeds\")"
     ],
     "language": "python",
     "metadata": {},
     "outputs": [
      {
       "metadata": {},
       "output_type": "pyout",
       "prompt_number": 37,
       "text": [
        "<matplotlib.text.Text at 0xabe9096c>"
       ]
      },
      {
       "metadata": {},
       "output_type": "display_data",
       "png": "[encoded data removed]",
       "text": [
        "<matplotlib.figure.Figure at 0xaf3e436c>"
       ]
      }
     ],
     "prompt_number": 37
    },
    {
     "cell_type": "code",
     "collapsed": false,
     "input": [
      "fig.savefig(\"Desktop/drivingspeeds.png\")"
     ],
     "language": "python",
     "metadata": {},
     "outputs": [],
     "prompt_number": 38
    },
    {
     "cell_type": "code",
     "collapsed": false,
     "input": [],
     "language": "python",
     "metadata": {},
     "outputs": []
    }
   ],
   "metadata": {}
  }
 ]
}